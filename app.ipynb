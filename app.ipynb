{
 "cells": [
  {
   "cell_type": "code",
   "execution_count": 79,
   "metadata": {
    "collapsed": true,
    "ExecuteTime": {
     "end_time": "2023-07-23T00:27:35.127950300Z",
     "start_time": "2023-07-23T00:27:34.886878200Z"
    }
   },
   "outputs": [],
   "source": [
    "import matplotlib.pyplot as plt\n",
    "import pandas\n",
    "import pandas as pd"
   ]
  },
  {
   "cell_type": "markdown",
   "source": [
    "# Data Loading"
   ],
   "metadata": {
    "collapsed": false
   }
  },
  {
   "cell_type": "code",
   "execution_count": 80,
   "outputs": [
    {
     "data": {
      "text/plain": "                                         Nama Restoran Preferensi Makanan  \\\n0                  Mie Bandung Chinese Food, Ngampilan            Chinese   \n1    Soto Tauco Pekalongan Bu Iswi, Jalan Bimokurdo...          Indonesia   \n2         Spesial Bakso Pak Jum Balai Kota, Umbulharjo          Indonesia   \n3       Soto Ayam Kampung Dan Soto Daging Sapi Pak Ben          Indonesia   \n4                                            Toba Tabo            Chinese   \n..                                                 ...                ...   \n286                             OMAH STEAK AND CHICKEN            Western   \n287                  Pondok Cabe Bistro, C Simanjuntak            Western   \n288                          Waroeng Spaghetti Balapan            Western   \n289                            Burgerax, Patangpuluhan            Western   \n290     Shaburi & Kintan Buffet, Ambarukmo Plaza Yogya           Japanese   \n\n    Lokasi Restoran  Harga Rata-Rata Makanan di Toko (Rp)  Rating Toko  \\\n0           3.23 km                                 39000          4.7   \n1           3.01 km                                 19000          3.7   \n2           1.44 km                                 18000          3.6   \n3           0.83 km                                 22000          3.8   \n4           2.13 km                                 40000          4.7   \n..              ...                                   ...          ...   \n286         2.31 km                                 34000          4.7   \n287         4.25 km                                 35000          4.5   \n288         3.25 km                                 25000          4.7   \n289         4.59 km                                 38000          4.7   \n290         3.67 km                                330000          4.8   \n\n    Jenis Suasana Toko Sering Diskon (Ya/Tidak)  \\\n0          Santai                         Tidak   \n1          Santai                         Tidak   \n2          Santai                         Tidak   \n3          Santai                         Tidak   \n4          Santai                         Tidak   \n..            ...                           ...   \n286        Santai                         Tidak   \n287        Santai                         Tidak   \n288        Santai                            Ya   \n289        Santai                         Tidak   \n290        Formal                         Tidak   \n\n                                       Variasi Makanan  \\\n0                          Bakmie, Aneka nasi, Chinese   \n1                    Bakso & soto, Cepat saji, Minuman   \n2                       Bakso & soto, Jajanan, Minuman   \n3                                Bakso & soto, Minuman   \n4                          Cepat saji, Bakmie, Chinese   \n..                                                 ...   \n286                                            Western   \n287  Western, Pizza & pasta, Rice, Chicken & duck, ...   \n288                                    Western, Snacks   \n289                         Western, Snacks, Fast food   \n290                     Japanese, Rice, Chicken & duck   \n\n    Pelayanan Khusus Pasangan (Ya/Tidak)  Entertainment  Keramaian Restoran  \\\n0                                  Tidak              3                   3   \n1                                  Tidak              2                   2   \n2                                  Tidak              2                   2   \n3                                  Tidak              1                   2   \n4                                  Tidak              1                   3   \n..                                   ...            ...                 ...   \n286                                Tidak              3                   2   \n287                                Tidak              4                   3   \n288                                Tidak              2                   2   \n289                                Tidak              4                   3   \n290                                Tidak              1                   2   \n\n    Disajikan atau Ambil Sendiri All You Can Eat atau Ala Carte  \n0                      Disajikan                      Ala Carte  \n1                      Disajikan                      Ala Carte  \n2                      Disajikan                      Ala Carte  \n3                      Disajikan                      Ala Carte  \n4                      Disajikan                      Ala Carte  \n..                           ...                            ...  \n286                    Disajikan                      Ala Carte  \n287                    Disajikan                      Ala Carte  \n288                    Disajikan                      Ala Carte  \n289                    Disajikan                      Ala Carte  \n290                Ambil Sendiri                All You Can Eat  \n\n[291 rows x 13 columns]",
      "text/html": "<div>\n<style scoped>\n    .dataframe tbody tr th:only-of-type {\n        vertical-align: middle;\n    }\n\n    .dataframe tbody tr th {\n        vertical-align: top;\n    }\n\n    .dataframe thead th {\n        text-align: right;\n    }\n</style>\n<table border=\"1\" class=\"dataframe\">\n  <thead>\n    <tr style=\"text-align: right;\">\n      <th></th>\n      <th>Nama Restoran</th>\n      <th>Preferensi Makanan</th>\n      <th>Lokasi Restoran</th>\n      <th>Harga Rata-Rata Makanan di Toko (Rp)</th>\n      <th>Rating Toko</th>\n      <th>Jenis Suasana</th>\n      <th>Toko Sering Diskon (Ya/Tidak)</th>\n      <th>Variasi Makanan</th>\n      <th>Pelayanan Khusus Pasangan (Ya/Tidak)</th>\n      <th>Entertainment</th>\n      <th>Keramaian Restoran</th>\n      <th>Disajikan atau Ambil Sendiri</th>\n      <th>All You Can Eat atau Ala Carte</th>\n    </tr>\n  </thead>\n  <tbody>\n    <tr>\n      <th>0</th>\n      <td>Mie Bandung Chinese Food, Ngampilan</td>\n      <td>Chinese</td>\n      <td>3.23 km</td>\n      <td>39000</td>\n      <td>4.7</td>\n      <td>Santai</td>\n      <td>Tidak</td>\n      <td>Bakmie, Aneka nasi, Chinese</td>\n      <td>Tidak</td>\n      <td>3</td>\n      <td>3</td>\n      <td>Disajikan</td>\n      <td>Ala Carte</td>\n    </tr>\n    <tr>\n      <th>1</th>\n      <td>Soto Tauco Pekalongan Bu Iswi, Jalan Bimokurdo...</td>\n      <td>Indonesia</td>\n      <td>3.01 km</td>\n      <td>19000</td>\n      <td>3.7</td>\n      <td>Santai</td>\n      <td>Tidak</td>\n      <td>Bakso &amp; soto, Cepat saji, Minuman</td>\n      <td>Tidak</td>\n      <td>2</td>\n      <td>2</td>\n      <td>Disajikan</td>\n      <td>Ala Carte</td>\n    </tr>\n    <tr>\n      <th>2</th>\n      <td>Spesial Bakso Pak Jum Balai Kota, Umbulharjo</td>\n      <td>Indonesia</td>\n      <td>1.44 km</td>\n      <td>18000</td>\n      <td>3.6</td>\n      <td>Santai</td>\n      <td>Tidak</td>\n      <td>Bakso &amp; soto, Jajanan, Minuman</td>\n      <td>Tidak</td>\n      <td>2</td>\n      <td>2</td>\n      <td>Disajikan</td>\n      <td>Ala Carte</td>\n    </tr>\n    <tr>\n      <th>3</th>\n      <td>Soto Ayam Kampung Dan Soto Daging Sapi Pak Ben</td>\n      <td>Indonesia</td>\n      <td>0.83 km</td>\n      <td>22000</td>\n      <td>3.8</td>\n      <td>Santai</td>\n      <td>Tidak</td>\n      <td>Bakso &amp; soto, Minuman</td>\n      <td>Tidak</td>\n      <td>1</td>\n      <td>2</td>\n      <td>Disajikan</td>\n      <td>Ala Carte</td>\n    </tr>\n    <tr>\n      <th>4</th>\n      <td>Toba Tabo</td>\n      <td>Chinese</td>\n      <td>2.13 km</td>\n      <td>40000</td>\n      <td>4.7</td>\n      <td>Santai</td>\n      <td>Tidak</td>\n      <td>Cepat saji, Bakmie, Chinese</td>\n      <td>Tidak</td>\n      <td>1</td>\n      <td>3</td>\n      <td>Disajikan</td>\n      <td>Ala Carte</td>\n    </tr>\n    <tr>\n      <th>...</th>\n      <td>...</td>\n      <td>...</td>\n      <td>...</td>\n      <td>...</td>\n      <td>...</td>\n      <td>...</td>\n      <td>...</td>\n      <td>...</td>\n      <td>...</td>\n      <td>...</td>\n      <td>...</td>\n      <td>...</td>\n      <td>...</td>\n    </tr>\n    <tr>\n      <th>286</th>\n      <td>OMAH STEAK AND CHICKEN</td>\n      <td>Western</td>\n      <td>2.31 km</td>\n      <td>34000</td>\n      <td>4.7</td>\n      <td>Santai</td>\n      <td>Tidak</td>\n      <td>Western</td>\n      <td>Tidak</td>\n      <td>3</td>\n      <td>2</td>\n      <td>Disajikan</td>\n      <td>Ala Carte</td>\n    </tr>\n    <tr>\n      <th>287</th>\n      <td>Pondok Cabe Bistro, C Simanjuntak</td>\n      <td>Western</td>\n      <td>4.25 km</td>\n      <td>35000</td>\n      <td>4.5</td>\n      <td>Santai</td>\n      <td>Tidak</td>\n      <td>Western, Pizza &amp; pasta, Rice, Chicken &amp; duck, ...</td>\n      <td>Tidak</td>\n      <td>4</td>\n      <td>3</td>\n      <td>Disajikan</td>\n      <td>Ala Carte</td>\n    </tr>\n    <tr>\n      <th>288</th>\n      <td>Waroeng Spaghetti Balapan</td>\n      <td>Western</td>\n      <td>3.25 km</td>\n      <td>25000</td>\n      <td>4.7</td>\n      <td>Santai</td>\n      <td>Ya</td>\n      <td>Western, Snacks</td>\n      <td>Tidak</td>\n      <td>2</td>\n      <td>2</td>\n      <td>Disajikan</td>\n      <td>Ala Carte</td>\n    </tr>\n    <tr>\n      <th>289</th>\n      <td>Burgerax, Patangpuluhan</td>\n      <td>Western</td>\n      <td>4.59 km</td>\n      <td>38000</td>\n      <td>4.7</td>\n      <td>Santai</td>\n      <td>Tidak</td>\n      <td>Western, Snacks, Fast food</td>\n      <td>Tidak</td>\n      <td>4</td>\n      <td>3</td>\n      <td>Disajikan</td>\n      <td>Ala Carte</td>\n    </tr>\n    <tr>\n      <th>290</th>\n      <td>Shaburi &amp; Kintan Buffet, Ambarukmo Plaza Yogya</td>\n      <td>Japanese</td>\n      <td>3.67 km</td>\n      <td>330000</td>\n      <td>4.8</td>\n      <td>Formal</td>\n      <td>Tidak</td>\n      <td>Japanese, Rice, Chicken &amp; duck</td>\n      <td>Tidak</td>\n      <td>1</td>\n      <td>2</td>\n      <td>Ambil Sendiri</td>\n      <td>All You Can Eat</td>\n    </tr>\n  </tbody>\n</table>\n<p>291 rows × 13 columns</p>\n</div>"
     },
     "execution_count": 80,
     "metadata": {},
     "output_type": "execute_result"
    }
   ],
   "source": [
    "# import from csv\n",
    "df = pandas.read_csv('./dataset/places_to_eat_in_the_jogja_region.csv')\n",
    "df"
   ],
   "metadata": {
    "collapsed": false,
    "ExecuteTime": {
     "end_time": "2023-07-23T00:27:35.534685100Z",
     "start_time": "2023-07-23T00:27:34.905876500Z"
    }
   }
  },
  {
   "cell_type": "markdown",
   "source": [
    "# Data Preprocessing"
   ],
   "metadata": {
    "collapsed": false
   }
  },
  {
   "cell_type": "markdown",
   "source": [
    "## Data Information Before Preprocessing"
   ],
   "metadata": {
    "collapsed": false
   }
  },
  {
   "cell_type": "code",
   "execution_count": 81,
   "outputs": [
    {
     "name": "stdout",
     "output_type": "stream",
     "text": [
      "<class 'pandas.core.frame.DataFrame'>\n",
      "RangeIndex: 291 entries, 0 to 290\n",
      "Data columns (total 13 columns):\n",
      " #   Column                                Non-Null Count  Dtype  \n",
      "---  ------                                --------------  -----  \n",
      " 0   Nama Restoran                         291 non-null    object \n",
      " 1   Preferensi Makanan                    291 non-null    object \n",
      " 2   Lokasi Restoran                       291 non-null    object \n",
      " 3   Harga Rata-Rata Makanan di Toko (Rp)  291 non-null    int64  \n",
      " 4   Rating Toko                           291 non-null    float64\n",
      " 5   Jenis Suasana                         291 non-null    object \n",
      " 6   Toko Sering Diskon (Ya/Tidak)         291 non-null    object \n",
      " 7   Variasi Makanan                       291 non-null    object \n",
      " 8   Pelayanan Khusus Pasangan (Ya/Tidak)  291 non-null    object \n",
      " 9   Entertainment                         291 non-null    int64  \n",
      " 10  Keramaian Restoran                    291 non-null    int64  \n",
      " 11  Disajikan atau Ambil Sendiri          291 non-null    object \n",
      " 12  All You Can Eat atau Ala Carte        291 non-null    object \n",
      "dtypes: float64(1), int64(3), object(9)\n",
      "memory usage: 29.7+ KB\n"
     ]
    }
   ],
   "source": [
    "df.info()"
   ],
   "metadata": {
    "collapsed": false,
    "ExecuteTime": {
     "end_time": "2023-07-23T00:27:35.614701600Z",
     "start_time": "2023-07-23T00:27:34.959412200Z"
    }
   }
  },
  {
   "cell_type": "markdown",
   "source": [
    "## Column Renaming"
   ],
   "metadata": {
    "collapsed": false
   }
  },
  {
   "cell_type": "code",
   "execution_count": 82,
   "outputs": [],
   "source": [
    "\n",
    "df.rename(columns={\n",
    "    'All You Can Eat atau Ala Carte ': 'allYouCanEat/alaCarte',\n",
    "    'Harga Rata-Rata Makanan di Toko (Rp)': 'avgPrice',\n",
    "    'Rating Toko': 'Rating'\n",
    "}, inplace=True)\n"
   ],
   "metadata": {
    "collapsed": false,
    "ExecuteTime": {
     "end_time": "2023-07-23T00:27:35.648283800Z",
     "start_time": "2023-07-23T00:27:34.995408600Z"
    }
   }
  },
  {
   "cell_type": "markdown",
   "source": [
    "## Data Type Conversion"
   ],
   "metadata": {
    "collapsed": false
   }
  },
  {
   "cell_type": "code",
   "execution_count": 83,
   "outputs": [],
   "source": [
    "df['rating'] = pd.to_numeric(df['Rating'], errors='coerce')"
   ],
   "metadata": {
    "collapsed": false,
    "ExecuteTime": {
     "end_time": "2023-07-23T00:27:35.649291400Z",
     "start_time": "2023-07-23T00:27:35.010415Z"
    }
   }
  },
  {
   "cell_type": "markdown",
   "source": [
    "## Konversi Variasi Makanan Ke Numerik"
   ],
   "metadata": {
    "collapsed": false
   }
  },
  {
   "cell_type": "code",
   "execution_count": 84,
   "outputs": [],
   "source": [
    "data = []\n",
    "for i in range(len(df['Variasi Makanan'])):\n",
    "    for j in df['Variasi Makanan'][i].split(','):\n",
    "        if j.strip(' ') not in data:\n",
    "            data.append(j)"
   ],
   "metadata": {
    "collapsed": false,
    "ExecuteTime": {
     "end_time": "2023-07-23T00:27:35.694307700Z",
     "start_time": "2023-07-23T00:27:35.024422Z"
    }
   }
  },
  {
   "cell_type": "code",
   "execution_count": 85,
   "outputs": [],
   "source": [
    "# remove duplicate data\n",
    "data = list(dict.fromkeys(data))\n"
   ],
   "metadata": {
    "collapsed": false,
    "ExecuteTime": {
     "end_time": "2023-07-23T00:27:35.696308Z",
     "start_time": "2023-07-23T00:27:35.058940400Z"
    }
   }
  },
  {
   "cell_type": "code",
   "execution_count": 86,
   "outputs": [
    {
     "data": {
      "text/plain": "['Bakmie',\n ' Aneka nasi',\n ' Chinese',\n 'Bakso & soto',\n ' Cepat saji',\n ' Minuman',\n ' Jajanan',\n 'Cepat saji',\n 'Chicken & duck',\n ' Beverages',\n ' Pizza & pasta',\n ' Coffee',\n ' Rice',\n ' Noodles',\n ' Western',\n ' Japanese',\n ' Martabak',\n 'Chinese',\n ' Ayam & bebek',\n 'Japanese',\n ' Fast food',\n ' Snacks',\n ' Sweets',\n 'Minuman',\n 'Pizza & pasta',\n ' Bakery',\n 'Rice',\n 'Seafood',\n 'Snacks',\n 'Western',\n ' Korean',\n 'Coffee',\n 'Fast food',\n ' Barat',\n ' Indian',\n 'Aneka nasi',\n 'Beverages',\n 'Jajanan',\n ' Sate',\n 'Sweets',\n 'Ayam & bebek',\n 'Bakery',\n ' Middle Eastern',\n 'Barat',\n 'Sate',\n ' Korea']"
     },
     "execution_count": 86,
     "metadata": {},
     "output_type": "execute_result"
    }
   ],
   "source": [
    "data"
   ],
   "metadata": {
    "collapsed": false,
    "ExecuteTime": {
     "end_time": "2023-07-23T00:27:35.699307800Z",
     "start_time": "2023-07-23T00:27:35.071941200Z"
    }
   }
  },
  {
   "cell_type": "code",
   "execution_count": 87,
   "outputs": [
    {
     "name": "stderr",
     "output_type": "stream",
     "text": [
      "C:\\Users\\Rico Fitra Pratama\\AppData\\Local\\Temp\\ipykernel_33392\\120778997.py:4: SettingWithCopyWarning: \n",
      "A value is trying to be set on a copy of a slice from a DataFrame\n",
      "\n",
      "See the caveats in the documentation: https://pandas.pydata.org/pandas-docs/stable/user_guide/indexing.html#returning-a-view-versus-a-copy\n",
      "  df['Variasi Makanan'][i] = d\n",
      "C:\\Users\\Rico Fitra Pratama\\AppData\\Local\\Temp\\ipykernel_33392\\120778997.py:4: SettingWithCopyWarning: \n",
      "A value is trying to be set on a copy of a slice from a DataFrame\n",
      "\n",
      "See the caveats in the documentation: https://pandas.pydata.org/pandas-docs/stable/user_guide/indexing.html#returning-a-view-versus-a-copy\n",
      "  df['Variasi Makanan'][i] = d\n",
      "C:\\Users\\Rico Fitra Pratama\\AppData\\Local\\Temp\\ipykernel_33392\\120778997.py:4: SettingWithCopyWarning: \n",
      "A value is trying to be set on a copy of a slice from a DataFrame\n",
      "\n",
      "See the caveats in the documentation: https://pandas.pydata.org/pandas-docs/stable/user_guide/indexing.html#returning-a-view-versus-a-copy\n",
      "  df['Variasi Makanan'][i] = d\n",
      "C:\\Users\\Rico Fitra Pratama\\AppData\\Local\\Temp\\ipykernel_33392\\120778997.py:4: SettingWithCopyWarning: \n",
      "A value is trying to be set on a copy of a slice from a DataFrame\n",
      "\n",
      "See the caveats in the documentation: https://pandas.pydata.org/pandas-docs/stable/user_guide/indexing.html#returning-a-view-versus-a-copy\n",
      "  df['Variasi Makanan'][i] = d\n",
      "C:\\Users\\Rico Fitra Pratama\\AppData\\Local\\Temp\\ipykernel_33392\\120778997.py:4: SettingWithCopyWarning: \n",
      "A value is trying to be set on a copy of a slice from a DataFrame\n",
      "\n",
      "See the caveats in the documentation: https://pandas.pydata.org/pandas-docs/stable/user_guide/indexing.html#returning-a-view-versus-a-copy\n",
      "  df['Variasi Makanan'][i] = d\n",
      "C:\\Users\\Rico Fitra Pratama\\AppData\\Local\\Temp\\ipykernel_33392\\120778997.py:4: SettingWithCopyWarning: \n",
      "A value is trying to be set on a copy of a slice from a DataFrame\n",
      "\n",
      "See the caveats in the documentation: https://pandas.pydata.org/pandas-docs/stable/user_guide/indexing.html#returning-a-view-versus-a-copy\n",
      "  df['Variasi Makanan'][i] = d\n",
      "C:\\Users\\Rico Fitra Pratama\\AppData\\Local\\Temp\\ipykernel_33392\\120778997.py:4: SettingWithCopyWarning: \n",
      "A value is trying to be set on a copy of a slice from a DataFrame\n",
      "\n",
      "See the caveats in the documentation: https://pandas.pydata.org/pandas-docs/stable/user_guide/indexing.html#returning-a-view-versus-a-copy\n",
      "  df['Variasi Makanan'][i] = d\n",
      "C:\\Users\\Rico Fitra Pratama\\AppData\\Local\\Temp\\ipykernel_33392\\120778997.py:4: SettingWithCopyWarning: \n",
      "A value is trying to be set on a copy of a slice from a DataFrame\n",
      "\n",
      "See the caveats in the documentation: https://pandas.pydata.org/pandas-docs/stable/user_guide/indexing.html#returning-a-view-versus-a-copy\n",
      "  df['Variasi Makanan'][i] = d\n",
      "C:\\Users\\Rico Fitra Pratama\\AppData\\Local\\Temp\\ipykernel_33392\\120778997.py:4: SettingWithCopyWarning: \n",
      "A value is trying to be set on a copy of a slice from a DataFrame\n",
      "\n",
      "See the caveats in the documentation: https://pandas.pydata.org/pandas-docs/stable/user_guide/indexing.html#returning-a-view-versus-a-copy\n",
      "  df['Variasi Makanan'][i] = d\n",
      "C:\\Users\\Rico Fitra Pratama\\AppData\\Local\\Temp\\ipykernel_33392\\120778997.py:4: SettingWithCopyWarning: \n",
      "A value is trying to be set on a copy of a slice from a DataFrame\n",
      "\n",
      "See the caveats in the documentation: https://pandas.pydata.org/pandas-docs/stable/user_guide/indexing.html#returning-a-view-versus-a-copy\n",
      "  df['Variasi Makanan'][i] = d\n",
      "C:\\Users\\Rico Fitra Pratama\\AppData\\Local\\Temp\\ipykernel_33392\\120778997.py:4: SettingWithCopyWarning: \n",
      "A value is trying to be set on a copy of a slice from a DataFrame\n",
      "\n",
      "See the caveats in the documentation: https://pandas.pydata.org/pandas-docs/stable/user_guide/indexing.html#returning-a-view-versus-a-copy\n",
      "  df['Variasi Makanan'][i] = d\n",
      "C:\\Users\\Rico Fitra Pratama\\AppData\\Local\\Temp\\ipykernel_33392\\120778997.py:4: SettingWithCopyWarning: \n",
      "A value is trying to be set on a copy of a slice from a DataFrame\n",
      "\n",
      "See the caveats in the documentation: https://pandas.pydata.org/pandas-docs/stable/user_guide/indexing.html#returning-a-view-versus-a-copy\n",
      "  df['Variasi Makanan'][i] = d\n",
      "C:\\Users\\Rico Fitra Pratama\\AppData\\Local\\Temp\\ipykernel_33392\\120778997.py:4: SettingWithCopyWarning: \n",
      "A value is trying to be set on a copy of a slice from a DataFrame\n",
      "\n",
      "See the caveats in the documentation: https://pandas.pydata.org/pandas-docs/stable/user_guide/indexing.html#returning-a-view-versus-a-copy\n",
      "  df['Variasi Makanan'][i] = d\n",
      "C:\\Users\\Rico Fitra Pratama\\AppData\\Local\\Temp\\ipykernel_33392\\120778997.py:4: SettingWithCopyWarning: \n",
      "A value is trying to be set on a copy of a slice from a DataFrame\n",
      "\n",
      "See the caveats in the documentation: https://pandas.pydata.org/pandas-docs/stable/user_guide/indexing.html#returning-a-view-versus-a-copy\n",
      "  df['Variasi Makanan'][i] = d\n",
      "C:\\Users\\Rico Fitra Pratama\\AppData\\Local\\Temp\\ipykernel_33392\\120778997.py:4: SettingWithCopyWarning: \n",
      "A value is trying to be set on a copy of a slice from a DataFrame\n",
      "\n",
      "See the caveats in the documentation: https://pandas.pydata.org/pandas-docs/stable/user_guide/indexing.html#returning-a-view-versus-a-copy\n",
      "  df['Variasi Makanan'][i] = d\n",
      "C:\\Users\\Rico Fitra Pratama\\AppData\\Local\\Temp\\ipykernel_33392\\120778997.py:4: SettingWithCopyWarning: \n",
      "A value is trying to be set on a copy of a slice from a DataFrame\n",
      "\n",
      "See the caveats in the documentation: https://pandas.pydata.org/pandas-docs/stable/user_guide/indexing.html#returning-a-view-versus-a-copy\n",
      "  df['Variasi Makanan'][i] = d\n",
      "C:\\Users\\Rico Fitra Pratama\\AppData\\Local\\Temp\\ipykernel_33392\\120778997.py:4: SettingWithCopyWarning: \n",
      "A value is trying to be set on a copy of a slice from a DataFrame\n",
      "\n",
      "See the caveats in the documentation: https://pandas.pydata.org/pandas-docs/stable/user_guide/indexing.html#returning-a-view-versus-a-copy\n",
      "  df['Variasi Makanan'][i] = d\n",
      "C:\\Users\\Rico Fitra Pratama\\AppData\\Local\\Temp\\ipykernel_33392\\120778997.py:4: SettingWithCopyWarning: \n",
      "A value is trying to be set on a copy of a slice from a DataFrame\n",
      "\n",
      "See the caveats in the documentation: https://pandas.pydata.org/pandas-docs/stable/user_guide/indexing.html#returning-a-view-versus-a-copy\n",
      "  df['Variasi Makanan'][i] = d\n",
      "C:\\Users\\Rico Fitra Pratama\\AppData\\Local\\Temp\\ipykernel_33392\\120778997.py:4: SettingWithCopyWarning: \n",
      "A value is trying to be set on a copy of a slice from a DataFrame\n",
      "\n",
      "See the caveats in the documentation: https://pandas.pydata.org/pandas-docs/stable/user_guide/indexing.html#returning-a-view-versus-a-copy\n",
      "  df['Variasi Makanan'][i] = d\n",
      "C:\\Users\\Rico Fitra Pratama\\AppData\\Local\\Temp\\ipykernel_33392\\120778997.py:4: SettingWithCopyWarning: \n",
      "A value is trying to be set on a copy of a slice from a DataFrame\n",
      "\n",
      "See the caveats in the documentation: https://pandas.pydata.org/pandas-docs/stable/user_guide/indexing.html#returning-a-view-versus-a-copy\n",
      "  df['Variasi Makanan'][i] = d\n",
      "C:\\Users\\Rico Fitra Pratama\\AppData\\Local\\Temp\\ipykernel_33392\\120778997.py:4: SettingWithCopyWarning: \n",
      "A value is trying to be set on a copy of a slice from a DataFrame\n",
      "\n",
      "See the caveats in the documentation: https://pandas.pydata.org/pandas-docs/stable/user_guide/indexing.html#returning-a-view-versus-a-copy\n",
      "  df['Variasi Makanan'][i] = d\n",
      "C:\\Users\\Rico Fitra Pratama\\AppData\\Local\\Temp\\ipykernel_33392\\120778997.py:4: SettingWithCopyWarning: \n",
      "A value is trying to be set on a copy of a slice from a DataFrame\n",
      "\n",
      "See the caveats in the documentation: https://pandas.pydata.org/pandas-docs/stable/user_guide/indexing.html#returning-a-view-versus-a-copy\n",
      "  df['Variasi Makanan'][i] = d\n",
      "C:\\Users\\Rico Fitra Pratama\\AppData\\Local\\Temp\\ipykernel_33392\\120778997.py:4: SettingWithCopyWarning: \n",
      "A value is trying to be set on a copy of a slice from a DataFrame\n",
      "\n",
      "See the caveats in the documentation: https://pandas.pydata.org/pandas-docs/stable/user_guide/indexing.html#returning-a-view-versus-a-copy\n",
      "  df['Variasi Makanan'][i] = d\n",
      "C:\\Users\\Rico Fitra Pratama\\AppData\\Local\\Temp\\ipykernel_33392\\120778997.py:4: SettingWithCopyWarning: \n",
      "A value is trying to be set on a copy of a slice from a DataFrame\n",
      "\n",
      "See the caveats in the documentation: https://pandas.pydata.org/pandas-docs/stable/user_guide/indexing.html#returning-a-view-versus-a-copy\n",
      "  df['Variasi Makanan'][i] = d\n",
      "C:\\Users\\Rico Fitra Pratama\\AppData\\Local\\Temp\\ipykernel_33392\\120778997.py:4: SettingWithCopyWarning: \n",
      "A value is trying to be set on a copy of a slice from a DataFrame\n",
      "\n",
      "See the caveats in the documentation: https://pandas.pydata.org/pandas-docs/stable/user_guide/indexing.html#returning-a-view-versus-a-copy\n",
      "  df['Variasi Makanan'][i] = d\n",
      "C:\\Users\\Rico Fitra Pratama\\AppData\\Local\\Temp\\ipykernel_33392\\120778997.py:4: SettingWithCopyWarning: \n",
      "A value is trying to be set on a copy of a slice from a DataFrame\n",
      "\n",
      "See the caveats in the documentation: https://pandas.pydata.org/pandas-docs/stable/user_guide/indexing.html#returning-a-view-versus-a-copy\n",
      "  df['Variasi Makanan'][i] = d\n",
      "C:\\Users\\Rico Fitra Pratama\\AppData\\Local\\Temp\\ipykernel_33392\\120778997.py:4: SettingWithCopyWarning: \n",
      "A value is trying to be set on a copy of a slice from a DataFrame\n",
      "\n",
      "See the caveats in the documentation: https://pandas.pydata.org/pandas-docs/stable/user_guide/indexing.html#returning-a-view-versus-a-copy\n",
      "  df['Variasi Makanan'][i] = d\n",
      "C:\\Users\\Rico Fitra Pratama\\AppData\\Local\\Temp\\ipykernel_33392\\120778997.py:4: SettingWithCopyWarning: \n",
      "A value is trying to be set on a copy of a slice from a DataFrame\n",
      "\n",
      "See the caveats in the documentation: https://pandas.pydata.org/pandas-docs/stable/user_guide/indexing.html#returning-a-view-versus-a-copy\n",
      "  df['Variasi Makanan'][i] = d\n",
      "C:\\Users\\Rico Fitra Pratama\\AppData\\Local\\Temp\\ipykernel_33392\\120778997.py:4: SettingWithCopyWarning: \n",
      "A value is trying to be set on a copy of a slice from a DataFrame\n",
      "\n",
      "See the caveats in the documentation: https://pandas.pydata.org/pandas-docs/stable/user_guide/indexing.html#returning-a-view-versus-a-copy\n",
      "  df['Variasi Makanan'][i] = d\n",
      "C:\\Users\\Rico Fitra Pratama\\AppData\\Local\\Temp\\ipykernel_33392\\120778997.py:4: SettingWithCopyWarning: \n",
      "A value is trying to be set on a copy of a slice from a DataFrame\n",
      "\n",
      "See the caveats in the documentation: https://pandas.pydata.org/pandas-docs/stable/user_guide/indexing.html#returning-a-view-versus-a-copy\n",
      "  df['Variasi Makanan'][i] = d\n",
      "C:\\Users\\Rico Fitra Pratama\\AppData\\Local\\Temp\\ipykernel_33392\\120778997.py:4: SettingWithCopyWarning: \n",
      "A value is trying to be set on a copy of a slice from a DataFrame\n",
      "\n",
      "See the caveats in the documentation: https://pandas.pydata.org/pandas-docs/stable/user_guide/indexing.html#returning-a-view-versus-a-copy\n",
      "  df['Variasi Makanan'][i] = d\n",
      "C:\\Users\\Rico Fitra Pratama\\AppData\\Local\\Temp\\ipykernel_33392\\120778997.py:4: SettingWithCopyWarning: \n",
      "A value is trying to be set on a copy of a slice from a DataFrame\n",
      "\n",
      "See the caveats in the documentation: https://pandas.pydata.org/pandas-docs/stable/user_guide/indexing.html#returning-a-view-versus-a-copy\n",
      "  df['Variasi Makanan'][i] = d\n",
      "C:\\Users\\Rico Fitra Pratama\\AppData\\Local\\Temp\\ipykernel_33392\\120778997.py:4: SettingWithCopyWarning: \n",
      "A value is trying to be set on a copy of a slice from a DataFrame\n",
      "\n",
      "See the caveats in the documentation: https://pandas.pydata.org/pandas-docs/stable/user_guide/indexing.html#returning-a-view-versus-a-copy\n",
      "  df['Variasi Makanan'][i] = d\n",
      "C:\\Users\\Rico Fitra Pratama\\AppData\\Local\\Temp\\ipykernel_33392\\120778997.py:4: SettingWithCopyWarning: \n",
      "A value is trying to be set on a copy of a slice from a DataFrame\n",
      "\n",
      "See the caveats in the documentation: https://pandas.pydata.org/pandas-docs/stable/user_guide/indexing.html#returning-a-view-versus-a-copy\n",
      "  df['Variasi Makanan'][i] = d\n",
      "C:\\Users\\Rico Fitra Pratama\\AppData\\Local\\Temp\\ipykernel_33392\\120778997.py:4: SettingWithCopyWarning: \n",
      "A value is trying to be set on a copy of a slice from a DataFrame\n",
      "\n",
      "See the caveats in the documentation: https://pandas.pydata.org/pandas-docs/stable/user_guide/indexing.html#returning-a-view-versus-a-copy\n",
      "  df['Variasi Makanan'][i] = d\n",
      "C:\\Users\\Rico Fitra Pratama\\AppData\\Local\\Temp\\ipykernel_33392\\120778997.py:4: SettingWithCopyWarning: \n",
      "A value is trying to be set on a copy of a slice from a DataFrame\n",
      "\n",
      "See the caveats in the documentation: https://pandas.pydata.org/pandas-docs/stable/user_guide/indexing.html#returning-a-view-versus-a-copy\n",
      "  df['Variasi Makanan'][i] = d\n",
      "C:\\Users\\Rico Fitra Pratama\\AppData\\Local\\Temp\\ipykernel_33392\\120778997.py:4: SettingWithCopyWarning: \n",
      "A value is trying to be set on a copy of a slice from a DataFrame\n",
      "\n",
      "See the caveats in the documentation: https://pandas.pydata.org/pandas-docs/stable/user_guide/indexing.html#returning-a-view-versus-a-copy\n",
      "  df['Variasi Makanan'][i] = d\n",
      "C:\\Users\\Rico Fitra Pratama\\AppData\\Local\\Temp\\ipykernel_33392\\120778997.py:4: SettingWithCopyWarning: \n",
      "A value is trying to be set on a copy of a slice from a DataFrame\n",
      "\n",
      "See the caveats in the documentation: https://pandas.pydata.org/pandas-docs/stable/user_guide/indexing.html#returning-a-view-versus-a-copy\n",
      "  df['Variasi Makanan'][i] = d\n",
      "C:\\Users\\Rico Fitra Pratama\\AppData\\Local\\Temp\\ipykernel_33392\\120778997.py:4: SettingWithCopyWarning: \n",
      "A value is trying to be set on a copy of a slice from a DataFrame\n",
      "\n",
      "See the caveats in the documentation: https://pandas.pydata.org/pandas-docs/stable/user_guide/indexing.html#returning-a-view-versus-a-copy\n",
      "  df['Variasi Makanan'][i] = d\n",
      "C:\\Users\\Rico Fitra Pratama\\AppData\\Local\\Temp\\ipykernel_33392\\120778997.py:4: SettingWithCopyWarning: \n",
      "A value is trying to be set on a copy of a slice from a DataFrame\n",
      "\n",
      "See the caveats in the documentation: https://pandas.pydata.org/pandas-docs/stable/user_guide/indexing.html#returning-a-view-versus-a-copy\n",
      "  df['Variasi Makanan'][i] = d\n",
      "C:\\Users\\Rico Fitra Pratama\\AppData\\Local\\Temp\\ipykernel_33392\\120778997.py:4: SettingWithCopyWarning: \n",
      "A value is trying to be set on a copy of a slice from a DataFrame\n",
      "\n",
      "See the caveats in the documentation: https://pandas.pydata.org/pandas-docs/stable/user_guide/indexing.html#returning-a-view-versus-a-copy\n",
      "  df['Variasi Makanan'][i] = d\n",
      "C:\\Users\\Rico Fitra Pratama\\AppData\\Local\\Temp\\ipykernel_33392\\120778997.py:4: SettingWithCopyWarning: \n",
      "A value is trying to be set on a copy of a slice from a DataFrame\n",
      "\n",
      "See the caveats in the documentation: https://pandas.pydata.org/pandas-docs/stable/user_guide/indexing.html#returning-a-view-versus-a-copy\n",
      "  df['Variasi Makanan'][i] = d\n",
      "C:\\Users\\Rico Fitra Pratama\\AppData\\Local\\Temp\\ipykernel_33392\\120778997.py:4: SettingWithCopyWarning: \n",
      "A value is trying to be set on a copy of a slice from a DataFrame\n",
      "\n",
      "See the caveats in the documentation: https://pandas.pydata.org/pandas-docs/stable/user_guide/indexing.html#returning-a-view-versus-a-copy\n",
      "  df['Variasi Makanan'][i] = d\n",
      "C:\\Users\\Rico Fitra Pratama\\AppData\\Local\\Temp\\ipykernel_33392\\120778997.py:4: SettingWithCopyWarning: \n",
      "A value is trying to be set on a copy of a slice from a DataFrame\n",
      "\n",
      "See the caveats in the documentation: https://pandas.pydata.org/pandas-docs/stable/user_guide/indexing.html#returning-a-view-versus-a-copy\n",
      "  df['Variasi Makanan'][i] = d\n",
      "C:\\Users\\Rico Fitra Pratama\\AppData\\Local\\Temp\\ipykernel_33392\\120778997.py:4: SettingWithCopyWarning: \n",
      "A value is trying to be set on a copy of a slice from a DataFrame\n",
      "\n",
      "See the caveats in the documentation: https://pandas.pydata.org/pandas-docs/stable/user_guide/indexing.html#returning-a-view-versus-a-copy\n",
      "  df['Variasi Makanan'][i] = d\n",
      "C:\\Users\\Rico Fitra Pratama\\AppData\\Local\\Temp\\ipykernel_33392\\120778997.py:4: SettingWithCopyWarning: \n",
      "A value is trying to be set on a copy of a slice from a DataFrame\n",
      "\n",
      "See the caveats in the documentation: https://pandas.pydata.org/pandas-docs/stable/user_guide/indexing.html#returning-a-view-versus-a-copy\n",
      "  df['Variasi Makanan'][i] = d\n",
      "C:\\Users\\Rico Fitra Pratama\\AppData\\Local\\Temp\\ipykernel_33392\\120778997.py:4: SettingWithCopyWarning: \n",
      "A value is trying to be set on a copy of a slice from a DataFrame\n",
      "\n",
      "See the caveats in the documentation: https://pandas.pydata.org/pandas-docs/stable/user_guide/indexing.html#returning-a-view-versus-a-copy\n",
      "  df['Variasi Makanan'][i] = d\n",
      "C:\\Users\\Rico Fitra Pratama\\AppData\\Local\\Temp\\ipykernel_33392\\120778997.py:4: SettingWithCopyWarning: \n",
      "A value is trying to be set on a copy of a slice from a DataFrame\n",
      "\n",
      "See the caveats in the documentation: https://pandas.pydata.org/pandas-docs/stable/user_guide/indexing.html#returning-a-view-versus-a-copy\n",
      "  df['Variasi Makanan'][i] = d\n",
      "C:\\Users\\Rico Fitra Pratama\\AppData\\Local\\Temp\\ipykernel_33392\\120778997.py:4: SettingWithCopyWarning: \n",
      "A value is trying to be set on a copy of a slice from a DataFrame\n",
      "\n",
      "See the caveats in the documentation: https://pandas.pydata.org/pandas-docs/stable/user_guide/indexing.html#returning-a-view-versus-a-copy\n",
      "  df['Variasi Makanan'][i] = d\n",
      "C:\\Users\\Rico Fitra Pratama\\AppData\\Local\\Temp\\ipykernel_33392\\120778997.py:4: SettingWithCopyWarning: \n",
      "A value is trying to be set on a copy of a slice from a DataFrame\n",
      "\n",
      "See the caveats in the documentation: https://pandas.pydata.org/pandas-docs/stable/user_guide/indexing.html#returning-a-view-versus-a-copy\n",
      "  df['Variasi Makanan'][i] = d\n",
      "C:\\Users\\Rico Fitra Pratama\\AppData\\Local\\Temp\\ipykernel_33392\\120778997.py:4: SettingWithCopyWarning: \n",
      "A value is trying to be set on a copy of a slice from a DataFrame\n",
      "\n",
      "See the caveats in the documentation: https://pandas.pydata.org/pandas-docs/stable/user_guide/indexing.html#returning-a-view-versus-a-copy\n",
      "  df['Variasi Makanan'][i] = d\n",
      "C:\\Users\\Rico Fitra Pratama\\AppData\\Local\\Temp\\ipykernel_33392\\120778997.py:4: SettingWithCopyWarning: \n",
      "A value is trying to be set on a copy of a slice from a DataFrame\n",
      "\n",
      "See the caveats in the documentation: https://pandas.pydata.org/pandas-docs/stable/user_guide/indexing.html#returning-a-view-versus-a-copy\n",
      "  df['Variasi Makanan'][i] = d\n",
      "C:\\Users\\Rico Fitra Pratama\\AppData\\Local\\Temp\\ipykernel_33392\\120778997.py:4: SettingWithCopyWarning: \n",
      "A value is trying to be set on a copy of a slice from a DataFrame\n",
      "\n",
      "See the caveats in the documentation: https://pandas.pydata.org/pandas-docs/stable/user_guide/indexing.html#returning-a-view-versus-a-copy\n",
      "  df['Variasi Makanan'][i] = d\n",
      "C:\\Users\\Rico Fitra Pratama\\AppData\\Local\\Temp\\ipykernel_33392\\120778997.py:4: SettingWithCopyWarning: \n",
      "A value is trying to be set on a copy of a slice from a DataFrame\n",
      "\n",
      "See the caveats in the documentation: https://pandas.pydata.org/pandas-docs/stable/user_guide/indexing.html#returning-a-view-versus-a-copy\n",
      "  df['Variasi Makanan'][i] = d\n",
      "C:\\Users\\Rico Fitra Pratama\\AppData\\Local\\Temp\\ipykernel_33392\\120778997.py:4: SettingWithCopyWarning: \n",
      "A value is trying to be set on a copy of a slice from a DataFrame\n",
      "\n",
      "See the caveats in the documentation: https://pandas.pydata.org/pandas-docs/stable/user_guide/indexing.html#returning-a-view-versus-a-copy\n",
      "  df['Variasi Makanan'][i] = d\n",
      "C:\\Users\\Rico Fitra Pratama\\AppData\\Local\\Temp\\ipykernel_33392\\120778997.py:4: SettingWithCopyWarning: \n",
      "A value is trying to be set on a copy of a slice from a DataFrame\n",
      "\n",
      "See the caveats in the documentation: https://pandas.pydata.org/pandas-docs/stable/user_guide/indexing.html#returning-a-view-versus-a-copy\n",
      "  df['Variasi Makanan'][i] = d\n",
      "C:\\Users\\Rico Fitra Pratama\\AppData\\Local\\Temp\\ipykernel_33392\\120778997.py:4: SettingWithCopyWarning: \n",
      "A value is trying to be set on a copy of a slice from a DataFrame\n",
      "\n",
      "See the caveats in the documentation: https://pandas.pydata.org/pandas-docs/stable/user_guide/indexing.html#returning-a-view-versus-a-copy\n",
      "  df['Variasi Makanan'][i] = d\n",
      "C:\\Users\\Rico Fitra Pratama\\AppData\\Local\\Temp\\ipykernel_33392\\120778997.py:4: SettingWithCopyWarning: \n",
      "A value is trying to be set on a copy of a slice from a DataFrame\n",
      "\n",
      "See the caveats in the documentation: https://pandas.pydata.org/pandas-docs/stable/user_guide/indexing.html#returning-a-view-versus-a-copy\n",
      "  df['Variasi Makanan'][i] = d\n",
      "C:\\Users\\Rico Fitra Pratama\\AppData\\Local\\Temp\\ipykernel_33392\\120778997.py:4: SettingWithCopyWarning: \n",
      "A value is trying to be set on a copy of a slice from a DataFrame\n",
      "\n",
      "See the caveats in the documentation: https://pandas.pydata.org/pandas-docs/stable/user_guide/indexing.html#returning-a-view-versus-a-copy\n",
      "  df['Variasi Makanan'][i] = d\n",
      "C:\\Users\\Rico Fitra Pratama\\AppData\\Local\\Temp\\ipykernel_33392\\120778997.py:4: SettingWithCopyWarning: \n",
      "A value is trying to be set on a copy of a slice from a DataFrame\n",
      "\n",
      "See the caveats in the documentation: https://pandas.pydata.org/pandas-docs/stable/user_guide/indexing.html#returning-a-view-versus-a-copy\n",
      "  df['Variasi Makanan'][i] = d\n",
      "C:\\Users\\Rico Fitra Pratama\\AppData\\Local\\Temp\\ipykernel_33392\\120778997.py:4: SettingWithCopyWarning: \n",
      "A value is trying to be set on a copy of a slice from a DataFrame\n",
      "\n",
      "See the caveats in the documentation: https://pandas.pydata.org/pandas-docs/stable/user_guide/indexing.html#returning-a-view-versus-a-copy\n",
      "  df['Variasi Makanan'][i] = d\n",
      "C:\\Users\\Rico Fitra Pratama\\AppData\\Local\\Temp\\ipykernel_33392\\120778997.py:4: SettingWithCopyWarning: \n",
      "A value is trying to be set on a copy of a slice from a DataFrame\n",
      "\n",
      "See the caveats in the documentation: https://pandas.pydata.org/pandas-docs/stable/user_guide/indexing.html#returning-a-view-versus-a-copy\n",
      "  df['Variasi Makanan'][i] = d\n",
      "C:\\Users\\Rico Fitra Pratama\\AppData\\Local\\Temp\\ipykernel_33392\\120778997.py:4: SettingWithCopyWarning: \n",
      "A value is trying to be set on a copy of a slice from a DataFrame\n",
      "\n",
      "See the caveats in the documentation: https://pandas.pydata.org/pandas-docs/stable/user_guide/indexing.html#returning-a-view-versus-a-copy\n",
      "  df['Variasi Makanan'][i] = d\n",
      "C:\\Users\\Rico Fitra Pratama\\AppData\\Local\\Temp\\ipykernel_33392\\120778997.py:4: SettingWithCopyWarning: \n",
      "A value is trying to be set on a copy of a slice from a DataFrame\n",
      "\n",
      "See the caveats in the documentation: https://pandas.pydata.org/pandas-docs/stable/user_guide/indexing.html#returning-a-view-versus-a-copy\n",
      "  df['Variasi Makanan'][i] = d\n",
      "C:\\Users\\Rico Fitra Pratama\\AppData\\Local\\Temp\\ipykernel_33392\\120778997.py:4: SettingWithCopyWarning: \n",
      "A value is trying to be set on a copy of a slice from a DataFrame\n",
      "\n",
      "See the caveats in the documentation: https://pandas.pydata.org/pandas-docs/stable/user_guide/indexing.html#returning-a-view-versus-a-copy\n",
      "  df['Variasi Makanan'][i] = d\n",
      "C:\\Users\\Rico Fitra Pratama\\AppData\\Local\\Temp\\ipykernel_33392\\120778997.py:4: SettingWithCopyWarning: \n",
      "A value is trying to be set on a copy of a slice from a DataFrame\n",
      "\n",
      "See the caveats in the documentation: https://pandas.pydata.org/pandas-docs/stable/user_guide/indexing.html#returning-a-view-versus-a-copy\n",
      "  df['Variasi Makanan'][i] = d\n",
      "C:\\Users\\Rico Fitra Pratama\\AppData\\Local\\Temp\\ipykernel_33392\\120778997.py:4: SettingWithCopyWarning: \n",
      "A value is trying to be set on a copy of a slice from a DataFrame\n",
      "\n",
      "See the caveats in the documentation: https://pandas.pydata.org/pandas-docs/stable/user_guide/indexing.html#returning-a-view-versus-a-copy\n",
      "  df['Variasi Makanan'][i] = d\n",
      "C:\\Users\\Rico Fitra Pratama\\AppData\\Local\\Temp\\ipykernel_33392\\120778997.py:4: SettingWithCopyWarning: \n",
      "A value is trying to be set on a copy of a slice from a DataFrame\n",
      "\n",
      "See the caveats in the documentation: https://pandas.pydata.org/pandas-docs/stable/user_guide/indexing.html#returning-a-view-versus-a-copy\n",
      "  df['Variasi Makanan'][i] = d\n",
      "C:\\Users\\Rico Fitra Pratama\\AppData\\Local\\Temp\\ipykernel_33392\\120778997.py:4: SettingWithCopyWarning: \n",
      "A value is trying to be set on a copy of a slice from a DataFrame\n",
      "\n",
      "See the caveats in the documentation: https://pandas.pydata.org/pandas-docs/stable/user_guide/indexing.html#returning-a-view-versus-a-copy\n",
      "  df['Variasi Makanan'][i] = d\n",
      "C:\\Users\\Rico Fitra Pratama\\AppData\\Local\\Temp\\ipykernel_33392\\120778997.py:4: SettingWithCopyWarning: \n",
      "A value is trying to be set on a copy of a slice from a DataFrame\n",
      "\n",
      "See the caveats in the documentation: https://pandas.pydata.org/pandas-docs/stable/user_guide/indexing.html#returning-a-view-versus-a-copy\n",
      "  df['Variasi Makanan'][i] = d\n",
      "C:\\Users\\Rico Fitra Pratama\\AppData\\Local\\Temp\\ipykernel_33392\\120778997.py:4: SettingWithCopyWarning: \n",
      "A value is trying to be set on a copy of a slice from a DataFrame\n",
      "\n",
      "See the caveats in the documentation: https://pandas.pydata.org/pandas-docs/stable/user_guide/indexing.html#returning-a-view-versus-a-copy\n",
      "  df['Variasi Makanan'][i] = d\n",
      "C:\\Users\\Rico Fitra Pratama\\AppData\\Local\\Temp\\ipykernel_33392\\120778997.py:4: SettingWithCopyWarning: \n",
      "A value is trying to be set on a copy of a slice from a DataFrame\n",
      "\n",
      "See the caveats in the documentation: https://pandas.pydata.org/pandas-docs/stable/user_guide/indexing.html#returning-a-view-versus-a-copy\n",
      "  df['Variasi Makanan'][i] = d\n",
      "C:\\Users\\Rico Fitra Pratama\\AppData\\Local\\Temp\\ipykernel_33392\\120778997.py:4: SettingWithCopyWarning: \n",
      "A value is trying to be set on a copy of a slice from a DataFrame\n",
      "\n",
      "See the caveats in the documentation: https://pandas.pydata.org/pandas-docs/stable/user_guide/indexing.html#returning-a-view-versus-a-copy\n",
      "  df['Variasi Makanan'][i] = d\n",
      "C:\\Users\\Rico Fitra Pratama\\AppData\\Local\\Temp\\ipykernel_33392\\120778997.py:4: SettingWithCopyWarning: \n",
      "A value is trying to be set on a copy of a slice from a DataFrame\n",
      "\n",
      "See the caveats in the documentation: https://pandas.pydata.org/pandas-docs/stable/user_guide/indexing.html#returning-a-view-versus-a-copy\n",
      "  df['Variasi Makanan'][i] = d\n",
      "C:\\Users\\Rico Fitra Pratama\\AppData\\Local\\Temp\\ipykernel_33392\\120778997.py:4: SettingWithCopyWarning: \n",
      "A value is trying to be set on a copy of a slice from a DataFrame\n",
      "\n",
      "See the caveats in the documentation: https://pandas.pydata.org/pandas-docs/stable/user_guide/indexing.html#returning-a-view-versus-a-copy\n",
      "  df['Variasi Makanan'][i] = d\n",
      "C:\\Users\\Rico Fitra Pratama\\AppData\\Local\\Temp\\ipykernel_33392\\120778997.py:4: SettingWithCopyWarning: \n",
      "A value is trying to be set on a copy of a slice from a DataFrame\n",
      "\n",
      "See the caveats in the documentation: https://pandas.pydata.org/pandas-docs/stable/user_guide/indexing.html#returning-a-view-versus-a-copy\n",
      "  df['Variasi Makanan'][i] = d\n",
      "C:\\Users\\Rico Fitra Pratama\\AppData\\Local\\Temp\\ipykernel_33392\\120778997.py:4: SettingWithCopyWarning: \n",
      "A value is trying to be set on a copy of a slice from a DataFrame\n",
      "\n",
      "See the caveats in the documentation: https://pandas.pydata.org/pandas-docs/stable/user_guide/indexing.html#returning-a-view-versus-a-copy\n",
      "  df['Variasi Makanan'][i] = d\n",
      "C:\\Users\\Rico Fitra Pratama\\AppData\\Local\\Temp\\ipykernel_33392\\120778997.py:4: SettingWithCopyWarning: \n",
      "A value is trying to be set on a copy of a slice from a DataFrame\n",
      "\n",
      "See the caveats in the documentation: https://pandas.pydata.org/pandas-docs/stable/user_guide/indexing.html#returning-a-view-versus-a-copy\n",
      "  df['Variasi Makanan'][i] = d\n",
      "C:\\Users\\Rico Fitra Pratama\\AppData\\Local\\Temp\\ipykernel_33392\\120778997.py:4: SettingWithCopyWarning: \n",
      "A value is trying to be set on a copy of a slice from a DataFrame\n",
      "\n",
      "See the caveats in the documentation: https://pandas.pydata.org/pandas-docs/stable/user_guide/indexing.html#returning-a-view-versus-a-copy\n",
      "  df['Variasi Makanan'][i] = d\n",
      "C:\\Users\\Rico Fitra Pratama\\AppData\\Local\\Temp\\ipykernel_33392\\120778997.py:4: SettingWithCopyWarning: \n",
      "A value is trying to be set on a copy of a slice from a DataFrame\n",
      "\n",
      "See the caveats in the documentation: https://pandas.pydata.org/pandas-docs/stable/user_guide/indexing.html#returning-a-view-versus-a-copy\n",
      "  df['Variasi Makanan'][i] = d\n",
      "C:\\Users\\Rico Fitra Pratama\\AppData\\Local\\Temp\\ipykernel_33392\\120778997.py:4: SettingWithCopyWarning: \n",
      "A value is trying to be set on a copy of a slice from a DataFrame\n",
      "\n",
      "See the caveats in the documentation: https://pandas.pydata.org/pandas-docs/stable/user_guide/indexing.html#returning-a-view-versus-a-copy\n",
      "  df['Variasi Makanan'][i] = d\n",
      "C:\\Users\\Rico Fitra Pratama\\AppData\\Local\\Temp\\ipykernel_33392\\120778997.py:4: SettingWithCopyWarning: \n",
      "A value is trying to be set on a copy of a slice from a DataFrame\n",
      "\n",
      "See the caveats in the documentation: https://pandas.pydata.org/pandas-docs/stable/user_guide/indexing.html#returning-a-view-versus-a-copy\n",
      "  df['Variasi Makanan'][i] = d\n",
      "C:\\Users\\Rico Fitra Pratama\\AppData\\Local\\Temp\\ipykernel_33392\\120778997.py:4: SettingWithCopyWarning: \n",
      "A value is trying to be set on a copy of a slice from a DataFrame\n",
      "\n",
      "See the caveats in the documentation: https://pandas.pydata.org/pandas-docs/stable/user_guide/indexing.html#returning-a-view-versus-a-copy\n",
      "  df['Variasi Makanan'][i] = d\n",
      "C:\\Users\\Rico Fitra Pratama\\AppData\\Local\\Temp\\ipykernel_33392\\120778997.py:4: SettingWithCopyWarning: \n",
      "A value is trying to be set on a copy of a slice from a DataFrame\n",
      "\n",
      "See the caveats in the documentation: https://pandas.pydata.org/pandas-docs/stable/user_guide/indexing.html#returning-a-view-versus-a-copy\n",
      "  df['Variasi Makanan'][i] = d\n",
      "C:\\Users\\Rico Fitra Pratama\\AppData\\Local\\Temp\\ipykernel_33392\\120778997.py:4: SettingWithCopyWarning: \n",
      "A value is trying to be set on a copy of a slice from a DataFrame\n",
      "\n",
      "See the caveats in the documentation: https://pandas.pydata.org/pandas-docs/stable/user_guide/indexing.html#returning-a-view-versus-a-copy\n",
      "  df['Variasi Makanan'][i] = d\n",
      "C:\\Users\\Rico Fitra Pratama\\AppData\\Local\\Temp\\ipykernel_33392\\120778997.py:4: SettingWithCopyWarning: \n",
      "A value is trying to be set on a copy of a slice from a DataFrame\n",
      "\n",
      "See the caveats in the documentation: https://pandas.pydata.org/pandas-docs/stable/user_guide/indexing.html#returning-a-view-versus-a-copy\n",
      "  df['Variasi Makanan'][i] = d\n",
      "C:\\Users\\Rico Fitra Pratama\\AppData\\Local\\Temp\\ipykernel_33392\\120778997.py:4: SettingWithCopyWarning: \n",
      "A value is trying to be set on a copy of a slice from a DataFrame\n",
      "\n",
      "See the caveats in the documentation: https://pandas.pydata.org/pandas-docs/stable/user_guide/indexing.html#returning-a-view-versus-a-copy\n",
      "  df['Variasi Makanan'][i] = d\n",
      "C:\\Users\\Rico Fitra Pratama\\AppData\\Local\\Temp\\ipykernel_33392\\120778997.py:4: SettingWithCopyWarning: \n",
      "A value is trying to be set on a copy of a slice from a DataFrame\n",
      "\n",
      "See the caveats in the documentation: https://pandas.pydata.org/pandas-docs/stable/user_guide/indexing.html#returning-a-view-versus-a-copy\n",
      "  df['Variasi Makanan'][i] = d\n",
      "C:\\Users\\Rico Fitra Pratama\\AppData\\Local\\Temp\\ipykernel_33392\\120778997.py:4: SettingWithCopyWarning: \n",
      "A value is trying to be set on a copy of a slice from a DataFrame\n",
      "\n",
      "See the caveats in the documentation: https://pandas.pydata.org/pandas-docs/stable/user_guide/indexing.html#returning-a-view-versus-a-copy\n",
      "  df['Variasi Makanan'][i] = d\n",
      "C:\\Users\\Rico Fitra Pratama\\AppData\\Local\\Temp\\ipykernel_33392\\120778997.py:4: SettingWithCopyWarning: \n",
      "A value is trying to be set on a copy of a slice from a DataFrame\n",
      "\n",
      "See the caveats in the documentation: https://pandas.pydata.org/pandas-docs/stable/user_guide/indexing.html#returning-a-view-versus-a-copy\n",
      "  df['Variasi Makanan'][i] = d\n",
      "C:\\Users\\Rico Fitra Pratama\\AppData\\Local\\Temp\\ipykernel_33392\\120778997.py:4: SettingWithCopyWarning: \n",
      "A value is trying to be set on a copy of a slice from a DataFrame\n",
      "\n",
      "See the caveats in the documentation: https://pandas.pydata.org/pandas-docs/stable/user_guide/indexing.html#returning-a-view-versus-a-copy\n",
      "  df['Variasi Makanan'][i] = d\n",
      "C:\\Users\\Rico Fitra Pratama\\AppData\\Local\\Temp\\ipykernel_33392\\120778997.py:4: SettingWithCopyWarning: \n",
      "A value is trying to be set on a copy of a slice from a DataFrame\n",
      "\n",
      "See the caveats in the documentation: https://pandas.pydata.org/pandas-docs/stable/user_guide/indexing.html#returning-a-view-versus-a-copy\n",
      "  df['Variasi Makanan'][i] = d\n",
      "C:\\Users\\Rico Fitra Pratama\\AppData\\Local\\Temp\\ipykernel_33392\\120778997.py:4: SettingWithCopyWarning: \n",
      "A value is trying to be set on a copy of a slice from a DataFrame\n",
      "\n",
      "See the caveats in the documentation: https://pandas.pydata.org/pandas-docs/stable/user_guide/indexing.html#returning-a-view-versus-a-copy\n",
      "  df['Variasi Makanan'][i] = d\n",
      "C:\\Users\\Rico Fitra Pratama\\AppData\\Local\\Temp\\ipykernel_33392\\120778997.py:4: SettingWithCopyWarning: \n",
      "A value is trying to be set on a copy of a slice from a DataFrame\n",
      "\n",
      "See the caveats in the documentation: https://pandas.pydata.org/pandas-docs/stable/user_guide/indexing.html#returning-a-view-versus-a-copy\n",
      "  df['Variasi Makanan'][i] = d\n",
      "C:\\Users\\Rico Fitra Pratama\\AppData\\Local\\Temp\\ipykernel_33392\\120778997.py:4: SettingWithCopyWarning: \n",
      "A value is trying to be set on a copy of a slice from a DataFrame\n",
      "\n",
      "See the caveats in the documentation: https://pandas.pydata.org/pandas-docs/stable/user_guide/indexing.html#returning-a-view-versus-a-copy\n",
      "  df['Variasi Makanan'][i] = d\n",
      "C:\\Users\\Rico Fitra Pratama\\AppData\\Local\\Temp\\ipykernel_33392\\120778997.py:4: SettingWithCopyWarning: \n",
      "A value is trying to be set on a copy of a slice from a DataFrame\n",
      "\n",
      "See the caveats in the documentation: https://pandas.pydata.org/pandas-docs/stable/user_guide/indexing.html#returning-a-view-versus-a-copy\n",
      "  df['Variasi Makanan'][i] = d\n",
      "C:\\Users\\Rico Fitra Pratama\\AppData\\Local\\Temp\\ipykernel_33392\\120778997.py:4: SettingWithCopyWarning: \n",
      "A value is trying to be set on a copy of a slice from a DataFrame\n",
      "\n",
      "See the caveats in the documentation: https://pandas.pydata.org/pandas-docs/stable/user_guide/indexing.html#returning-a-view-versus-a-copy\n",
      "  df['Variasi Makanan'][i] = d\n",
      "C:\\Users\\Rico Fitra Pratama\\AppData\\Local\\Temp\\ipykernel_33392\\120778997.py:4: SettingWithCopyWarning: \n",
      "A value is trying to be set on a copy of a slice from a DataFrame\n",
      "\n",
      "See the caveats in the documentation: https://pandas.pydata.org/pandas-docs/stable/user_guide/indexing.html#returning-a-view-versus-a-copy\n",
      "  df['Variasi Makanan'][i] = d\n",
      "C:\\Users\\Rico Fitra Pratama\\AppData\\Local\\Temp\\ipykernel_33392\\120778997.py:4: SettingWithCopyWarning: \n",
      "A value is trying to be set on a copy of a slice from a DataFrame\n",
      "\n",
      "See the caveats in the documentation: https://pandas.pydata.org/pandas-docs/stable/user_guide/indexing.html#returning-a-view-versus-a-copy\n",
      "  df['Variasi Makanan'][i] = d\n",
      "C:\\Users\\Rico Fitra Pratama\\AppData\\Local\\Temp\\ipykernel_33392\\120778997.py:4: SettingWithCopyWarning: \n",
      "A value is trying to be set on a copy of a slice from a DataFrame\n",
      "\n",
      "See the caveats in the documentation: https://pandas.pydata.org/pandas-docs/stable/user_guide/indexing.html#returning-a-view-versus-a-copy\n",
      "  df['Variasi Makanan'][i] = d\n",
      "C:\\Users\\Rico Fitra Pratama\\AppData\\Local\\Temp\\ipykernel_33392\\120778997.py:4: SettingWithCopyWarning: \n",
      "A value is trying to be set on a copy of a slice from a DataFrame\n",
      "\n",
      "See the caveats in the documentation: https://pandas.pydata.org/pandas-docs/stable/user_guide/indexing.html#returning-a-view-versus-a-copy\n",
      "  df['Variasi Makanan'][i] = d\n",
      "C:\\Users\\Rico Fitra Pratama\\AppData\\Local\\Temp\\ipykernel_33392\\120778997.py:4: SettingWithCopyWarning: \n",
      "A value is trying to be set on a copy of a slice from a DataFrame\n",
      "\n",
      "See the caveats in the documentation: https://pandas.pydata.org/pandas-docs/stable/user_guide/indexing.html#returning-a-view-versus-a-copy\n",
      "  df['Variasi Makanan'][i] = d\n",
      "C:\\Users\\Rico Fitra Pratama\\AppData\\Local\\Temp\\ipykernel_33392\\120778997.py:4: SettingWithCopyWarning: \n",
      "A value is trying to be set on a copy of a slice from a DataFrame\n",
      "\n",
      "See the caveats in the documentation: https://pandas.pydata.org/pandas-docs/stable/user_guide/indexing.html#returning-a-view-versus-a-copy\n",
      "  df['Variasi Makanan'][i] = d\n",
      "C:\\Users\\Rico Fitra Pratama\\AppData\\Local\\Temp\\ipykernel_33392\\120778997.py:4: SettingWithCopyWarning: \n",
      "A value is trying to be set on a copy of a slice from a DataFrame\n",
      "\n",
      "See the caveats in the documentation: https://pandas.pydata.org/pandas-docs/stable/user_guide/indexing.html#returning-a-view-versus-a-copy\n",
      "  df['Variasi Makanan'][i] = d\n",
      "C:\\Users\\Rico Fitra Pratama\\AppData\\Local\\Temp\\ipykernel_33392\\120778997.py:4: SettingWithCopyWarning: \n",
      "A value is trying to be set on a copy of a slice from a DataFrame\n",
      "\n",
      "See the caveats in the documentation: https://pandas.pydata.org/pandas-docs/stable/user_guide/indexing.html#returning-a-view-versus-a-copy\n",
      "  df['Variasi Makanan'][i] = d\n",
      "C:\\Users\\Rico Fitra Pratama\\AppData\\Local\\Temp\\ipykernel_33392\\120778997.py:4: SettingWithCopyWarning: \n",
      "A value is trying to be set on a copy of a slice from a DataFrame\n",
      "\n",
      "See the caveats in the documentation: https://pandas.pydata.org/pandas-docs/stable/user_guide/indexing.html#returning-a-view-versus-a-copy\n",
      "  df['Variasi Makanan'][i] = d\n",
      "C:\\Users\\Rico Fitra Pratama\\AppData\\Local\\Temp\\ipykernel_33392\\120778997.py:4: SettingWithCopyWarning: \n",
      "A value is trying to be set on a copy of a slice from a DataFrame\n",
      "\n",
      "See the caveats in the documentation: https://pandas.pydata.org/pandas-docs/stable/user_guide/indexing.html#returning-a-view-versus-a-copy\n",
      "  df['Variasi Makanan'][i] = d\n",
      "C:\\Users\\Rico Fitra Pratama\\AppData\\Local\\Temp\\ipykernel_33392\\120778997.py:4: SettingWithCopyWarning: \n",
      "A value is trying to be set on a copy of a slice from a DataFrame\n",
      "\n",
      "See the caveats in the documentation: https://pandas.pydata.org/pandas-docs/stable/user_guide/indexing.html#returning-a-view-versus-a-copy\n",
      "  df['Variasi Makanan'][i] = d\n",
      "C:\\Users\\Rico Fitra Pratama\\AppData\\Local\\Temp\\ipykernel_33392\\120778997.py:4: SettingWithCopyWarning: \n",
      "A value is trying to be set on a copy of a slice from a DataFrame\n",
      "\n",
      "See the caveats in the documentation: https://pandas.pydata.org/pandas-docs/stable/user_guide/indexing.html#returning-a-view-versus-a-copy\n",
      "  df['Variasi Makanan'][i] = d\n",
      "C:\\Users\\Rico Fitra Pratama\\AppData\\Local\\Temp\\ipykernel_33392\\120778997.py:4: SettingWithCopyWarning: \n",
      "A value is trying to be set on a copy of a slice from a DataFrame\n",
      "\n",
      "See the caveats in the documentation: https://pandas.pydata.org/pandas-docs/stable/user_guide/indexing.html#returning-a-view-versus-a-copy\n",
      "  df['Variasi Makanan'][i] = d\n",
      "C:\\Users\\Rico Fitra Pratama\\AppData\\Local\\Temp\\ipykernel_33392\\120778997.py:4: SettingWithCopyWarning: \n",
      "A value is trying to be set on a copy of a slice from a DataFrame\n",
      "\n",
      "See the caveats in the documentation: https://pandas.pydata.org/pandas-docs/stable/user_guide/indexing.html#returning-a-view-versus-a-copy\n",
      "  df['Variasi Makanan'][i] = d\n",
      "C:\\Users\\Rico Fitra Pratama\\AppData\\Local\\Temp\\ipykernel_33392\\120778997.py:4: SettingWithCopyWarning: \n",
      "A value is trying to be set on a copy of a slice from a DataFrame\n",
      "\n",
      "See the caveats in the documentation: https://pandas.pydata.org/pandas-docs/stable/user_guide/indexing.html#returning-a-view-versus-a-copy\n",
      "  df['Variasi Makanan'][i] = d\n",
      "C:\\Users\\Rico Fitra Pratama\\AppData\\Local\\Temp\\ipykernel_33392\\120778997.py:4: SettingWithCopyWarning: \n",
      "A value is trying to be set on a copy of a slice from a DataFrame\n",
      "\n",
      "See the caveats in the documentation: https://pandas.pydata.org/pandas-docs/stable/user_guide/indexing.html#returning-a-view-versus-a-copy\n",
      "  df['Variasi Makanan'][i] = d\n",
      "C:\\Users\\Rico Fitra Pratama\\AppData\\Local\\Temp\\ipykernel_33392\\120778997.py:4: SettingWithCopyWarning: \n",
      "A value is trying to be set on a copy of a slice from a DataFrame\n",
      "\n",
      "See the caveats in the documentation: https://pandas.pydata.org/pandas-docs/stable/user_guide/indexing.html#returning-a-view-versus-a-copy\n",
      "  df['Variasi Makanan'][i] = d\n",
      "C:\\Users\\Rico Fitra Pratama\\AppData\\Local\\Temp\\ipykernel_33392\\120778997.py:4: SettingWithCopyWarning: \n",
      "A value is trying to be set on a copy of a slice from a DataFrame\n",
      "\n",
      "See the caveats in the documentation: https://pandas.pydata.org/pandas-docs/stable/user_guide/indexing.html#returning-a-view-versus-a-copy\n",
      "  df['Variasi Makanan'][i] = d\n",
      "C:\\Users\\Rico Fitra Pratama\\AppData\\Local\\Temp\\ipykernel_33392\\120778997.py:4: SettingWithCopyWarning: \n",
      "A value is trying to be set on a copy of a slice from a DataFrame\n",
      "\n",
      "See the caveats in the documentation: https://pandas.pydata.org/pandas-docs/stable/user_guide/indexing.html#returning-a-view-versus-a-copy\n",
      "  df['Variasi Makanan'][i] = d\n",
      "C:\\Users\\Rico Fitra Pratama\\AppData\\Local\\Temp\\ipykernel_33392\\120778997.py:4: SettingWithCopyWarning: \n",
      "A value is trying to be set on a copy of a slice from a DataFrame\n",
      "\n",
      "See the caveats in the documentation: https://pandas.pydata.org/pandas-docs/stable/user_guide/indexing.html#returning-a-view-versus-a-copy\n",
      "  df['Variasi Makanan'][i] = d\n",
      "C:\\Users\\Rico Fitra Pratama\\AppData\\Local\\Temp\\ipykernel_33392\\120778997.py:4: SettingWithCopyWarning: \n",
      "A value is trying to be set on a copy of a slice from a DataFrame\n",
      "\n",
      "See the caveats in the documentation: https://pandas.pydata.org/pandas-docs/stable/user_guide/indexing.html#returning-a-view-versus-a-copy\n",
      "  df['Variasi Makanan'][i] = d\n",
      "C:\\Users\\Rico Fitra Pratama\\AppData\\Local\\Temp\\ipykernel_33392\\120778997.py:4: SettingWithCopyWarning: \n",
      "A value is trying to be set on a copy of a slice from a DataFrame\n",
      "\n",
      "See the caveats in the documentation: https://pandas.pydata.org/pandas-docs/stable/user_guide/indexing.html#returning-a-view-versus-a-copy\n",
      "  df['Variasi Makanan'][i] = d\n",
      "C:\\Users\\Rico Fitra Pratama\\AppData\\Local\\Temp\\ipykernel_33392\\120778997.py:4: SettingWithCopyWarning: \n",
      "A value is trying to be set on a copy of a slice from a DataFrame\n",
      "\n",
      "See the caveats in the documentation: https://pandas.pydata.org/pandas-docs/stable/user_guide/indexing.html#returning-a-view-versus-a-copy\n",
      "  df['Variasi Makanan'][i] = d\n",
      "C:\\Users\\Rico Fitra Pratama\\AppData\\Local\\Temp\\ipykernel_33392\\120778997.py:4: SettingWithCopyWarning: \n",
      "A value is trying to be set on a copy of a slice from a DataFrame\n",
      "\n",
      "See the caveats in the documentation: https://pandas.pydata.org/pandas-docs/stable/user_guide/indexing.html#returning-a-view-versus-a-copy\n",
      "  df['Variasi Makanan'][i] = d\n",
      "C:\\Users\\Rico Fitra Pratama\\AppData\\Local\\Temp\\ipykernel_33392\\120778997.py:4: SettingWithCopyWarning: \n",
      "A value is trying to be set on a copy of a slice from a DataFrame\n",
      "\n",
      "See the caveats in the documentation: https://pandas.pydata.org/pandas-docs/stable/user_guide/indexing.html#returning-a-view-versus-a-copy\n",
      "  df['Variasi Makanan'][i] = d\n",
      "C:\\Users\\Rico Fitra Pratama\\AppData\\Local\\Temp\\ipykernel_33392\\120778997.py:4: SettingWithCopyWarning: \n",
      "A value is trying to be set on a copy of a slice from a DataFrame\n",
      "\n",
      "See the caveats in the documentation: https://pandas.pydata.org/pandas-docs/stable/user_guide/indexing.html#returning-a-view-versus-a-copy\n",
      "  df['Variasi Makanan'][i] = d\n",
      "C:\\Users\\Rico Fitra Pratama\\AppData\\Local\\Temp\\ipykernel_33392\\120778997.py:4: SettingWithCopyWarning: \n",
      "A value is trying to be set on a copy of a slice from a DataFrame\n",
      "\n",
      "See the caveats in the documentation: https://pandas.pydata.org/pandas-docs/stable/user_guide/indexing.html#returning-a-view-versus-a-copy\n",
      "  df['Variasi Makanan'][i] = d\n",
      "C:\\Users\\Rico Fitra Pratama\\AppData\\Local\\Temp\\ipykernel_33392\\120778997.py:4: SettingWithCopyWarning: \n",
      "A value is trying to be set on a copy of a slice from a DataFrame\n",
      "\n",
      "See the caveats in the documentation: https://pandas.pydata.org/pandas-docs/stable/user_guide/indexing.html#returning-a-view-versus-a-copy\n",
      "  df['Variasi Makanan'][i] = d\n",
      "C:\\Users\\Rico Fitra Pratama\\AppData\\Local\\Temp\\ipykernel_33392\\120778997.py:4: SettingWithCopyWarning: \n",
      "A value is trying to be set on a copy of a slice from a DataFrame\n",
      "\n",
      "See the caveats in the documentation: https://pandas.pydata.org/pandas-docs/stable/user_guide/indexing.html#returning-a-view-versus-a-copy\n",
      "  df['Variasi Makanan'][i] = d\n",
      "C:\\Users\\Rico Fitra Pratama\\AppData\\Local\\Temp\\ipykernel_33392\\120778997.py:4: SettingWithCopyWarning: \n",
      "A value is trying to be set on a copy of a slice from a DataFrame\n",
      "\n",
      "See the caveats in the documentation: https://pandas.pydata.org/pandas-docs/stable/user_guide/indexing.html#returning-a-view-versus-a-copy\n",
      "  df['Variasi Makanan'][i] = d\n",
      "C:\\Users\\Rico Fitra Pratama\\AppData\\Local\\Temp\\ipykernel_33392\\120778997.py:4: SettingWithCopyWarning: \n",
      "A value is trying to be set on a copy of a slice from a DataFrame\n",
      "\n",
      "See the caveats in the documentation: https://pandas.pydata.org/pandas-docs/stable/user_guide/indexing.html#returning-a-view-versus-a-copy\n",
      "  df['Variasi Makanan'][i] = d\n",
      "C:\\Users\\Rico Fitra Pratama\\AppData\\Local\\Temp\\ipykernel_33392\\120778997.py:4: SettingWithCopyWarning: \n",
      "A value is trying to be set on a copy of a slice from a DataFrame\n",
      "\n",
      "See the caveats in the documentation: https://pandas.pydata.org/pandas-docs/stable/user_guide/indexing.html#returning-a-view-versus-a-copy\n",
      "  df['Variasi Makanan'][i] = d\n",
      "C:\\Users\\Rico Fitra Pratama\\AppData\\Local\\Temp\\ipykernel_33392\\120778997.py:4: SettingWithCopyWarning: \n",
      "A value is trying to be set on a copy of a slice from a DataFrame\n",
      "\n",
      "See the caveats in the documentation: https://pandas.pydata.org/pandas-docs/stable/user_guide/indexing.html#returning-a-view-versus-a-copy\n",
      "  df['Variasi Makanan'][i] = d\n",
      "C:\\Users\\Rico Fitra Pratama\\AppData\\Local\\Temp\\ipykernel_33392\\120778997.py:4: SettingWithCopyWarning: \n",
      "A value is trying to be set on a copy of a slice from a DataFrame\n",
      "\n",
      "See the caveats in the documentation: https://pandas.pydata.org/pandas-docs/stable/user_guide/indexing.html#returning-a-view-versus-a-copy\n",
      "  df['Variasi Makanan'][i] = d\n",
      "C:\\Users\\Rico Fitra Pratama\\AppData\\Local\\Temp\\ipykernel_33392\\120778997.py:4: SettingWithCopyWarning: \n",
      "A value is trying to be set on a copy of a slice from a DataFrame\n",
      "\n",
      "See the caveats in the documentation: https://pandas.pydata.org/pandas-docs/stable/user_guide/indexing.html#returning-a-view-versus-a-copy\n",
      "  df['Variasi Makanan'][i] = d\n",
      "C:\\Users\\Rico Fitra Pratama\\AppData\\Local\\Temp\\ipykernel_33392\\120778997.py:4: SettingWithCopyWarning: \n",
      "A value is trying to be set on a copy of a slice from a DataFrame\n",
      "\n",
      "See the caveats in the documentation: https://pandas.pydata.org/pandas-docs/stable/user_guide/indexing.html#returning-a-view-versus-a-copy\n",
      "  df['Variasi Makanan'][i] = d\n",
      "C:\\Users\\Rico Fitra Pratama\\AppData\\Local\\Temp\\ipykernel_33392\\120778997.py:4: SettingWithCopyWarning: \n",
      "A value is trying to be set on a copy of a slice from a DataFrame\n",
      "\n",
      "See the caveats in the documentation: https://pandas.pydata.org/pandas-docs/stable/user_guide/indexing.html#returning-a-view-versus-a-copy\n",
      "  df['Variasi Makanan'][i] = d\n",
      "C:\\Users\\Rico Fitra Pratama\\AppData\\Local\\Temp\\ipykernel_33392\\120778997.py:4: SettingWithCopyWarning: \n",
      "A value is trying to be set on a copy of a slice from a DataFrame\n",
      "\n",
      "See the caveats in the documentation: https://pandas.pydata.org/pandas-docs/stable/user_guide/indexing.html#returning-a-view-versus-a-copy\n",
      "  df['Variasi Makanan'][i] = d\n",
      "C:\\Users\\Rico Fitra Pratama\\AppData\\Local\\Temp\\ipykernel_33392\\120778997.py:4: SettingWithCopyWarning: \n",
      "A value is trying to be set on a copy of a slice from a DataFrame\n",
      "\n",
      "See the caveats in the documentation: https://pandas.pydata.org/pandas-docs/stable/user_guide/indexing.html#returning-a-view-versus-a-copy\n",
      "  df['Variasi Makanan'][i] = d\n",
      "C:\\Users\\Rico Fitra Pratama\\AppData\\Local\\Temp\\ipykernel_33392\\120778997.py:4: SettingWithCopyWarning: \n",
      "A value is trying to be set on a copy of a slice from a DataFrame\n",
      "\n",
      "See the caveats in the documentation: https://pandas.pydata.org/pandas-docs/stable/user_guide/indexing.html#returning-a-view-versus-a-copy\n",
      "  df['Variasi Makanan'][i] = d\n",
      "C:\\Users\\Rico Fitra Pratama\\AppData\\Local\\Temp\\ipykernel_33392\\120778997.py:4: SettingWithCopyWarning: \n",
      "A value is trying to be set on a copy of a slice from a DataFrame\n",
      "\n",
      "See the caveats in the documentation: https://pandas.pydata.org/pandas-docs/stable/user_guide/indexing.html#returning-a-view-versus-a-copy\n",
      "  df['Variasi Makanan'][i] = d\n",
      "C:\\Users\\Rico Fitra Pratama\\AppData\\Local\\Temp\\ipykernel_33392\\120778997.py:4: SettingWithCopyWarning: \n",
      "A value is trying to be set on a copy of a slice from a DataFrame\n",
      "\n",
      "See the caveats in the documentation: https://pandas.pydata.org/pandas-docs/stable/user_guide/indexing.html#returning-a-view-versus-a-copy\n",
      "  df['Variasi Makanan'][i] = d\n",
      "C:\\Users\\Rico Fitra Pratama\\AppData\\Local\\Temp\\ipykernel_33392\\120778997.py:4: SettingWithCopyWarning: \n",
      "A value is trying to be set on a copy of a slice from a DataFrame\n",
      "\n",
      "See the caveats in the documentation: https://pandas.pydata.org/pandas-docs/stable/user_guide/indexing.html#returning-a-view-versus-a-copy\n",
      "  df['Variasi Makanan'][i] = d\n",
      "C:\\Users\\Rico Fitra Pratama\\AppData\\Local\\Temp\\ipykernel_33392\\120778997.py:4: SettingWithCopyWarning: \n",
      "A value is trying to be set on a copy of a slice from a DataFrame\n",
      "\n",
      "See the caveats in the documentation: https://pandas.pydata.org/pandas-docs/stable/user_guide/indexing.html#returning-a-view-versus-a-copy\n",
      "  df['Variasi Makanan'][i] = d\n",
      "C:\\Users\\Rico Fitra Pratama\\AppData\\Local\\Temp\\ipykernel_33392\\120778997.py:4: SettingWithCopyWarning: \n",
      "A value is trying to be set on a copy of a slice from a DataFrame\n",
      "\n",
      "See the caveats in the documentation: https://pandas.pydata.org/pandas-docs/stable/user_guide/indexing.html#returning-a-view-versus-a-copy\n",
      "  df['Variasi Makanan'][i] = d\n",
      "C:\\Users\\Rico Fitra Pratama\\AppData\\Local\\Temp\\ipykernel_33392\\120778997.py:4: SettingWithCopyWarning: \n",
      "A value is trying to be set on a copy of a slice from a DataFrame\n",
      "\n",
      "See the caveats in the documentation: https://pandas.pydata.org/pandas-docs/stable/user_guide/indexing.html#returning-a-view-versus-a-copy\n",
      "  df['Variasi Makanan'][i] = d\n",
      "C:\\Users\\Rico Fitra Pratama\\AppData\\Local\\Temp\\ipykernel_33392\\120778997.py:4: SettingWithCopyWarning: \n",
      "A value is trying to be set on a copy of a slice from a DataFrame\n",
      "\n",
      "See the caveats in the documentation: https://pandas.pydata.org/pandas-docs/stable/user_guide/indexing.html#returning-a-view-versus-a-copy\n",
      "  df['Variasi Makanan'][i] = d\n",
      "C:\\Users\\Rico Fitra Pratama\\AppData\\Local\\Temp\\ipykernel_33392\\120778997.py:4: SettingWithCopyWarning: \n",
      "A value is trying to be set on a copy of a slice from a DataFrame\n",
      "\n",
      "See the caveats in the documentation: https://pandas.pydata.org/pandas-docs/stable/user_guide/indexing.html#returning-a-view-versus-a-copy\n",
      "  df['Variasi Makanan'][i] = d\n",
      "C:\\Users\\Rico Fitra Pratama\\AppData\\Local\\Temp\\ipykernel_33392\\120778997.py:4: SettingWithCopyWarning: \n",
      "A value is trying to be set on a copy of a slice from a DataFrame\n",
      "\n",
      "See the caveats in the documentation: https://pandas.pydata.org/pandas-docs/stable/user_guide/indexing.html#returning-a-view-versus-a-copy\n",
      "  df['Variasi Makanan'][i] = d\n",
      "C:\\Users\\Rico Fitra Pratama\\AppData\\Local\\Temp\\ipykernel_33392\\120778997.py:4: SettingWithCopyWarning: \n",
      "A value is trying to be set on a copy of a slice from a DataFrame\n",
      "\n",
      "See the caveats in the documentation: https://pandas.pydata.org/pandas-docs/stable/user_guide/indexing.html#returning-a-view-versus-a-copy\n",
      "  df['Variasi Makanan'][i] = d\n",
      "C:\\Users\\Rico Fitra Pratama\\AppData\\Local\\Temp\\ipykernel_33392\\120778997.py:4: SettingWithCopyWarning: \n",
      "A value is trying to be set on a copy of a slice from a DataFrame\n",
      "\n",
      "See the caveats in the documentation: https://pandas.pydata.org/pandas-docs/stable/user_guide/indexing.html#returning-a-view-versus-a-copy\n",
      "  df['Variasi Makanan'][i] = d\n",
      "C:\\Users\\Rico Fitra Pratama\\AppData\\Local\\Temp\\ipykernel_33392\\120778997.py:4: SettingWithCopyWarning: \n",
      "A value is trying to be set on a copy of a slice from a DataFrame\n",
      "\n",
      "See the caveats in the documentation: https://pandas.pydata.org/pandas-docs/stable/user_guide/indexing.html#returning-a-view-versus-a-copy\n",
      "  df['Variasi Makanan'][i] = d\n",
      "C:\\Users\\Rico Fitra Pratama\\AppData\\Local\\Temp\\ipykernel_33392\\120778997.py:4: SettingWithCopyWarning: \n",
      "A value is trying to be set on a copy of a slice from a DataFrame\n",
      "\n",
      "See the caveats in the documentation: https://pandas.pydata.org/pandas-docs/stable/user_guide/indexing.html#returning-a-view-versus-a-copy\n",
      "  df['Variasi Makanan'][i] = d\n",
      "C:\\Users\\Rico Fitra Pratama\\AppData\\Local\\Temp\\ipykernel_33392\\120778997.py:4: SettingWithCopyWarning: \n",
      "A value is trying to be set on a copy of a slice from a DataFrame\n",
      "\n",
      "See the caveats in the documentation: https://pandas.pydata.org/pandas-docs/stable/user_guide/indexing.html#returning-a-view-versus-a-copy\n",
      "  df['Variasi Makanan'][i] = d\n",
      "C:\\Users\\Rico Fitra Pratama\\AppData\\Local\\Temp\\ipykernel_33392\\120778997.py:4: SettingWithCopyWarning: \n",
      "A value is trying to be set on a copy of a slice from a DataFrame\n",
      "\n",
      "See the caveats in the documentation: https://pandas.pydata.org/pandas-docs/stable/user_guide/indexing.html#returning-a-view-versus-a-copy\n",
      "  df['Variasi Makanan'][i] = d\n",
      "C:\\Users\\Rico Fitra Pratama\\AppData\\Local\\Temp\\ipykernel_33392\\120778997.py:4: SettingWithCopyWarning: \n",
      "A value is trying to be set on a copy of a slice from a DataFrame\n",
      "\n",
      "See the caveats in the documentation: https://pandas.pydata.org/pandas-docs/stable/user_guide/indexing.html#returning-a-view-versus-a-copy\n",
      "  df['Variasi Makanan'][i] = d\n",
      "C:\\Users\\Rico Fitra Pratama\\AppData\\Local\\Temp\\ipykernel_33392\\120778997.py:4: SettingWithCopyWarning: \n",
      "A value is trying to be set on a copy of a slice from a DataFrame\n",
      "\n",
      "See the caveats in the documentation: https://pandas.pydata.org/pandas-docs/stable/user_guide/indexing.html#returning-a-view-versus-a-copy\n",
      "  df['Variasi Makanan'][i] = d\n",
      "C:\\Users\\Rico Fitra Pratama\\AppData\\Local\\Temp\\ipykernel_33392\\120778997.py:4: SettingWithCopyWarning: \n",
      "A value is trying to be set on a copy of a slice from a DataFrame\n",
      "\n",
      "See the caveats in the documentation: https://pandas.pydata.org/pandas-docs/stable/user_guide/indexing.html#returning-a-view-versus-a-copy\n",
      "  df['Variasi Makanan'][i] = d\n",
      "C:\\Users\\Rico Fitra Pratama\\AppData\\Local\\Temp\\ipykernel_33392\\120778997.py:4: SettingWithCopyWarning: \n",
      "A value is trying to be set on a copy of a slice from a DataFrame\n",
      "\n",
      "See the caveats in the documentation: https://pandas.pydata.org/pandas-docs/stable/user_guide/indexing.html#returning-a-view-versus-a-copy\n",
      "  df['Variasi Makanan'][i] = d\n",
      "C:\\Users\\Rico Fitra Pratama\\AppData\\Local\\Temp\\ipykernel_33392\\120778997.py:4: SettingWithCopyWarning: \n",
      "A value is trying to be set on a copy of a slice from a DataFrame\n",
      "\n",
      "See the caveats in the documentation: https://pandas.pydata.org/pandas-docs/stable/user_guide/indexing.html#returning-a-view-versus-a-copy\n",
      "  df['Variasi Makanan'][i] = d\n",
      "C:\\Users\\Rico Fitra Pratama\\AppData\\Local\\Temp\\ipykernel_33392\\120778997.py:4: SettingWithCopyWarning: \n",
      "A value is trying to be set on a copy of a slice from a DataFrame\n",
      "\n",
      "See the caveats in the documentation: https://pandas.pydata.org/pandas-docs/stable/user_guide/indexing.html#returning-a-view-versus-a-copy\n",
      "  df['Variasi Makanan'][i] = d\n",
      "C:\\Users\\Rico Fitra Pratama\\AppData\\Local\\Temp\\ipykernel_33392\\120778997.py:4: SettingWithCopyWarning: \n",
      "A value is trying to be set on a copy of a slice from a DataFrame\n",
      "\n",
      "See the caveats in the documentation: https://pandas.pydata.org/pandas-docs/stable/user_guide/indexing.html#returning-a-view-versus-a-copy\n",
      "  df['Variasi Makanan'][i] = d\n",
      "C:\\Users\\Rico Fitra Pratama\\AppData\\Local\\Temp\\ipykernel_33392\\120778997.py:4: SettingWithCopyWarning: \n",
      "A value is trying to be set on a copy of a slice from a DataFrame\n",
      "\n",
      "See the caveats in the documentation: https://pandas.pydata.org/pandas-docs/stable/user_guide/indexing.html#returning-a-view-versus-a-copy\n",
      "  df['Variasi Makanan'][i] = d\n",
      "C:\\Users\\Rico Fitra Pratama\\AppData\\Local\\Temp\\ipykernel_33392\\120778997.py:4: SettingWithCopyWarning: \n",
      "A value is trying to be set on a copy of a slice from a DataFrame\n",
      "\n",
      "See the caveats in the documentation: https://pandas.pydata.org/pandas-docs/stable/user_guide/indexing.html#returning-a-view-versus-a-copy\n",
      "  df['Variasi Makanan'][i] = d\n",
      "C:\\Users\\Rico Fitra Pratama\\AppData\\Local\\Temp\\ipykernel_33392\\120778997.py:4: SettingWithCopyWarning: \n",
      "A value is trying to be set on a copy of a slice from a DataFrame\n",
      "\n",
      "See the caveats in the documentation: https://pandas.pydata.org/pandas-docs/stable/user_guide/indexing.html#returning-a-view-versus-a-copy\n",
      "  df['Variasi Makanan'][i] = d\n",
      "C:\\Users\\Rico Fitra Pratama\\AppData\\Local\\Temp\\ipykernel_33392\\120778997.py:4: SettingWithCopyWarning: \n",
      "A value is trying to be set on a copy of a slice from a DataFrame\n",
      "\n",
      "See the caveats in the documentation: https://pandas.pydata.org/pandas-docs/stable/user_guide/indexing.html#returning-a-view-versus-a-copy\n",
      "  df['Variasi Makanan'][i] = d\n",
      "C:\\Users\\Rico Fitra Pratama\\AppData\\Local\\Temp\\ipykernel_33392\\120778997.py:4: SettingWithCopyWarning: \n",
      "A value is trying to be set on a copy of a slice from a DataFrame\n",
      "\n",
      "See the caveats in the documentation: https://pandas.pydata.org/pandas-docs/stable/user_guide/indexing.html#returning-a-view-versus-a-copy\n",
      "  df['Variasi Makanan'][i] = d\n",
      "C:\\Users\\Rico Fitra Pratama\\AppData\\Local\\Temp\\ipykernel_33392\\120778997.py:4: SettingWithCopyWarning: \n",
      "A value is trying to be set on a copy of a slice from a DataFrame\n",
      "\n",
      "See the caveats in the documentation: https://pandas.pydata.org/pandas-docs/stable/user_guide/indexing.html#returning-a-view-versus-a-copy\n",
      "  df['Variasi Makanan'][i] = d\n",
      "C:\\Users\\Rico Fitra Pratama\\AppData\\Local\\Temp\\ipykernel_33392\\120778997.py:4: SettingWithCopyWarning: \n",
      "A value is trying to be set on a copy of a slice from a DataFrame\n",
      "\n",
      "See the caveats in the documentation: https://pandas.pydata.org/pandas-docs/stable/user_guide/indexing.html#returning-a-view-versus-a-copy\n",
      "  df['Variasi Makanan'][i] = d\n",
      "C:\\Users\\Rico Fitra Pratama\\AppData\\Local\\Temp\\ipykernel_33392\\120778997.py:4: SettingWithCopyWarning: \n",
      "A value is trying to be set on a copy of a slice from a DataFrame\n",
      "\n",
      "See the caveats in the documentation: https://pandas.pydata.org/pandas-docs/stable/user_guide/indexing.html#returning-a-view-versus-a-copy\n",
      "  df['Variasi Makanan'][i] = d\n",
      "C:\\Users\\Rico Fitra Pratama\\AppData\\Local\\Temp\\ipykernel_33392\\120778997.py:4: SettingWithCopyWarning: \n",
      "A value is trying to be set on a copy of a slice from a DataFrame\n",
      "\n",
      "See the caveats in the documentation: https://pandas.pydata.org/pandas-docs/stable/user_guide/indexing.html#returning-a-view-versus-a-copy\n",
      "  df['Variasi Makanan'][i] = d\n",
      "C:\\Users\\Rico Fitra Pratama\\AppData\\Local\\Temp\\ipykernel_33392\\120778997.py:4: SettingWithCopyWarning: \n",
      "A value is trying to be set on a copy of a slice from a DataFrame\n",
      "\n",
      "See the caveats in the documentation: https://pandas.pydata.org/pandas-docs/stable/user_guide/indexing.html#returning-a-view-versus-a-copy\n",
      "  df['Variasi Makanan'][i] = d\n",
      "C:\\Users\\Rico Fitra Pratama\\AppData\\Local\\Temp\\ipykernel_33392\\120778997.py:4: SettingWithCopyWarning: \n",
      "A value is trying to be set on a copy of a slice from a DataFrame\n",
      "\n",
      "See the caveats in the documentation: https://pandas.pydata.org/pandas-docs/stable/user_guide/indexing.html#returning-a-view-versus-a-copy\n",
      "  df['Variasi Makanan'][i] = d\n",
      "C:\\Users\\Rico Fitra Pratama\\AppData\\Local\\Temp\\ipykernel_33392\\120778997.py:4: SettingWithCopyWarning: \n",
      "A value is trying to be set on a copy of a slice from a DataFrame\n",
      "\n",
      "See the caveats in the documentation: https://pandas.pydata.org/pandas-docs/stable/user_guide/indexing.html#returning-a-view-versus-a-copy\n",
      "  df['Variasi Makanan'][i] = d\n",
      "C:\\Users\\Rico Fitra Pratama\\AppData\\Local\\Temp\\ipykernel_33392\\120778997.py:4: SettingWithCopyWarning: \n",
      "A value is trying to be set on a copy of a slice from a DataFrame\n",
      "\n",
      "See the caveats in the documentation: https://pandas.pydata.org/pandas-docs/stable/user_guide/indexing.html#returning-a-view-versus-a-copy\n",
      "  df['Variasi Makanan'][i] = d\n",
      "C:\\Users\\Rico Fitra Pratama\\AppData\\Local\\Temp\\ipykernel_33392\\120778997.py:4: SettingWithCopyWarning: \n",
      "A value is trying to be set on a copy of a slice from a DataFrame\n",
      "\n",
      "See the caveats in the documentation: https://pandas.pydata.org/pandas-docs/stable/user_guide/indexing.html#returning-a-view-versus-a-copy\n",
      "  df['Variasi Makanan'][i] = d\n",
      "C:\\Users\\Rico Fitra Pratama\\AppData\\Local\\Temp\\ipykernel_33392\\120778997.py:4: SettingWithCopyWarning: \n",
      "A value is trying to be set on a copy of a slice from a DataFrame\n",
      "\n",
      "See the caveats in the documentation: https://pandas.pydata.org/pandas-docs/stable/user_guide/indexing.html#returning-a-view-versus-a-copy\n",
      "  df['Variasi Makanan'][i] = d\n",
      "C:\\Users\\Rico Fitra Pratama\\AppData\\Local\\Temp\\ipykernel_33392\\120778997.py:4: SettingWithCopyWarning: \n",
      "A value is trying to be set on a copy of a slice from a DataFrame\n",
      "\n",
      "See the caveats in the documentation: https://pandas.pydata.org/pandas-docs/stable/user_guide/indexing.html#returning-a-view-versus-a-copy\n",
      "  df['Variasi Makanan'][i] = d\n",
      "C:\\Users\\Rico Fitra Pratama\\AppData\\Local\\Temp\\ipykernel_33392\\120778997.py:4: SettingWithCopyWarning: \n",
      "A value is trying to be set on a copy of a slice from a DataFrame\n",
      "\n",
      "See the caveats in the documentation: https://pandas.pydata.org/pandas-docs/stable/user_guide/indexing.html#returning-a-view-versus-a-copy\n",
      "  df['Variasi Makanan'][i] = d\n",
      "C:\\Users\\Rico Fitra Pratama\\AppData\\Local\\Temp\\ipykernel_33392\\120778997.py:4: SettingWithCopyWarning: \n",
      "A value is trying to be set on a copy of a slice from a DataFrame\n",
      "\n",
      "See the caveats in the documentation: https://pandas.pydata.org/pandas-docs/stable/user_guide/indexing.html#returning-a-view-versus-a-copy\n",
      "  df['Variasi Makanan'][i] = d\n",
      "C:\\Users\\Rico Fitra Pratama\\AppData\\Local\\Temp\\ipykernel_33392\\120778997.py:4: SettingWithCopyWarning: \n",
      "A value is trying to be set on a copy of a slice from a DataFrame\n",
      "\n",
      "See the caveats in the documentation: https://pandas.pydata.org/pandas-docs/stable/user_guide/indexing.html#returning-a-view-versus-a-copy\n",
      "  df['Variasi Makanan'][i] = d\n",
      "C:\\Users\\Rico Fitra Pratama\\AppData\\Local\\Temp\\ipykernel_33392\\120778997.py:4: SettingWithCopyWarning: \n",
      "A value is trying to be set on a copy of a slice from a DataFrame\n",
      "\n",
      "See the caveats in the documentation: https://pandas.pydata.org/pandas-docs/stable/user_guide/indexing.html#returning-a-view-versus-a-copy\n",
      "  df['Variasi Makanan'][i] = d\n",
      "C:\\Users\\Rico Fitra Pratama\\AppData\\Local\\Temp\\ipykernel_33392\\120778997.py:4: SettingWithCopyWarning: \n",
      "A value is trying to be set on a copy of a slice from a DataFrame\n",
      "\n",
      "See the caveats in the documentation: https://pandas.pydata.org/pandas-docs/stable/user_guide/indexing.html#returning-a-view-versus-a-copy\n",
      "  df['Variasi Makanan'][i] = d\n",
      "C:\\Users\\Rico Fitra Pratama\\AppData\\Local\\Temp\\ipykernel_33392\\120778997.py:4: SettingWithCopyWarning: \n",
      "A value is trying to be set on a copy of a slice from a DataFrame\n",
      "\n",
      "See the caveats in the documentation: https://pandas.pydata.org/pandas-docs/stable/user_guide/indexing.html#returning-a-view-versus-a-copy\n",
      "  df['Variasi Makanan'][i] = d\n",
      "C:\\Users\\Rico Fitra Pratama\\AppData\\Local\\Temp\\ipykernel_33392\\120778997.py:4: SettingWithCopyWarning: \n",
      "A value is trying to be set on a copy of a slice from a DataFrame\n",
      "\n",
      "See the caveats in the documentation: https://pandas.pydata.org/pandas-docs/stable/user_guide/indexing.html#returning-a-view-versus-a-copy\n",
      "  df['Variasi Makanan'][i] = d\n",
      "C:\\Users\\Rico Fitra Pratama\\AppData\\Local\\Temp\\ipykernel_33392\\120778997.py:4: SettingWithCopyWarning: \n",
      "A value is trying to be set on a copy of a slice from a DataFrame\n",
      "\n",
      "See the caveats in the documentation: https://pandas.pydata.org/pandas-docs/stable/user_guide/indexing.html#returning-a-view-versus-a-copy\n",
      "  df['Variasi Makanan'][i] = d\n",
      "C:\\Users\\Rico Fitra Pratama\\AppData\\Local\\Temp\\ipykernel_33392\\120778997.py:4: SettingWithCopyWarning: \n",
      "A value is trying to be set on a copy of a slice from a DataFrame\n",
      "\n",
      "See the caveats in the documentation: https://pandas.pydata.org/pandas-docs/stable/user_guide/indexing.html#returning-a-view-versus-a-copy\n",
      "  df['Variasi Makanan'][i] = d\n",
      "C:\\Users\\Rico Fitra Pratama\\AppData\\Local\\Temp\\ipykernel_33392\\120778997.py:4: SettingWithCopyWarning: \n",
      "A value is trying to be set on a copy of a slice from a DataFrame\n",
      "\n",
      "See the caveats in the documentation: https://pandas.pydata.org/pandas-docs/stable/user_guide/indexing.html#returning-a-view-versus-a-copy\n",
      "  df['Variasi Makanan'][i] = d\n",
      "C:\\Users\\Rico Fitra Pratama\\AppData\\Local\\Temp\\ipykernel_33392\\120778997.py:4: SettingWithCopyWarning: \n",
      "A value is trying to be set on a copy of a slice from a DataFrame\n",
      "\n",
      "See the caveats in the documentation: https://pandas.pydata.org/pandas-docs/stable/user_guide/indexing.html#returning-a-view-versus-a-copy\n",
      "  df['Variasi Makanan'][i] = d\n",
      "C:\\Users\\Rico Fitra Pratama\\AppData\\Local\\Temp\\ipykernel_33392\\120778997.py:4: SettingWithCopyWarning: \n",
      "A value is trying to be set on a copy of a slice from a DataFrame\n",
      "\n",
      "See the caveats in the documentation: https://pandas.pydata.org/pandas-docs/stable/user_guide/indexing.html#returning-a-view-versus-a-copy\n",
      "  df['Variasi Makanan'][i] = d\n",
      "C:\\Users\\Rico Fitra Pratama\\AppData\\Local\\Temp\\ipykernel_33392\\120778997.py:4: SettingWithCopyWarning: \n",
      "A value is trying to be set on a copy of a slice from a DataFrame\n",
      "\n",
      "See the caveats in the documentation: https://pandas.pydata.org/pandas-docs/stable/user_guide/indexing.html#returning-a-view-versus-a-copy\n",
      "  df['Variasi Makanan'][i] = d\n",
      "C:\\Users\\Rico Fitra Pratama\\AppData\\Local\\Temp\\ipykernel_33392\\120778997.py:4: SettingWithCopyWarning: \n",
      "A value is trying to be set on a copy of a slice from a DataFrame\n",
      "\n",
      "See the caveats in the documentation: https://pandas.pydata.org/pandas-docs/stable/user_guide/indexing.html#returning-a-view-versus-a-copy\n",
      "  df['Variasi Makanan'][i] = d\n",
      "C:\\Users\\Rico Fitra Pratama\\AppData\\Local\\Temp\\ipykernel_33392\\120778997.py:4: SettingWithCopyWarning: \n",
      "A value is trying to be set on a copy of a slice from a DataFrame\n",
      "\n",
      "See the caveats in the documentation: https://pandas.pydata.org/pandas-docs/stable/user_guide/indexing.html#returning-a-view-versus-a-copy\n",
      "  df['Variasi Makanan'][i] = d\n",
      "C:\\Users\\Rico Fitra Pratama\\AppData\\Local\\Temp\\ipykernel_33392\\120778997.py:4: SettingWithCopyWarning: \n",
      "A value is trying to be set on a copy of a slice from a DataFrame\n",
      "\n",
      "See the caveats in the documentation: https://pandas.pydata.org/pandas-docs/stable/user_guide/indexing.html#returning-a-view-versus-a-copy\n",
      "  df['Variasi Makanan'][i] = d\n",
      "C:\\Users\\Rico Fitra Pratama\\AppData\\Local\\Temp\\ipykernel_33392\\120778997.py:4: SettingWithCopyWarning: \n",
      "A value is trying to be set on a copy of a slice from a DataFrame\n",
      "\n",
      "See the caveats in the documentation: https://pandas.pydata.org/pandas-docs/stable/user_guide/indexing.html#returning-a-view-versus-a-copy\n",
      "  df['Variasi Makanan'][i] = d\n",
      "C:\\Users\\Rico Fitra Pratama\\AppData\\Local\\Temp\\ipykernel_33392\\120778997.py:4: SettingWithCopyWarning: \n",
      "A value is trying to be set on a copy of a slice from a DataFrame\n",
      "\n",
      "See the caveats in the documentation: https://pandas.pydata.org/pandas-docs/stable/user_guide/indexing.html#returning-a-view-versus-a-copy\n",
      "  df['Variasi Makanan'][i] = d\n",
      "C:\\Users\\Rico Fitra Pratama\\AppData\\Local\\Temp\\ipykernel_33392\\120778997.py:4: SettingWithCopyWarning: \n",
      "A value is trying to be set on a copy of a slice from a DataFrame\n",
      "\n",
      "See the caveats in the documentation: https://pandas.pydata.org/pandas-docs/stable/user_guide/indexing.html#returning-a-view-versus-a-copy\n",
      "  df['Variasi Makanan'][i] = d\n",
      "C:\\Users\\Rico Fitra Pratama\\AppData\\Local\\Temp\\ipykernel_33392\\120778997.py:4: SettingWithCopyWarning: \n",
      "A value is trying to be set on a copy of a slice from a DataFrame\n",
      "\n",
      "See the caveats in the documentation: https://pandas.pydata.org/pandas-docs/stable/user_guide/indexing.html#returning-a-view-versus-a-copy\n",
      "  df['Variasi Makanan'][i] = d\n",
      "C:\\Users\\Rico Fitra Pratama\\AppData\\Local\\Temp\\ipykernel_33392\\120778997.py:4: SettingWithCopyWarning: \n",
      "A value is trying to be set on a copy of a slice from a DataFrame\n",
      "\n",
      "See the caveats in the documentation: https://pandas.pydata.org/pandas-docs/stable/user_guide/indexing.html#returning-a-view-versus-a-copy\n",
      "  df['Variasi Makanan'][i] = d\n",
      "C:\\Users\\Rico Fitra Pratama\\AppData\\Local\\Temp\\ipykernel_33392\\120778997.py:4: SettingWithCopyWarning: \n",
      "A value is trying to be set on a copy of a slice from a DataFrame\n",
      "\n",
      "See the caveats in the documentation: https://pandas.pydata.org/pandas-docs/stable/user_guide/indexing.html#returning-a-view-versus-a-copy\n",
      "  df['Variasi Makanan'][i] = d\n",
      "C:\\Users\\Rico Fitra Pratama\\AppData\\Local\\Temp\\ipykernel_33392\\120778997.py:4: SettingWithCopyWarning: \n",
      "A value is trying to be set on a copy of a slice from a DataFrame\n",
      "\n",
      "See the caveats in the documentation: https://pandas.pydata.org/pandas-docs/stable/user_guide/indexing.html#returning-a-view-versus-a-copy\n",
      "  df['Variasi Makanan'][i] = d\n",
      "C:\\Users\\Rico Fitra Pratama\\AppData\\Local\\Temp\\ipykernel_33392\\120778997.py:4: SettingWithCopyWarning: \n",
      "A value is trying to be set on a copy of a slice from a DataFrame\n",
      "\n",
      "See the caveats in the documentation: https://pandas.pydata.org/pandas-docs/stable/user_guide/indexing.html#returning-a-view-versus-a-copy\n",
      "  df['Variasi Makanan'][i] = d\n",
      "C:\\Users\\Rico Fitra Pratama\\AppData\\Local\\Temp\\ipykernel_33392\\120778997.py:4: SettingWithCopyWarning: \n",
      "A value is trying to be set on a copy of a slice from a DataFrame\n",
      "\n",
      "See the caveats in the documentation: https://pandas.pydata.org/pandas-docs/stable/user_guide/indexing.html#returning-a-view-versus-a-copy\n",
      "  df['Variasi Makanan'][i] = d\n",
      "C:\\Users\\Rico Fitra Pratama\\AppData\\Local\\Temp\\ipykernel_33392\\120778997.py:4: SettingWithCopyWarning: \n",
      "A value is trying to be set on a copy of a slice from a DataFrame\n",
      "\n",
      "See the caveats in the documentation: https://pandas.pydata.org/pandas-docs/stable/user_guide/indexing.html#returning-a-view-versus-a-copy\n",
      "  df['Variasi Makanan'][i] = d\n",
      "C:\\Users\\Rico Fitra Pratama\\AppData\\Local\\Temp\\ipykernel_33392\\120778997.py:4: SettingWithCopyWarning: \n",
      "A value is trying to be set on a copy of a slice from a DataFrame\n",
      "\n",
      "See the caveats in the documentation: https://pandas.pydata.org/pandas-docs/stable/user_guide/indexing.html#returning-a-view-versus-a-copy\n",
      "  df['Variasi Makanan'][i] = d\n",
      "C:\\Users\\Rico Fitra Pratama\\AppData\\Local\\Temp\\ipykernel_33392\\120778997.py:4: SettingWithCopyWarning: \n",
      "A value is trying to be set on a copy of a slice from a DataFrame\n",
      "\n",
      "See the caveats in the documentation: https://pandas.pydata.org/pandas-docs/stable/user_guide/indexing.html#returning-a-view-versus-a-copy\n",
      "  df['Variasi Makanan'][i] = d\n",
      "C:\\Users\\Rico Fitra Pratama\\AppData\\Local\\Temp\\ipykernel_33392\\120778997.py:4: SettingWithCopyWarning: \n",
      "A value is trying to be set on a copy of a slice from a DataFrame\n",
      "\n",
      "See the caveats in the documentation: https://pandas.pydata.org/pandas-docs/stable/user_guide/indexing.html#returning-a-view-versus-a-copy\n",
      "  df['Variasi Makanan'][i] = d\n",
      "C:\\Users\\Rico Fitra Pratama\\AppData\\Local\\Temp\\ipykernel_33392\\120778997.py:4: SettingWithCopyWarning: \n",
      "A value is trying to be set on a copy of a slice from a DataFrame\n",
      "\n",
      "See the caveats in the documentation: https://pandas.pydata.org/pandas-docs/stable/user_guide/indexing.html#returning-a-view-versus-a-copy\n",
      "  df['Variasi Makanan'][i] = d\n",
      "C:\\Users\\Rico Fitra Pratama\\AppData\\Local\\Temp\\ipykernel_33392\\120778997.py:4: SettingWithCopyWarning: \n",
      "A value is trying to be set on a copy of a slice from a DataFrame\n",
      "\n",
      "See the caveats in the documentation: https://pandas.pydata.org/pandas-docs/stable/user_guide/indexing.html#returning-a-view-versus-a-copy\n",
      "  df['Variasi Makanan'][i] = d\n",
      "C:\\Users\\Rico Fitra Pratama\\AppData\\Local\\Temp\\ipykernel_33392\\120778997.py:4: SettingWithCopyWarning: \n",
      "A value is trying to be set on a copy of a slice from a DataFrame\n",
      "\n",
      "See the caveats in the documentation: https://pandas.pydata.org/pandas-docs/stable/user_guide/indexing.html#returning-a-view-versus-a-copy\n",
      "  df['Variasi Makanan'][i] = d\n",
      "C:\\Users\\Rico Fitra Pratama\\AppData\\Local\\Temp\\ipykernel_33392\\120778997.py:4: SettingWithCopyWarning: \n",
      "A value is trying to be set on a copy of a slice from a DataFrame\n",
      "\n",
      "See the caveats in the documentation: https://pandas.pydata.org/pandas-docs/stable/user_guide/indexing.html#returning-a-view-versus-a-copy\n",
      "  df['Variasi Makanan'][i] = d\n",
      "C:\\Users\\Rico Fitra Pratama\\AppData\\Local\\Temp\\ipykernel_33392\\120778997.py:4: SettingWithCopyWarning: \n",
      "A value is trying to be set on a copy of a slice from a DataFrame\n",
      "\n",
      "See the caveats in the documentation: https://pandas.pydata.org/pandas-docs/stable/user_guide/indexing.html#returning-a-view-versus-a-copy\n",
      "  df['Variasi Makanan'][i] = d\n",
      "C:\\Users\\Rico Fitra Pratama\\AppData\\Local\\Temp\\ipykernel_33392\\120778997.py:4: SettingWithCopyWarning: \n",
      "A value is trying to be set on a copy of a slice from a DataFrame\n",
      "\n",
      "See the caveats in the documentation: https://pandas.pydata.org/pandas-docs/stable/user_guide/indexing.html#returning-a-view-versus-a-copy\n",
      "  df['Variasi Makanan'][i] = d\n",
      "C:\\Users\\Rico Fitra Pratama\\AppData\\Local\\Temp\\ipykernel_33392\\120778997.py:4: SettingWithCopyWarning: \n",
      "A value is trying to be set on a copy of a slice from a DataFrame\n",
      "\n",
      "See the caveats in the documentation: https://pandas.pydata.org/pandas-docs/stable/user_guide/indexing.html#returning-a-view-versus-a-copy\n",
      "  df['Variasi Makanan'][i] = d\n",
      "C:\\Users\\Rico Fitra Pratama\\AppData\\Local\\Temp\\ipykernel_33392\\120778997.py:4: SettingWithCopyWarning: \n",
      "A value is trying to be set on a copy of a slice from a DataFrame\n",
      "\n",
      "See the caveats in the documentation: https://pandas.pydata.org/pandas-docs/stable/user_guide/indexing.html#returning-a-view-versus-a-copy\n",
      "  df['Variasi Makanan'][i] = d\n",
      "C:\\Users\\Rico Fitra Pratama\\AppData\\Local\\Temp\\ipykernel_33392\\120778997.py:4: SettingWithCopyWarning: \n",
      "A value is trying to be set on a copy of a slice from a DataFrame\n",
      "\n",
      "See the caveats in the documentation: https://pandas.pydata.org/pandas-docs/stable/user_guide/indexing.html#returning-a-view-versus-a-copy\n",
      "  df['Variasi Makanan'][i] = d\n",
      "C:\\Users\\Rico Fitra Pratama\\AppData\\Local\\Temp\\ipykernel_33392\\120778997.py:4: SettingWithCopyWarning: \n",
      "A value is trying to be set on a copy of a slice from a DataFrame\n",
      "\n",
      "See the caveats in the documentation: https://pandas.pydata.org/pandas-docs/stable/user_guide/indexing.html#returning-a-view-versus-a-copy\n",
      "  df['Variasi Makanan'][i] = d\n",
      "C:\\Users\\Rico Fitra Pratama\\AppData\\Local\\Temp\\ipykernel_33392\\120778997.py:4: SettingWithCopyWarning: \n",
      "A value is trying to be set on a copy of a slice from a DataFrame\n",
      "\n",
      "See the caveats in the documentation: https://pandas.pydata.org/pandas-docs/stable/user_guide/indexing.html#returning-a-view-versus-a-copy\n",
      "  df['Variasi Makanan'][i] = d\n",
      "C:\\Users\\Rico Fitra Pratama\\AppData\\Local\\Temp\\ipykernel_33392\\120778997.py:4: SettingWithCopyWarning: \n",
      "A value is trying to be set on a copy of a slice from a DataFrame\n",
      "\n",
      "See the caveats in the documentation: https://pandas.pydata.org/pandas-docs/stable/user_guide/indexing.html#returning-a-view-versus-a-copy\n",
      "  df['Variasi Makanan'][i] = d\n",
      "C:\\Users\\Rico Fitra Pratama\\AppData\\Local\\Temp\\ipykernel_33392\\120778997.py:4: SettingWithCopyWarning: \n",
      "A value is trying to be set on a copy of a slice from a DataFrame\n",
      "\n",
      "See the caveats in the documentation: https://pandas.pydata.org/pandas-docs/stable/user_guide/indexing.html#returning-a-view-versus-a-copy\n",
      "  df['Variasi Makanan'][i] = d\n",
      "C:\\Users\\Rico Fitra Pratama\\AppData\\Local\\Temp\\ipykernel_33392\\120778997.py:4: SettingWithCopyWarning: \n",
      "A value is trying to be set on a copy of a slice from a DataFrame\n",
      "\n",
      "See the caveats in the documentation: https://pandas.pydata.org/pandas-docs/stable/user_guide/indexing.html#returning-a-view-versus-a-copy\n",
      "  df['Variasi Makanan'][i] = d\n",
      "C:\\Users\\Rico Fitra Pratama\\AppData\\Local\\Temp\\ipykernel_33392\\120778997.py:4: SettingWithCopyWarning: \n",
      "A value is trying to be set on a copy of a slice from a DataFrame\n",
      "\n",
      "See the caveats in the documentation: https://pandas.pydata.org/pandas-docs/stable/user_guide/indexing.html#returning-a-view-versus-a-copy\n",
      "  df['Variasi Makanan'][i] = d\n",
      "C:\\Users\\Rico Fitra Pratama\\AppData\\Local\\Temp\\ipykernel_33392\\120778997.py:4: SettingWithCopyWarning: \n",
      "A value is trying to be set on a copy of a slice from a DataFrame\n",
      "\n",
      "See the caveats in the documentation: https://pandas.pydata.org/pandas-docs/stable/user_guide/indexing.html#returning-a-view-versus-a-copy\n",
      "  df['Variasi Makanan'][i] = d\n",
      "C:\\Users\\Rico Fitra Pratama\\AppData\\Local\\Temp\\ipykernel_33392\\120778997.py:4: SettingWithCopyWarning: \n",
      "A value is trying to be set on a copy of a slice from a DataFrame\n",
      "\n",
      "See the caveats in the documentation: https://pandas.pydata.org/pandas-docs/stable/user_guide/indexing.html#returning-a-view-versus-a-copy\n",
      "  df['Variasi Makanan'][i] = d\n",
      "C:\\Users\\Rico Fitra Pratama\\AppData\\Local\\Temp\\ipykernel_33392\\120778997.py:4: SettingWithCopyWarning: \n",
      "A value is trying to be set on a copy of a slice from a DataFrame\n",
      "\n",
      "See the caveats in the documentation: https://pandas.pydata.org/pandas-docs/stable/user_guide/indexing.html#returning-a-view-versus-a-copy\n",
      "  df['Variasi Makanan'][i] = d\n",
      "C:\\Users\\Rico Fitra Pratama\\AppData\\Local\\Temp\\ipykernel_33392\\120778997.py:4: SettingWithCopyWarning: \n",
      "A value is trying to be set on a copy of a slice from a DataFrame\n",
      "\n",
      "See the caveats in the documentation: https://pandas.pydata.org/pandas-docs/stable/user_guide/indexing.html#returning-a-view-versus-a-copy\n",
      "  df['Variasi Makanan'][i] = d\n",
      "C:\\Users\\Rico Fitra Pratama\\AppData\\Local\\Temp\\ipykernel_33392\\120778997.py:4: SettingWithCopyWarning: \n",
      "A value is trying to be set on a copy of a slice from a DataFrame\n",
      "\n",
      "See the caveats in the documentation: https://pandas.pydata.org/pandas-docs/stable/user_guide/indexing.html#returning-a-view-versus-a-copy\n",
      "  df['Variasi Makanan'][i] = d\n",
      "C:\\Users\\Rico Fitra Pratama\\AppData\\Local\\Temp\\ipykernel_33392\\120778997.py:4: SettingWithCopyWarning: \n",
      "A value is trying to be set on a copy of a slice from a DataFrame\n",
      "\n",
      "See the caveats in the documentation: https://pandas.pydata.org/pandas-docs/stable/user_guide/indexing.html#returning-a-view-versus-a-copy\n",
      "  df['Variasi Makanan'][i] = d\n",
      "C:\\Users\\Rico Fitra Pratama\\AppData\\Local\\Temp\\ipykernel_33392\\120778997.py:4: SettingWithCopyWarning: \n",
      "A value is trying to be set on a copy of a slice from a DataFrame\n",
      "\n",
      "See the caveats in the documentation: https://pandas.pydata.org/pandas-docs/stable/user_guide/indexing.html#returning-a-view-versus-a-copy\n",
      "  df['Variasi Makanan'][i] = d\n",
      "C:\\Users\\Rico Fitra Pratama\\AppData\\Local\\Temp\\ipykernel_33392\\120778997.py:4: SettingWithCopyWarning: \n",
      "A value is trying to be set on a copy of a slice from a DataFrame\n",
      "\n",
      "See the caveats in the documentation: https://pandas.pydata.org/pandas-docs/stable/user_guide/indexing.html#returning-a-view-versus-a-copy\n",
      "  df['Variasi Makanan'][i] = d\n",
      "C:\\Users\\Rico Fitra Pratama\\AppData\\Local\\Temp\\ipykernel_33392\\120778997.py:4: SettingWithCopyWarning: \n",
      "A value is trying to be set on a copy of a slice from a DataFrame\n",
      "\n",
      "See the caveats in the documentation: https://pandas.pydata.org/pandas-docs/stable/user_guide/indexing.html#returning-a-view-versus-a-copy\n",
      "  df['Variasi Makanan'][i] = d\n",
      "C:\\Users\\Rico Fitra Pratama\\AppData\\Local\\Temp\\ipykernel_33392\\120778997.py:4: SettingWithCopyWarning: \n",
      "A value is trying to be set on a copy of a slice from a DataFrame\n",
      "\n",
      "See the caveats in the documentation: https://pandas.pydata.org/pandas-docs/stable/user_guide/indexing.html#returning-a-view-versus-a-copy\n",
      "  df['Variasi Makanan'][i] = d\n",
      "C:\\Users\\Rico Fitra Pratama\\AppData\\Local\\Temp\\ipykernel_33392\\120778997.py:4: SettingWithCopyWarning: \n",
      "A value is trying to be set on a copy of a slice from a DataFrame\n",
      "\n",
      "See the caveats in the documentation: https://pandas.pydata.org/pandas-docs/stable/user_guide/indexing.html#returning-a-view-versus-a-copy\n",
      "  df['Variasi Makanan'][i] = d\n",
      "C:\\Users\\Rico Fitra Pratama\\AppData\\Local\\Temp\\ipykernel_33392\\120778997.py:4: SettingWithCopyWarning: \n",
      "A value is trying to be set on a copy of a slice from a DataFrame\n",
      "\n",
      "See the caveats in the documentation: https://pandas.pydata.org/pandas-docs/stable/user_guide/indexing.html#returning-a-view-versus-a-copy\n",
      "  df['Variasi Makanan'][i] = d\n",
      "C:\\Users\\Rico Fitra Pratama\\AppData\\Local\\Temp\\ipykernel_33392\\120778997.py:4: SettingWithCopyWarning: \n",
      "A value is trying to be set on a copy of a slice from a DataFrame\n",
      "\n",
      "See the caveats in the documentation: https://pandas.pydata.org/pandas-docs/stable/user_guide/indexing.html#returning-a-view-versus-a-copy\n",
      "  df['Variasi Makanan'][i] = d\n",
      "C:\\Users\\Rico Fitra Pratama\\AppData\\Local\\Temp\\ipykernel_33392\\120778997.py:4: SettingWithCopyWarning: \n",
      "A value is trying to be set on a copy of a slice from a DataFrame\n",
      "\n",
      "See the caveats in the documentation: https://pandas.pydata.org/pandas-docs/stable/user_guide/indexing.html#returning-a-view-versus-a-copy\n",
      "  df['Variasi Makanan'][i] = d\n",
      "C:\\Users\\Rico Fitra Pratama\\AppData\\Local\\Temp\\ipykernel_33392\\120778997.py:4: SettingWithCopyWarning: \n",
      "A value is trying to be set on a copy of a slice from a DataFrame\n",
      "\n",
      "See the caveats in the documentation: https://pandas.pydata.org/pandas-docs/stable/user_guide/indexing.html#returning-a-view-versus-a-copy\n",
      "  df['Variasi Makanan'][i] = d\n",
      "C:\\Users\\Rico Fitra Pratama\\AppData\\Local\\Temp\\ipykernel_33392\\120778997.py:4: SettingWithCopyWarning: \n",
      "A value is trying to be set on a copy of a slice from a DataFrame\n",
      "\n",
      "See the caveats in the documentation: https://pandas.pydata.org/pandas-docs/stable/user_guide/indexing.html#returning-a-view-versus-a-copy\n",
      "  df['Variasi Makanan'][i] = d\n",
      "C:\\Users\\Rico Fitra Pratama\\AppData\\Local\\Temp\\ipykernel_33392\\120778997.py:4: SettingWithCopyWarning: \n",
      "A value is trying to be set on a copy of a slice from a DataFrame\n",
      "\n",
      "See the caveats in the documentation: https://pandas.pydata.org/pandas-docs/stable/user_guide/indexing.html#returning-a-view-versus-a-copy\n",
      "  df['Variasi Makanan'][i] = d\n",
      "C:\\Users\\Rico Fitra Pratama\\AppData\\Local\\Temp\\ipykernel_33392\\120778997.py:4: SettingWithCopyWarning: \n",
      "A value is trying to be set on a copy of a slice from a DataFrame\n",
      "\n",
      "See the caveats in the documentation: https://pandas.pydata.org/pandas-docs/stable/user_guide/indexing.html#returning-a-view-versus-a-copy\n",
      "  df['Variasi Makanan'][i] = d\n",
      "C:\\Users\\Rico Fitra Pratama\\AppData\\Local\\Temp\\ipykernel_33392\\120778997.py:4: SettingWithCopyWarning: \n",
      "A value is trying to be set on a copy of a slice from a DataFrame\n",
      "\n",
      "See the caveats in the documentation: https://pandas.pydata.org/pandas-docs/stable/user_guide/indexing.html#returning-a-view-versus-a-copy\n",
      "  df['Variasi Makanan'][i] = d\n",
      "C:\\Users\\Rico Fitra Pratama\\AppData\\Local\\Temp\\ipykernel_33392\\120778997.py:4: SettingWithCopyWarning: \n",
      "A value is trying to be set on a copy of a slice from a DataFrame\n",
      "\n",
      "See the caveats in the documentation: https://pandas.pydata.org/pandas-docs/stable/user_guide/indexing.html#returning-a-view-versus-a-copy\n",
      "  df['Variasi Makanan'][i] = d\n",
      "C:\\Users\\Rico Fitra Pratama\\AppData\\Local\\Temp\\ipykernel_33392\\120778997.py:4: SettingWithCopyWarning: \n",
      "A value is trying to be set on a copy of a slice from a DataFrame\n",
      "\n",
      "See the caveats in the documentation: https://pandas.pydata.org/pandas-docs/stable/user_guide/indexing.html#returning-a-view-versus-a-copy\n",
      "  df['Variasi Makanan'][i] = d\n",
      "C:\\Users\\Rico Fitra Pratama\\AppData\\Local\\Temp\\ipykernel_33392\\120778997.py:4: SettingWithCopyWarning: \n",
      "A value is trying to be set on a copy of a slice from a DataFrame\n",
      "\n",
      "See the caveats in the documentation: https://pandas.pydata.org/pandas-docs/stable/user_guide/indexing.html#returning-a-view-versus-a-copy\n",
      "  df['Variasi Makanan'][i] = d\n",
      "C:\\Users\\Rico Fitra Pratama\\AppData\\Local\\Temp\\ipykernel_33392\\120778997.py:4: SettingWithCopyWarning: \n",
      "A value is trying to be set on a copy of a slice from a DataFrame\n",
      "\n",
      "See the caveats in the documentation: https://pandas.pydata.org/pandas-docs/stable/user_guide/indexing.html#returning-a-view-versus-a-copy\n",
      "  df['Variasi Makanan'][i] = d\n",
      "C:\\Users\\Rico Fitra Pratama\\AppData\\Local\\Temp\\ipykernel_33392\\120778997.py:4: SettingWithCopyWarning: \n",
      "A value is trying to be set on a copy of a slice from a DataFrame\n",
      "\n",
      "See the caveats in the documentation: https://pandas.pydata.org/pandas-docs/stable/user_guide/indexing.html#returning-a-view-versus-a-copy\n",
      "  df['Variasi Makanan'][i] = d\n",
      "C:\\Users\\Rico Fitra Pratama\\AppData\\Local\\Temp\\ipykernel_33392\\120778997.py:4: SettingWithCopyWarning: \n",
      "A value is trying to be set on a copy of a slice from a DataFrame\n",
      "\n",
      "See the caveats in the documentation: https://pandas.pydata.org/pandas-docs/stable/user_guide/indexing.html#returning-a-view-versus-a-copy\n",
      "  df['Variasi Makanan'][i] = d\n",
      "C:\\Users\\Rico Fitra Pratama\\AppData\\Local\\Temp\\ipykernel_33392\\120778997.py:4: SettingWithCopyWarning: \n",
      "A value is trying to be set on a copy of a slice from a DataFrame\n",
      "\n",
      "See the caveats in the documentation: https://pandas.pydata.org/pandas-docs/stable/user_guide/indexing.html#returning-a-view-versus-a-copy\n",
      "  df['Variasi Makanan'][i] = d\n",
      "C:\\Users\\Rico Fitra Pratama\\AppData\\Local\\Temp\\ipykernel_33392\\120778997.py:4: SettingWithCopyWarning: \n",
      "A value is trying to be set on a copy of a slice from a DataFrame\n",
      "\n",
      "See the caveats in the documentation: https://pandas.pydata.org/pandas-docs/stable/user_guide/indexing.html#returning-a-view-versus-a-copy\n",
      "  df['Variasi Makanan'][i] = d\n",
      "C:\\Users\\Rico Fitra Pratama\\AppData\\Local\\Temp\\ipykernel_33392\\120778997.py:4: SettingWithCopyWarning: \n",
      "A value is trying to be set on a copy of a slice from a DataFrame\n",
      "\n",
      "See the caveats in the documentation: https://pandas.pydata.org/pandas-docs/stable/user_guide/indexing.html#returning-a-view-versus-a-copy\n",
      "  df['Variasi Makanan'][i] = d\n",
      "C:\\Users\\Rico Fitra Pratama\\AppData\\Local\\Temp\\ipykernel_33392\\120778997.py:4: SettingWithCopyWarning: \n",
      "A value is trying to be set on a copy of a slice from a DataFrame\n",
      "\n",
      "See the caveats in the documentation: https://pandas.pydata.org/pandas-docs/stable/user_guide/indexing.html#returning-a-view-versus-a-copy\n",
      "  df['Variasi Makanan'][i] = d\n",
      "C:\\Users\\Rico Fitra Pratama\\AppData\\Local\\Temp\\ipykernel_33392\\120778997.py:4: SettingWithCopyWarning: \n",
      "A value is trying to be set on a copy of a slice from a DataFrame\n",
      "\n",
      "See the caveats in the documentation: https://pandas.pydata.org/pandas-docs/stable/user_guide/indexing.html#returning-a-view-versus-a-copy\n",
      "  df['Variasi Makanan'][i] = d\n",
      "C:\\Users\\Rico Fitra Pratama\\AppData\\Local\\Temp\\ipykernel_33392\\120778997.py:4: SettingWithCopyWarning: \n",
      "A value is trying to be set on a copy of a slice from a DataFrame\n",
      "\n",
      "See the caveats in the documentation: https://pandas.pydata.org/pandas-docs/stable/user_guide/indexing.html#returning-a-view-versus-a-copy\n",
      "  df['Variasi Makanan'][i] = d\n",
      "C:\\Users\\Rico Fitra Pratama\\AppData\\Local\\Temp\\ipykernel_33392\\120778997.py:4: SettingWithCopyWarning: \n",
      "A value is trying to be set on a copy of a slice from a DataFrame\n",
      "\n",
      "See the caveats in the documentation: https://pandas.pydata.org/pandas-docs/stable/user_guide/indexing.html#returning-a-view-versus-a-copy\n",
      "  df['Variasi Makanan'][i] = d\n",
      "C:\\Users\\Rico Fitra Pratama\\AppData\\Local\\Temp\\ipykernel_33392\\120778997.py:4: SettingWithCopyWarning: \n",
      "A value is trying to be set on a copy of a slice from a DataFrame\n",
      "\n",
      "See the caveats in the documentation: https://pandas.pydata.org/pandas-docs/stable/user_guide/indexing.html#returning-a-view-versus-a-copy\n",
      "  df['Variasi Makanan'][i] = d\n",
      "C:\\Users\\Rico Fitra Pratama\\AppData\\Local\\Temp\\ipykernel_33392\\120778997.py:4: SettingWithCopyWarning: \n",
      "A value is trying to be set on a copy of a slice from a DataFrame\n",
      "\n",
      "See the caveats in the documentation: https://pandas.pydata.org/pandas-docs/stable/user_guide/indexing.html#returning-a-view-versus-a-copy\n",
      "  df['Variasi Makanan'][i] = d\n",
      "C:\\Users\\Rico Fitra Pratama\\AppData\\Local\\Temp\\ipykernel_33392\\120778997.py:4: SettingWithCopyWarning: \n",
      "A value is trying to be set on a copy of a slice from a DataFrame\n",
      "\n",
      "See the caveats in the documentation: https://pandas.pydata.org/pandas-docs/stable/user_guide/indexing.html#returning-a-view-versus-a-copy\n",
      "  df['Variasi Makanan'][i] = d\n",
      "C:\\Users\\Rico Fitra Pratama\\AppData\\Local\\Temp\\ipykernel_33392\\120778997.py:4: SettingWithCopyWarning: \n",
      "A value is trying to be set on a copy of a slice from a DataFrame\n",
      "\n",
      "See the caveats in the documentation: https://pandas.pydata.org/pandas-docs/stable/user_guide/indexing.html#returning-a-view-versus-a-copy\n",
      "  df['Variasi Makanan'][i] = d\n",
      "C:\\Users\\Rico Fitra Pratama\\AppData\\Local\\Temp\\ipykernel_33392\\120778997.py:4: SettingWithCopyWarning: \n",
      "A value is trying to be set on a copy of a slice from a DataFrame\n",
      "\n",
      "See the caveats in the documentation: https://pandas.pydata.org/pandas-docs/stable/user_guide/indexing.html#returning-a-view-versus-a-copy\n",
      "  df['Variasi Makanan'][i] = d\n",
      "C:\\Users\\Rico Fitra Pratama\\AppData\\Local\\Temp\\ipykernel_33392\\120778997.py:4: SettingWithCopyWarning: \n",
      "A value is trying to be set on a copy of a slice from a DataFrame\n",
      "\n",
      "See the caveats in the documentation: https://pandas.pydata.org/pandas-docs/stable/user_guide/indexing.html#returning-a-view-versus-a-copy\n",
      "  df['Variasi Makanan'][i] = d\n",
      "C:\\Users\\Rico Fitra Pratama\\AppData\\Local\\Temp\\ipykernel_33392\\120778997.py:4: SettingWithCopyWarning: \n",
      "A value is trying to be set on a copy of a slice from a DataFrame\n",
      "\n",
      "See the caveats in the documentation: https://pandas.pydata.org/pandas-docs/stable/user_guide/indexing.html#returning-a-view-versus-a-copy\n",
      "  df['Variasi Makanan'][i] = d\n",
      "C:\\Users\\Rico Fitra Pratama\\AppData\\Local\\Temp\\ipykernel_33392\\120778997.py:4: SettingWithCopyWarning: \n",
      "A value is trying to be set on a copy of a slice from a DataFrame\n",
      "\n",
      "See the caveats in the documentation: https://pandas.pydata.org/pandas-docs/stable/user_guide/indexing.html#returning-a-view-versus-a-copy\n",
      "  df['Variasi Makanan'][i] = d\n",
      "C:\\Users\\Rico Fitra Pratama\\AppData\\Local\\Temp\\ipykernel_33392\\120778997.py:4: SettingWithCopyWarning: \n",
      "A value is trying to be set on a copy of a slice from a DataFrame\n",
      "\n",
      "See the caveats in the documentation: https://pandas.pydata.org/pandas-docs/stable/user_guide/indexing.html#returning-a-view-versus-a-copy\n",
      "  df['Variasi Makanan'][i] = d\n",
      "C:\\Users\\Rico Fitra Pratama\\AppData\\Local\\Temp\\ipykernel_33392\\120778997.py:4: SettingWithCopyWarning: \n",
      "A value is trying to be set on a copy of a slice from a DataFrame\n",
      "\n",
      "See the caveats in the documentation: https://pandas.pydata.org/pandas-docs/stable/user_guide/indexing.html#returning-a-view-versus-a-copy\n",
      "  df['Variasi Makanan'][i] = d\n",
      "C:\\Users\\Rico Fitra Pratama\\AppData\\Local\\Temp\\ipykernel_33392\\120778997.py:4: SettingWithCopyWarning: \n",
      "A value is trying to be set on a copy of a slice from a DataFrame\n",
      "\n",
      "See the caveats in the documentation: https://pandas.pydata.org/pandas-docs/stable/user_guide/indexing.html#returning-a-view-versus-a-copy\n",
      "  df['Variasi Makanan'][i] = d\n",
      "C:\\Users\\Rico Fitra Pratama\\AppData\\Local\\Temp\\ipykernel_33392\\120778997.py:4: SettingWithCopyWarning: \n",
      "A value is trying to be set on a copy of a slice from a DataFrame\n",
      "\n",
      "See the caveats in the documentation: https://pandas.pydata.org/pandas-docs/stable/user_guide/indexing.html#returning-a-view-versus-a-copy\n",
      "  df['Variasi Makanan'][i] = d\n",
      "C:\\Users\\Rico Fitra Pratama\\AppData\\Local\\Temp\\ipykernel_33392\\120778997.py:4: SettingWithCopyWarning: \n",
      "A value is trying to be set on a copy of a slice from a DataFrame\n",
      "\n",
      "See the caveats in the documentation: https://pandas.pydata.org/pandas-docs/stable/user_guide/indexing.html#returning-a-view-versus-a-copy\n",
      "  df['Variasi Makanan'][i] = d\n",
      "C:\\Users\\Rico Fitra Pratama\\AppData\\Local\\Temp\\ipykernel_33392\\120778997.py:4: SettingWithCopyWarning: \n",
      "A value is trying to be set on a copy of a slice from a DataFrame\n",
      "\n",
      "See the caveats in the documentation: https://pandas.pydata.org/pandas-docs/stable/user_guide/indexing.html#returning-a-view-versus-a-copy\n",
      "  df['Variasi Makanan'][i] = d\n",
      "C:\\Users\\Rico Fitra Pratama\\AppData\\Local\\Temp\\ipykernel_33392\\120778997.py:4: SettingWithCopyWarning: \n",
      "A value is trying to be set on a copy of a slice from a DataFrame\n",
      "\n",
      "See the caveats in the documentation: https://pandas.pydata.org/pandas-docs/stable/user_guide/indexing.html#returning-a-view-versus-a-copy\n",
      "  df['Variasi Makanan'][i] = d\n",
      "C:\\Users\\Rico Fitra Pratama\\AppData\\Local\\Temp\\ipykernel_33392\\120778997.py:4: SettingWithCopyWarning: \n",
      "A value is trying to be set on a copy of a slice from a DataFrame\n",
      "\n",
      "See the caveats in the documentation: https://pandas.pydata.org/pandas-docs/stable/user_guide/indexing.html#returning-a-view-versus-a-copy\n",
      "  df['Variasi Makanan'][i] = d\n",
      "C:\\Users\\Rico Fitra Pratama\\AppData\\Local\\Temp\\ipykernel_33392\\120778997.py:4: SettingWithCopyWarning: \n",
      "A value is trying to be set on a copy of a slice from a DataFrame\n",
      "\n",
      "See the caveats in the documentation: https://pandas.pydata.org/pandas-docs/stable/user_guide/indexing.html#returning-a-view-versus-a-copy\n",
      "  df['Variasi Makanan'][i] = d\n",
      "C:\\Users\\Rico Fitra Pratama\\AppData\\Local\\Temp\\ipykernel_33392\\120778997.py:4: SettingWithCopyWarning: \n",
      "A value is trying to be set on a copy of a slice from a DataFrame\n",
      "\n",
      "See the caveats in the documentation: https://pandas.pydata.org/pandas-docs/stable/user_guide/indexing.html#returning-a-view-versus-a-copy\n",
      "  df['Variasi Makanan'][i] = d\n",
      "C:\\Users\\Rico Fitra Pratama\\AppData\\Local\\Temp\\ipykernel_33392\\120778997.py:4: SettingWithCopyWarning: \n",
      "A value is trying to be set on a copy of a slice from a DataFrame\n",
      "\n",
      "See the caveats in the documentation: https://pandas.pydata.org/pandas-docs/stable/user_guide/indexing.html#returning-a-view-versus-a-copy\n",
      "  df['Variasi Makanan'][i] = d\n",
      "C:\\Users\\Rico Fitra Pratama\\AppData\\Local\\Temp\\ipykernel_33392\\120778997.py:4: SettingWithCopyWarning: \n",
      "A value is trying to be set on a copy of a slice from a DataFrame\n",
      "\n",
      "See the caveats in the documentation: https://pandas.pydata.org/pandas-docs/stable/user_guide/indexing.html#returning-a-view-versus-a-copy\n",
      "  df['Variasi Makanan'][i] = d\n",
      "C:\\Users\\Rico Fitra Pratama\\AppData\\Local\\Temp\\ipykernel_33392\\120778997.py:4: SettingWithCopyWarning: \n",
      "A value is trying to be set on a copy of a slice from a DataFrame\n",
      "\n",
      "See the caveats in the documentation: https://pandas.pydata.org/pandas-docs/stable/user_guide/indexing.html#returning-a-view-versus-a-copy\n",
      "  df['Variasi Makanan'][i] = d\n",
      "C:\\Users\\Rico Fitra Pratama\\AppData\\Local\\Temp\\ipykernel_33392\\120778997.py:4: SettingWithCopyWarning: \n",
      "A value is trying to be set on a copy of a slice from a DataFrame\n",
      "\n",
      "See the caveats in the documentation: https://pandas.pydata.org/pandas-docs/stable/user_guide/indexing.html#returning-a-view-versus-a-copy\n",
      "  df['Variasi Makanan'][i] = d\n",
      "C:\\Users\\Rico Fitra Pratama\\AppData\\Local\\Temp\\ipykernel_33392\\120778997.py:4: SettingWithCopyWarning: \n",
      "A value is trying to be set on a copy of a slice from a DataFrame\n",
      "\n",
      "See the caveats in the documentation: https://pandas.pydata.org/pandas-docs/stable/user_guide/indexing.html#returning-a-view-versus-a-copy\n",
      "  df['Variasi Makanan'][i] = d\n",
      "C:\\Users\\Rico Fitra Pratama\\AppData\\Local\\Temp\\ipykernel_33392\\120778997.py:4: SettingWithCopyWarning: \n",
      "A value is trying to be set on a copy of a slice from a DataFrame\n",
      "\n",
      "See the caveats in the documentation: https://pandas.pydata.org/pandas-docs/stable/user_guide/indexing.html#returning-a-view-versus-a-copy\n",
      "  df['Variasi Makanan'][i] = d\n",
      "C:\\Users\\Rico Fitra Pratama\\AppData\\Local\\Temp\\ipykernel_33392\\120778997.py:4: SettingWithCopyWarning: \n",
      "A value is trying to be set on a copy of a slice from a DataFrame\n",
      "\n",
      "See the caveats in the documentation: https://pandas.pydata.org/pandas-docs/stable/user_guide/indexing.html#returning-a-view-versus-a-copy\n",
      "  df['Variasi Makanan'][i] = d\n",
      "C:\\Users\\Rico Fitra Pratama\\AppData\\Local\\Temp\\ipykernel_33392\\120778997.py:4: SettingWithCopyWarning: \n",
      "A value is trying to be set on a copy of a slice from a DataFrame\n",
      "\n",
      "See the caveats in the documentation: https://pandas.pydata.org/pandas-docs/stable/user_guide/indexing.html#returning-a-view-versus-a-copy\n",
      "  df['Variasi Makanan'][i] = d\n",
      "C:\\Users\\Rico Fitra Pratama\\AppData\\Local\\Temp\\ipykernel_33392\\120778997.py:4: SettingWithCopyWarning: \n",
      "A value is trying to be set on a copy of a slice from a DataFrame\n",
      "\n",
      "See the caveats in the documentation: https://pandas.pydata.org/pandas-docs/stable/user_guide/indexing.html#returning-a-view-versus-a-copy\n",
      "  df['Variasi Makanan'][i] = d\n",
      "C:\\Users\\Rico Fitra Pratama\\AppData\\Local\\Temp\\ipykernel_33392\\120778997.py:4: SettingWithCopyWarning: \n",
      "A value is trying to be set on a copy of a slice from a DataFrame\n",
      "\n",
      "See the caveats in the documentation: https://pandas.pydata.org/pandas-docs/stable/user_guide/indexing.html#returning-a-view-versus-a-copy\n",
      "  df['Variasi Makanan'][i] = d\n",
      "C:\\Users\\Rico Fitra Pratama\\AppData\\Local\\Temp\\ipykernel_33392\\120778997.py:4: SettingWithCopyWarning: \n",
      "A value is trying to be set on a copy of a slice from a DataFrame\n",
      "\n",
      "See the caveats in the documentation: https://pandas.pydata.org/pandas-docs/stable/user_guide/indexing.html#returning-a-view-versus-a-copy\n",
      "  df['Variasi Makanan'][i] = d\n",
      "C:\\Users\\Rico Fitra Pratama\\AppData\\Local\\Temp\\ipykernel_33392\\120778997.py:4: SettingWithCopyWarning: \n",
      "A value is trying to be set on a copy of a slice from a DataFrame\n",
      "\n",
      "See the caveats in the documentation: https://pandas.pydata.org/pandas-docs/stable/user_guide/indexing.html#returning-a-view-versus-a-copy\n",
      "  df['Variasi Makanan'][i] = d\n",
      "C:\\Users\\Rico Fitra Pratama\\AppData\\Local\\Temp\\ipykernel_33392\\120778997.py:4: SettingWithCopyWarning: \n",
      "A value is trying to be set on a copy of a slice from a DataFrame\n",
      "\n",
      "See the caveats in the documentation: https://pandas.pydata.org/pandas-docs/stable/user_guide/indexing.html#returning-a-view-versus-a-copy\n",
      "  df['Variasi Makanan'][i] = d\n",
      "C:\\Users\\Rico Fitra Pratama\\AppData\\Local\\Temp\\ipykernel_33392\\120778997.py:4: SettingWithCopyWarning: \n",
      "A value is trying to be set on a copy of a slice from a DataFrame\n",
      "\n",
      "See the caveats in the documentation: https://pandas.pydata.org/pandas-docs/stable/user_guide/indexing.html#returning-a-view-versus-a-copy\n",
      "  df['Variasi Makanan'][i] = d\n",
      "C:\\Users\\Rico Fitra Pratama\\AppData\\Local\\Temp\\ipykernel_33392\\120778997.py:4: SettingWithCopyWarning: \n",
      "A value is trying to be set on a copy of a slice from a DataFrame\n",
      "\n",
      "See the caveats in the documentation: https://pandas.pydata.org/pandas-docs/stable/user_guide/indexing.html#returning-a-view-versus-a-copy\n",
      "  df['Variasi Makanan'][i] = d\n",
      "C:\\Users\\Rico Fitra Pratama\\AppData\\Local\\Temp\\ipykernel_33392\\120778997.py:4: SettingWithCopyWarning: \n",
      "A value is trying to be set on a copy of a slice from a DataFrame\n",
      "\n",
      "See the caveats in the documentation: https://pandas.pydata.org/pandas-docs/stable/user_guide/indexing.html#returning-a-view-versus-a-copy\n",
      "  df['Variasi Makanan'][i] = d\n",
      "C:\\Users\\Rico Fitra Pratama\\AppData\\Local\\Temp\\ipykernel_33392\\120778997.py:4: SettingWithCopyWarning: \n",
      "A value is trying to be set on a copy of a slice from a DataFrame\n",
      "\n",
      "See the caveats in the documentation: https://pandas.pydata.org/pandas-docs/stable/user_guide/indexing.html#returning-a-view-versus-a-copy\n",
      "  df['Variasi Makanan'][i] = d\n",
      "C:\\Users\\Rico Fitra Pratama\\AppData\\Local\\Temp\\ipykernel_33392\\120778997.py:4: SettingWithCopyWarning: \n",
      "A value is trying to be set on a copy of a slice from a DataFrame\n",
      "\n",
      "See the caveats in the documentation: https://pandas.pydata.org/pandas-docs/stable/user_guide/indexing.html#returning-a-view-versus-a-copy\n",
      "  df['Variasi Makanan'][i] = d\n",
      "C:\\Users\\Rico Fitra Pratama\\AppData\\Local\\Temp\\ipykernel_33392\\120778997.py:4: SettingWithCopyWarning: \n",
      "A value is trying to be set on a copy of a slice from a DataFrame\n",
      "\n",
      "See the caveats in the documentation: https://pandas.pydata.org/pandas-docs/stable/user_guide/indexing.html#returning-a-view-versus-a-copy\n",
      "  df['Variasi Makanan'][i] = d\n",
      "C:\\Users\\Rico Fitra Pratama\\AppData\\Local\\Temp\\ipykernel_33392\\120778997.py:4: SettingWithCopyWarning: \n",
      "A value is trying to be set on a copy of a slice from a DataFrame\n",
      "\n",
      "See the caveats in the documentation: https://pandas.pydata.org/pandas-docs/stable/user_guide/indexing.html#returning-a-view-versus-a-copy\n",
      "  df['Variasi Makanan'][i] = d\n",
      "C:\\Users\\Rico Fitra Pratama\\AppData\\Local\\Temp\\ipykernel_33392\\120778997.py:4: SettingWithCopyWarning: \n",
      "A value is trying to be set on a copy of a slice from a DataFrame\n",
      "\n",
      "See the caveats in the documentation: https://pandas.pydata.org/pandas-docs/stable/user_guide/indexing.html#returning-a-view-versus-a-copy\n",
      "  df['Variasi Makanan'][i] = d\n",
      "C:\\Users\\Rico Fitra Pratama\\AppData\\Local\\Temp\\ipykernel_33392\\120778997.py:4: SettingWithCopyWarning: \n",
      "A value is trying to be set on a copy of a slice from a DataFrame\n",
      "\n",
      "See the caveats in the documentation: https://pandas.pydata.org/pandas-docs/stable/user_guide/indexing.html#returning-a-view-versus-a-copy\n",
      "  df['Variasi Makanan'][i] = d\n"
     ]
    }
   ],
   "source": [
    "for i in range(len(df['Variasi Makanan'])):\n",
    "    # replace df['Variasi Makanan'][i] with numeric value\n",
    "    d = len(df['Variasi Makanan'][i].split(','))\n",
    "    df['Variasi Makanan'][i] = d"
   ],
   "metadata": {
    "collapsed": false,
    "ExecuteTime": {
     "end_time": "2023-07-23T00:27:35.730340600Z",
     "start_time": "2023-07-23T00:27:35.086941500Z"
    }
   }
  },
  {
   "cell_type": "markdown",
   "source": [
    "# Data Analysis"
   ],
   "metadata": {
    "collapsed": false
   }
  },
  {
   "cell_type": "markdown",
   "source": [
    "## Persentase Harga Rata-rata Per Menu Makanan"
   ],
   "metadata": {
    "collapsed": false
   }
  },
  {
   "cell_type": "code",
   "execution_count": 88,
   "outputs": [
    {
     "data": {
      "text/plain": "count       291.000000\nmean      38766.323024\nstd       28509.896041\nmin       10000.000000\n25%       22000.000000\n50%       31000.000000\n75%       44500.000000\nmax      330000.000000\nName: avgPrice, dtype: float64"
     },
     "execution_count": 88,
     "metadata": {},
     "output_type": "execute_result"
    }
   ],
   "source": [
    "# Average Price Statistics\n",
    "df['avgPrice'].describe()"
   ],
   "metadata": {
    "collapsed": false,
    "ExecuteTime": {
     "end_time": "2023-07-23T00:27:35.731340300Z",
     "start_time": "2023-07-23T00:27:35.321013500Z"
    }
   }
  },
  {
   "cell_type": "code",
   "execution_count": 89,
   "outputs": [
    {
     "data": {
      "text/plain": "'\\nPrice Range Classification\\nA: < 20.000\\nB: <50.000\\nC: 100.000\\nD:100.000\\n'"
     },
     "execution_count": 89,
     "metadata": {},
     "output_type": "execute_result"
    }
   ],
   "source": [
    "\"\"\"\n",
    "Price Range Classification\n",
    "A: < 20.000\n",
    "B: <50.000\n",
    "C: 100.000\n",
    "D:100.000\n",
    "\"\"\""
   ],
   "metadata": {
    "collapsed": false,
    "ExecuteTime": {
     "end_time": "2023-07-23T00:27:35.731340300Z",
     "start_time": "2023-07-23T00:27:35.322012300Z"
    }
   }
  },
  {
   "cell_type": "code",
   "execution_count": 90,
   "outputs": [],
   "source": [
    "a = df[df['avgPrice'] < 20000].count()['avgPrice']\n",
    "b = df[(df['avgPrice'] >= 20000) & (df['avgPrice'] < 50000)].count()['avgPrice']\n",
    "c = df[(df['avgPrice'] >= 50000) & (df['avgPrice'] < 100000)].count()['avgPrice']\n",
    "d = df[df['avgPrice'] >= 100000].count()['avgPrice']"
   ],
   "metadata": {
    "collapsed": false,
    "ExecuteTime": {
     "end_time": "2023-07-23T00:27:35.731340300Z",
     "start_time": "2023-07-23T00:27:35.322012300Z"
    }
   }
  },
  {
   "cell_type": "code",
   "execution_count": 91,
   "outputs": [
    {
     "data": {
      "text/plain": "<Figure size 1500x1000 with 1 Axes>",
      "image/png": "[encoded data removed]"
     },
     "metadata": {},
     "output_type": "display_data"
    }
   ],
   "source": [
    "# Bar Plot make it larger\n",
    "fig, ax = plt.subplots(figsize=(15, 10))\n",
    "sorted_data = sorted([a, b, c, d], reverse=True)\n",
    "x_labels = ['<20.000', '>= 20.000 < 50.000', '>= 50.000 < 100.000', '>100.000']\n",
    "sorted_x_labels = [label for _, label in sorted(zip(data, x_labels))]\n",
    "ax.bar(sorted_x_labels, sorted_data)\n",
    "ax.set_title('Persentase Harga Rata-rata Per Menu Makanan')\n",
    "ax.set_xlabel('Harga Rata-rata')\n",
    "ax.set_ylabel('Jumlah')\n",
    "plt.show()"
   ],
   "metadata": {
    "collapsed": false,
    "ExecuteTime": {
     "end_time": "2023-07-23T00:27:36.014033900Z",
     "start_time": "2023-07-23T00:27:35.323024100Z"
    }
   }
  },
  {
   "cell_type": "code",
   "execution_count": 92,
   "outputs": [
    {
     "name": "stdout",
     "output_type": "stream",
     "text": [
      "[186, 49, 44, 12]\n",
      "['>= 20.000 < 50.000', '>= 50.000 < 100.000', '<20.000', '>100.000']\n"
     ]
    },
    {
     "data": {
      "text/plain": "(None, None)"
     },
     "execution_count": 92,
     "metadata": {},
     "output_type": "execute_result"
    }
   ],
   "source": [
    "print(sorted_data), print(sorted_x_labels)"
   ],
   "metadata": {
    "collapsed": false,
    "ExecuteTime": {
     "end_time": "2023-07-23T00:27:36.014033900Z",
     "start_time": "2023-07-23T00:27:35.562661500Z"
    }
   }
  },
  {
   "cell_type": "code",
   "execution_count": 93,
   "outputs": [
    {
     "data": {
      "text/plain": "(49, 186, 44, 12)"
     },
     "execution_count": 93,
     "metadata": {},
     "output_type": "execute_result"
    }
   ],
   "source": [
    "a, b, c, d"
   ],
   "metadata": {
    "collapsed": false,
    "ExecuteTime": {
     "end_time": "2023-07-23T00:27:36.015037300Z",
     "start_time": "2023-07-23T00:27:35.576674100Z"
    }
   }
  },
  {
   "cell_type": "markdown",
   "source": [
    "## Persentase Jenis Makanan"
   ],
   "metadata": {
    "collapsed": false
   }
  },
  {
   "cell_type": "code",
   "execution_count": 94,
   "outputs": [
    {
     "data": {
      "text/plain": "count         291\nunique          5\ntop       Western\nfreq           91\nName: Preferensi Makanan, dtype: object"
     },
     "execution_count": 94,
     "metadata": {},
     "output_type": "execute_result"
    }
   ],
   "source": [
    "# Jenis Makanan Statistics\n",
    "df['Preferensi Makanan'].describe()"
   ],
   "metadata": {
    "collapsed": false,
    "ExecuteTime": {
     "end_time": "2023-07-23T00:27:36.016035200Z",
     "start_time": "2023-07-23T00:27:35.591689600Z"
    }
   }
  },
  {
   "cell_type": "code",
   "execution_count": 95,
   "outputs": [
    {
     "data": {
      "text/plain": "<Axes: ylabel='count'>"
     },
     "execution_count": 95,
     "metadata": {},
     "output_type": "execute_result"
    },
    {
     "data": {
      "text/plain": "<Figure size 640x480 with 1 Axes>",
      "image/png": "[encoded data removed]"
     },
     "metadata": {},
     "output_type": "display_data"
    }
   ],
   "source": [
    "# Pie Chart\n",
    "df['Preferensi Makanan'].value_counts().plot(kind='pie', autopct='%1.1f%%', shadow=False, startangle=90)"
   ],
   "metadata": {
    "collapsed": false,
    "ExecuteTime": {
     "end_time": "2023-07-23T00:27:36.071589200Z",
     "start_time": "2023-07-23T00:27:35.607700500Z"
    }
   }
  },
  {
   "cell_type": "code",
   "execution_count": 95,
   "outputs": [],
   "source": [],
   "metadata": {
    "collapsed": false,
    "ExecuteTime": {
     "end_time": "2023-07-23T00:27:36.072589Z",
     "start_time": "2023-07-23T00:27:35.747844100Z"
    }
   }
  },
  {
   "cell_type": "code",
   "execution_count": 96,
   "outputs": [
    {
     "data": {
      "text/plain": "Preferensi Makanan\nWestern           91\nJapanese          87\nIndonesia         62\nChinese           50\nMiddle Eastern     1\nName: count, dtype: int64"
     },
     "execution_count": 96,
     "metadata": {},
     "output_type": "execute_result"
    }
   ],
   "source": [
    "df['Preferensi Makanan'].value_counts()"
   ],
   "metadata": {
    "collapsed": false,
    "ExecuteTime": {
     "end_time": "2023-07-23T00:27:36.072589Z",
     "start_time": "2023-07-23T00:27:35.767842900Z"
    }
   }
  },
  {
   "cell_type": "markdown",
   "source": [
    "## Perbandingan Jenis Makanan & Rating"
   ],
   "metadata": {
    "collapsed": false
   }
  },
  {
   "cell_type": "code",
   "execution_count": 97,
   "outputs": [],
   "source": [
    "# average rating per jenis makanan and plot using pie chart\n",
    "data = {\n",
    "    \"Chinese\": 0.0,\n",
    "    \"Indonesia\": 0.0,\n",
    "    \"Western\": 0.0,\n",
    "    \"Japanese\": 0.0,\n",
    "    \"Middle Eastern\": 0.0\n",
    "}\n",
    "\n",
    "for i in df['Preferensi Makanan'].unique().tolist():\n",
    "    data[i] = df[df['Preferensi Makanan'] == i]['Rating'].mean()\n",
    "\n",
    "# Sort data\n",
    "data = dict(sorted(data.items(), key=lambda item: item[1], reverse=True))\n",
    "\n"
   ],
   "metadata": {
    "collapsed": false,
    "ExecuteTime": {
     "end_time": "2023-07-23T00:27:36.072589Z",
     "start_time": "2023-07-23T00:27:35.781831900Z"
    }
   }
  },
  {
   "cell_type": "code",
   "execution_count": 98,
   "outputs": [
    {
     "data": {
      "text/plain": "<Figure size 1500x500 with 1 Axes>",
      "image/png": "[encoded data removed]"
     },
     "metadata": {},
     "output_type": "display_data"
    }
   ],
   "source": [
    "# plot menggunakan pie chart, dan bar plot dalam satu figure\n",
    "fig, axes = plt.subplots(figsize=(15, 5))\n",
    "fig.suptitle('Perbandingan Jenis Makanan & Rating')\n",
    "axes.bar(data.keys(), data.values())\n",
    "axes.set_title('Bar Plot')\n",
    "plt.show()\n"
   ],
   "metadata": {
    "collapsed": false,
    "ExecuteTime": {
     "end_time": "2023-07-23T00:27:36.073589Z",
     "start_time": "2023-07-23T00:27:35.797829300Z"
    }
   }
  },
  {
   "cell_type": "code",
   "execution_count": 99,
   "outputs": [
    {
     "data": {
      "text/plain": "{'Chinese': 4.6160000000000005,\n 'Japanese': 4.580459770114942,\n 'Western': 4.55054945054945,\n 'Indonesia': 4.443548387096775,\n 'Middle Eastern': 4.4}"
     },
     "execution_count": 99,
     "metadata": {},
     "output_type": "execute_result"
    }
   ],
   "source": [
    "data"
   ],
   "metadata": {
    "collapsed": false,
    "ExecuteTime": {
     "end_time": "2023-07-23T00:27:36.074590Z",
     "start_time": "2023-07-23T00:27:35.972047100Z"
    }
   }
  },
  {
   "cell_type": "code",
   "execution_count": 100,
   "outputs": [
    {
     "data": {
      "text/plain": "                                   Nama Restoran Preferensi Makanan  \\\n152                 Twisted Noodle, Gondokusuman            Chinese   \n67                  Kedai Jagoan Moy-Moy, Tamsis            Chinese   \n233                         Bubur Ayam Bang Opik            Chinese   \n265  Mie Surabaya Pak Joko, Gedongkuning Selatan            Chinese   \n8             Nasi Goreng Gemilang, Gedongkuning            Chinese   \n223      Mie Kita Orang, Pasar Kranggan Lantai 2            Chinese   \n74                    Rm & Seafood 99, Sorowajan            Chinese   \n273                Oase Cafe & Coffe, Mergangsan            Chinese   \n35        Vegan Cafe Black Forest, Brontokusuman            Chinese   \n182                              Kedai Liang Xin            Chinese   \n\n    Lokasi Restoran  avgPrice  Rating Jenis Suasana  \\\n152         3.54 km     12000     4.6        Santai   \n67          1.32 km     12000     4.7        Santai   \n233         1.52 km     18000     4.5        Santai   \n265         1.62 km     18000     4.7        Santai   \n8           1.97 km     19000     4.7        Santai   \n223         4.14 km     20000     4.2        Santai   \n74          2.91 km     22000     4.2        Santai   \n273          1.3 km     22000     4.6        Santai   \n35          2.25 km     22000     4.7        Santai   \n182         4.62 km     22000     4.7        Santai   \n\n    Toko Sering Diskon (Ya/Tidak) Variasi Makanan  \\\n152                         Tidak               2   \n67                          Tidak               2   \n233                         Tidak               3   \n265                         Tidak               3   \n8                              Ya               1   \n223                         Tidak               2   \n74                             Ya               3   \n273                         Tidak               3   \n35                          Tidak               3   \n182                         Tidak               2   \n\n    Pelayanan Khusus Pasangan (Ya/Tidak)  Entertainment  Keramaian Restoran  \\\n152                                   Ya              2                   2   \n67                                 Tidak              4                   2   \n233                                Tidak              3                   1   \n265                                Tidak              4                   3   \n8                                  Tidak              3                   2   \n223                                Tidak              4                   3   \n74                                 Tidak              2                   2   \n273                                Tidak              2                   2   \n35                                 Tidak              2                   3   \n182                                Tidak              1                   2   \n\n    Disajikan atau Ambil Sendiri All You Can Eat atau Ala Carte  rating  \n152                    Disajikan                      Ala Carte     4.6  \n67                     Disajikan                      Ala Carte     4.7  \n233                    Disajikan                      Ala Carte     4.5  \n265                    Disajikan                      Ala Carte     4.7  \n8                      Disajikan                      Ala Carte     4.7  \n223                    Disajikan                      Ala Carte     4.2  \n74                     Disajikan                      Ala Carte     4.2  \n273                    Disajikan                      Ala Carte     4.6  \n35                     Disajikan                      Ala Carte     4.7  \n182                    Disajikan                      Ala Carte     4.7  ",
      "text/html": "<div>\n<style scoped>\n    .dataframe tbody tr th:only-of-type {\n        vertical-align: middle;\n    }\n\n    .dataframe tbody tr th {\n        vertical-align: top;\n    }\n\n    .dataframe thead th {\n        text-align: right;\n    }\n</style>\n<table border=\"1\" class=\"dataframe\">\n  <thead>\n    <tr style=\"text-align: right;\">\n      <th></th>\n      <th>Nama Restoran</th>\n      <th>Preferensi Makanan</th>\n      <th>Lokasi Restoran</th>\n      <th>avgPrice</th>\n      <th>Rating</th>\n      <th>Jenis Suasana</th>\n      <th>Toko Sering Diskon (Ya/Tidak)</th>\n      <th>Variasi Makanan</th>\n      <th>Pelayanan Khusus Pasangan (Ya/Tidak)</th>\n      <th>Entertainment</th>\n      <th>Keramaian Restoran</th>\n      <th>Disajikan atau Ambil Sendiri</th>\n      <th>All You Can Eat atau Ala Carte</th>\n      <th>rating</th>\n    </tr>\n  </thead>\n  <tbody>\n    <tr>\n      <th>152</th>\n      <td>Twisted Noodle, Gondokusuman</td>\n      <td>Chinese</td>\n      <td>3.54 km</td>\n      <td>12000</td>\n      <td>4.6</td>\n      <td>Santai</td>\n      <td>Tidak</td>\n      <td>2</td>\n      <td>Ya</td>\n      <td>2</td>\n      <td>2</td>\n      <td>Disajikan</td>\n      <td>Ala Carte</td>\n      <td>4.6</td>\n    </tr>\n    <tr>\n      <th>67</th>\n      <td>Kedai Jagoan Moy-Moy, Tamsis</td>\n      <td>Chinese</td>\n      <td>1.32 km</td>\n      <td>12000</td>\n      <td>4.7</td>\n      <td>Santai</td>\n      <td>Tidak</td>\n      <td>2</td>\n      <td>Tidak</td>\n      <td>4</td>\n      <td>2</td>\n      <td>Disajikan</td>\n      <td>Ala Carte</td>\n      <td>4.7</td>\n    </tr>\n    <tr>\n      <th>233</th>\n      <td>Bubur Ayam Bang Opik</td>\n      <td>Chinese</td>\n      <td>1.52 km</td>\n      <td>18000</td>\n      <td>4.5</td>\n      <td>Santai</td>\n      <td>Tidak</td>\n      <td>3</td>\n      <td>Tidak</td>\n      <td>3</td>\n      <td>1</td>\n      <td>Disajikan</td>\n      <td>Ala Carte</td>\n      <td>4.5</td>\n    </tr>\n    <tr>\n      <th>265</th>\n      <td>Mie Surabaya Pak Joko, Gedongkuning Selatan</td>\n      <td>Chinese</td>\n      <td>1.62 km</td>\n      <td>18000</td>\n      <td>4.7</td>\n      <td>Santai</td>\n      <td>Tidak</td>\n      <td>3</td>\n      <td>Tidak</td>\n      <td>4</td>\n      <td>3</td>\n      <td>Disajikan</td>\n      <td>Ala Carte</td>\n      <td>4.7</td>\n    </tr>\n    <tr>\n      <th>8</th>\n      <td>Nasi Goreng Gemilang, Gedongkuning</td>\n      <td>Chinese</td>\n      <td>1.97 km</td>\n      <td>19000</td>\n      <td>4.7</td>\n      <td>Santai</td>\n      <td>Ya</td>\n      <td>1</td>\n      <td>Tidak</td>\n      <td>3</td>\n      <td>2</td>\n      <td>Disajikan</td>\n      <td>Ala Carte</td>\n      <td>4.7</td>\n    </tr>\n    <tr>\n      <th>223</th>\n      <td>Mie Kita Orang, Pasar Kranggan Lantai 2</td>\n      <td>Chinese</td>\n      <td>4.14 km</td>\n      <td>20000</td>\n      <td>4.2</td>\n      <td>Santai</td>\n      <td>Tidak</td>\n      <td>2</td>\n      <td>Tidak</td>\n      <td>4</td>\n      <td>3</td>\n      <td>Disajikan</td>\n      <td>Ala Carte</td>\n      <td>4.2</td>\n    </tr>\n    <tr>\n      <th>74</th>\n      <td>Rm &amp; Seafood 99, Sorowajan</td>\n      <td>Chinese</td>\n      <td>2.91 km</td>\n      <td>22000</td>\n      <td>4.2</td>\n      <td>Santai</td>\n      <td>Ya</td>\n      <td>3</td>\n      <td>Tidak</td>\n      <td>2</td>\n      <td>2</td>\n      <td>Disajikan</td>\n      <td>Ala Carte</td>\n      <td>4.2</td>\n    </tr>\n    <tr>\n      <th>273</th>\n      <td>Oase Cafe &amp; Coffe, Mergangsan</td>\n      <td>Chinese</td>\n      <td>1.3 km</td>\n      <td>22000</td>\n      <td>4.6</td>\n      <td>Santai</td>\n      <td>Tidak</td>\n      <td>3</td>\n      <td>Tidak</td>\n      <td>2</td>\n      <td>2</td>\n      <td>Disajikan</td>\n      <td>Ala Carte</td>\n      <td>4.6</td>\n    </tr>\n    <tr>\n      <th>35</th>\n      <td>Vegan Cafe Black Forest, Brontokusuman</td>\n      <td>Chinese</td>\n      <td>2.25 km</td>\n      <td>22000</td>\n      <td>4.7</td>\n      <td>Santai</td>\n      <td>Tidak</td>\n      <td>3</td>\n      <td>Tidak</td>\n      <td>2</td>\n      <td>3</td>\n      <td>Disajikan</td>\n      <td>Ala Carte</td>\n      <td>4.7</td>\n    </tr>\n    <tr>\n      <th>182</th>\n      <td>Kedai Liang Xin</td>\n      <td>Chinese</td>\n      <td>4.62 km</td>\n      <td>22000</td>\n      <td>4.7</td>\n      <td>Santai</td>\n      <td>Tidak</td>\n      <td>2</td>\n      <td>Tidak</td>\n      <td>1</td>\n      <td>2</td>\n      <td>Disajikan</td>\n      <td>Ala Carte</td>\n      <td>4.7</td>\n    </tr>\n  </tbody>\n</table>\n</div>"
     },
     "execution_count": 100,
     "metadata": {},
     "output_type": "execute_result"
    }
   ],
   "source": [
    "# cheapest chinese restaurant\n",
    "chin_res = df[df['Preferensi Makanan'] == 'Chinese'].sort_values(by=['avgPrice', 'rating']).head(10)\n",
    "chin_res"
   ],
   "metadata": {
    "collapsed": false,
    "ExecuteTime": {
     "end_time": "2023-07-23T00:27:36.074590Z",
     "start_time": "2023-07-23T00:27:35.989035800Z"
    }
   }
  },
  {
   "cell_type": "code",
   "execution_count": 101,
   "outputs": [
    {
     "data": {
      "text/plain": "<Figure size 1500x500 with 1 Axes>",
      "image/png": "[encoded data removed]"
     },
     "metadata": {},
     "output_type": "display_data"
    }
   ],
   "source": [
    "# plot chin_res bar plot\n",
    "fig, axes = plt.subplots(figsize=(15, 5))\n",
    "fig.suptitle('10 Restoran China Termurah')\n",
    "axes.bar(chin_res['Nama Restoran'], chin_res['avgPrice'])\n",
    "axes.set_title('Bar Plot')\n",
    "plt.show()"
   ],
   "metadata": {
    "collapsed": false,
    "ExecuteTime": {
     "end_time": "2023-07-23T00:27:36.614831Z",
     "start_time": "2023-07-23T00:27:36.020052800Z"
    }
   }
  },
  {
   "cell_type": "code",
   "execution_count": 101,
   "outputs": [],
   "source": [],
   "metadata": {
    "collapsed": false,
    "ExecuteTime": {
     "end_time": "2023-07-23T00:27:36.662358800Z",
     "start_time": "2023-07-23T00:27:36.308189600Z"
    }
   }
  },
  {
   "cell_type": "markdown",
   "source": [],
   "metadata": {
    "collapsed": false
   }
  },
  {
   "cell_type": "code",
   "execution_count": 102,
   "outputs": [
    {
     "data": {
      "text/plain": "                                         Nama Restoran Preferensi Makanan  \\\n1    Soto Tauco Pekalongan Bu Iswi, Jalan Bimokurdo...          Indonesia   \n2         Spesial Bakso Pak Jum Balai Kota, Umbulharjo          Indonesia   \n5                         Sop Ayam Klaten, Mantrijeron          Indonesia   \n15      Soto Pak Zaenal Barokah, Warungboto Umbulharjo          Indonesia   \n48              Bakso Urat & Mie Ayam Rizky, Sorogenen          Indonesia   \n53                                   Kantin Mama Mirza          Indonesia   \n75   Pecel Lele, Rawon Dan Soto Lamongan Yuk In, Gi...          Indonesia   \n78                            Soto Ayam 61, Gondomanan          Indonesia   \n79       Seblak Mang Cepot & Baso Aci Hoax, Umbulharjo          Indonesia   \n81       Bakso Lontong Djeng Thathit, Suryodiningratan          Indonesia   \n82               Bakso Urat Arema Soringin, Langensari          Indonesia   \n92        Tahu Walik & Soto Warisan, Masjid Umbulharjo          Indonesia   \n108                    Warung Makan Bu Sri, Umbulharjo          Indonesia   \n110                 SGPC Sop Penyetan Bu Wiryo Cendana          Indonesia   \n112             Mie Ayam Dan Bakso Babaran, Umbulharjo          Indonesia   \n131   Bakso dan Mie Ayam Muncul, Jl. Nyi Wiji Adhisoro          Indonesia   \n133                    Warung Makan Bu Week, Tegalturi          Indonesia   \n156              Mie Ayam Goreng & Gado-gado Om Brewok          Indonesia   \n158                        Soto Pak Zaenal, Dr. Supomo          Indonesia   \n160                 Soto Ayam Jadul Mak Yem, Sorogenen          Indonesia   \n175                                Soto Ayam Pak Satar          Indonesia   \n176     Mie Ayam Sae Raos, Jl Sidikan No. 71 Sorosutan          Indonesia   \n177              Happy Juice & Soto Padang, Umbulharjo          Indonesia   \n196                           Soto Lamongan Cak Mangku          Indonesia   \n197                          Soto Bu Kamto, Umbulharjo          Indonesia   \n198     Bakso Ceker Mercon dan Penyetan Mayang Sidikan          Indonesia   \n225         Mie Ayam Dan Bakso Urat Sari Roso Wonogiri          Indonesia   \n232              Bakso Urat dan Mie Ayam Krowal Krowel          Indonesia   \n244                                       Bakso Rahayu          Indonesia   \n245              BAKSO URAT CAK EKA AREMA MALANG JATIM          Indonesia   \n266           Bakso Dan Mie Ayam Barokah 354 Sor Talok          Indonesia   \n268                Warung Sop dan Tongseng Ayam Family          Indonesia   \n269                                 Ono Dimsum, Timoho          Indonesia   \n270                             Bakso Dan Seblak Asgar          Indonesia   \n\n    Lokasi Restoran  avgPrice  Rating Jenis Suasana  \\\n1           3.01 km     19000     3.7        Santai   \n2           1.44 km     18000     3.6        Santai   \n5            3.1 km     16000     4.4        Santai   \n15          0.65 km     15000     4.5        Santai   \n48           1.5 km     17000     4.8        Santai   \n53          0.99 km     17000     4.2        Santai   \n75          1.38 km     15000     3.9        Santai   \n78          3.01 km     19000     4.5        Santai   \n79          0.53 km     19000     4.6        Santai   \n81          3.06 km     16000     4.0        Santai   \n82          3.02 km     19000     4.4        Santai   \n92          0.53 km     19000     4.6        Santai   \n108          1.1 km     13000     4.4        Santai   \n110         1.49 km     18000     4.8        Santai   \n112         0.29 km     17000     4.5        Santai   \n131         0.86 km     14000     4.5        Santai   \n133         1.37 km     15000     4.3        Santai   \n156          1.1 km     19000     4.6        Santai   \n158         0.86 km     15000     4.7        Santai   \n160         1.43 km     10000     4.6        Santai   \n175         0.31 km     13000     4.5        Santai   \n176         1.18 km     14000     4.2        Santai   \n177         0.77 km     18000     4.5        Santai   \n196         1.34 km     18000     4.6        Santai   \n197         0.93 km     15000     4.4        Santai   \n198         0.78 km     18000     4.0        Santai   \n225         0.25 km     17000     4.7        Santai   \n232         1.38 km     15000     3.5        Santai   \n244         1.47 km     14000     4.5        Santai   \n245         3.01 km     16000     4.4        Santai   \n266         0.75 km     16000     4.6        Santai   \n268          3.1 km     17000     4.2        Santai   \n269         2.84 km     17000     4.6        Santai   \n270         0.51 km     17000     4.6        Santai   \n\n    Toko Sering Diskon (Ya/Tidak) Variasi Makanan  \\\n1                           Tidak               3   \n2                           Tidak               3   \n5                           Tidak               3   \n15                          Tidak               2   \n48                          Tidak               2   \n53                          Tidak               3   \n75                          Tidak               2   \n78                          Tidak               2   \n79                             Ya               3   \n81                          Tidak               1   \n82                          Tidak               1   \n92                          Tidak               3   \n108                         Tidak               3   \n110                         Tidak               2   \n112                         Tidak               2   \n131                         Tidak               1   \n133                         Tidak               2   \n156                         Tidak               3   \n158                         Tidak               1   \n160                         Tidak               2   \n175                         Tidak               1   \n176                         Tidak               2   \n177                         Tidak               2   \n196                         Tidak               1   \n197                         Tidak               3   \n198                            Ya               3   \n225                            Ya               1   \n232                         Tidak               3   \n244                         Tidak               1   \n245                         Tidak               1   \n266                         Tidak               2   \n268                         Tidak               2   \n269                         Tidak               3   \n270                            Ya               3   \n\n    Pelayanan Khusus Pasangan (Ya/Tidak)  Entertainment  Keramaian Restoran  \\\n1                                  Tidak              2                   2   \n2                                  Tidak              2                   2   \n5                                  Tidak              4                   3   \n15                                 Tidak              4                   2   \n48                                 Tidak              2                   2   \n53                                 Tidak              3                   2   \n75                                 Tidak              3                   2   \n78                                 Tidak              4                   1   \n79                                 Tidak              3                   3   \n81                                 Tidak              4                   3   \n82                                 Tidak              3                   2   \n92                                 Tidak              3                   2   \n108                                Tidak              1                   3   \n110                                Tidak              3                   3   \n112                                Tidak              3                   2   \n131                                Tidak              1                   3   \n133                                Tidak              4                   3   \n156                                Tidak              1                   3   \n158                                Tidak              2                   1   \n160                                Tidak              1                   3   \n175                                Tidak              3                   2   \n176                                Tidak              1                   2   \n177                                Tidak              1                   2   \n196                                Tidak              1                   1   \n197                                Tidak              3                   1   \n198                                Tidak              1                   2   \n225                                Tidak              4                   2   \n232                                Tidak              1                   3   \n244                                Tidak              1                   1   \n245                                Tidak              4                   3   \n266                                Tidak              2                   1   \n268                                Tidak              2                   3   \n269                                Tidak              4                   1   \n270                                Tidak              3                   1   \n\n    Disajikan atau Ambil Sendiri All You Can Eat atau Ala Carte  rating  \n1                      Disajikan                      Ala Carte     3.7  \n2                      Disajikan                      Ala Carte     3.6  \n5                      Disajikan                      Ala Carte     4.4  \n15                     Disajikan                      Ala Carte     4.5  \n48                     Disajikan                      Ala Carte     4.8  \n53                     Disajikan                      Ala Carte     4.2  \n75                     Disajikan                      Ala Carte     3.9  \n78                     Disajikan                      Ala Carte     4.5  \n79                     Disajikan                      Ala Carte     4.6  \n81                     Disajikan                      Ala Carte     4.0  \n82                     Disajikan                      Ala Carte     4.4  \n92                     Disajikan                      Ala Carte     4.6  \n108                    Disajikan                      Ala Carte     4.4  \n110                    Disajikan                      Ala Carte     4.8  \n112                    Disajikan                      Ala Carte     4.5  \n131                    Disajikan                      Ala Carte     4.5  \n133                    Disajikan                      Ala Carte     4.3  \n156                    Disajikan                      Ala Carte     4.6  \n158                    Disajikan                      Ala Carte     4.7  \n160                    Disajikan                      Ala Carte     4.6  \n175                    Disajikan                      Ala Carte     4.5  \n176                    Disajikan                      Ala Carte     4.2  \n177                    Disajikan                      Ala Carte     4.5  \n196                    Disajikan                      Ala Carte     4.6  \n197                    Disajikan                      Ala Carte     4.4  \n198                    Disajikan                      Ala Carte     4.0  \n225                    Disajikan                      Ala Carte     4.7  \n232                    Disajikan                      Ala Carte     3.5  \n244                    Disajikan                      Ala Carte     4.5  \n245                    Disajikan                      Ala Carte     4.4  \n266                    Disajikan                      Ala Carte     4.6  \n268                    Disajikan                      Ala Carte     4.2  \n269                    Disajikan                      Ala Carte     4.6  \n270                    Disajikan                      Ala Carte     4.6  ",
      "text/html": "<div>\n<style scoped>\n    .dataframe tbody tr th:only-of-type {\n        vertical-align: middle;\n    }\n\n    .dataframe tbody tr th {\n        vertical-align: top;\n    }\n\n    .dataframe thead th {\n        text-align: right;\n    }\n</style>\n<table border=\"1\" class=\"dataframe\">\n  <thead>\n    <tr style=\"text-align: right;\">\n      <th></th>\n      <th>Nama Restoran</th>\n      <th>Preferensi Makanan</th>\n      <th>Lokasi Restoran</th>\n      <th>avgPrice</th>\n      <th>Rating</th>\n      <th>Jenis Suasana</th>\n      <th>Toko Sering Diskon (Ya/Tidak)</th>\n      <th>Variasi Makanan</th>\n      <th>Pelayanan Khusus Pasangan (Ya/Tidak)</th>\n      <th>Entertainment</th>\n      <th>Keramaian Restoran</th>\n      <th>Disajikan atau Ambil Sendiri</th>\n      <th>All You Can Eat atau Ala Carte</th>\n      <th>rating</th>\n    </tr>\n  </thead>\n  <tbody>\n    <tr>\n      <th>1</th>\n      <td>Soto Tauco Pekalongan Bu Iswi, Jalan Bimokurdo...</td>\n      <td>Indonesia</td>\n      <td>3.01 km</td>\n      <td>19000</td>\n      <td>3.7</td>\n      <td>Santai</td>\n      <td>Tidak</td>\n      <td>3</td>\n      <td>Tidak</td>\n      <td>2</td>\n      <td>2</td>\n      <td>Disajikan</td>\n      <td>Ala Carte</td>\n      <td>3.7</td>\n    </tr>\n    <tr>\n      <th>2</th>\n      <td>Spesial Bakso Pak Jum Balai Kota, Umbulharjo</td>\n      <td>Indonesia</td>\n      <td>1.44 km</td>\n      <td>18000</td>\n      <td>3.6</td>\n      <td>Santai</td>\n      <td>Tidak</td>\n      <td>3</td>\n      <td>Tidak</td>\n      <td>2</td>\n      <td>2</td>\n      <td>Disajikan</td>\n      <td>Ala Carte</td>\n      <td>3.6</td>\n    </tr>\n    <tr>\n      <th>5</th>\n      <td>Sop Ayam Klaten, Mantrijeron</td>\n      <td>Indonesia</td>\n      <td>3.1 km</td>\n      <td>16000</td>\n      <td>4.4</td>\n      <td>Santai</td>\n      <td>Tidak</td>\n      <td>3</td>\n      <td>Tidak</td>\n      <td>4</td>\n      <td>3</td>\n      <td>Disajikan</td>\n      <td>Ala Carte</td>\n      <td>4.4</td>\n    </tr>\n    <tr>\n      <th>15</th>\n      <td>Soto Pak Zaenal Barokah, Warungboto Umbulharjo</td>\n      <td>Indonesia</td>\n      <td>0.65 km</td>\n      <td>15000</td>\n      <td>4.5</td>\n      <td>Santai</td>\n      <td>Tidak</td>\n      <td>2</td>\n      <td>Tidak</td>\n      <td>4</td>\n      <td>2</td>\n      <td>Disajikan</td>\n      <td>Ala Carte</td>\n      <td>4.5</td>\n    </tr>\n    <tr>\n      <th>48</th>\n      <td>Bakso Urat &amp; Mie Ayam Rizky, Sorogenen</td>\n      <td>Indonesia</td>\n      <td>1.5 km</td>\n      <td>17000</td>\n      <td>4.8</td>\n      <td>Santai</td>\n      <td>Tidak</td>\n      <td>2</td>\n      <td>Tidak</td>\n      <td>2</td>\n      <td>2</td>\n      <td>Disajikan</td>\n      <td>Ala Carte</td>\n      <td>4.8</td>\n    </tr>\n    <tr>\n      <th>53</th>\n      <td>Kantin Mama Mirza</td>\n      <td>Indonesia</td>\n      <td>0.99 km</td>\n      <td>17000</td>\n      <td>4.2</td>\n      <td>Santai</td>\n      <td>Tidak</td>\n      <td>3</td>\n      <td>Tidak</td>\n      <td>3</td>\n      <td>2</td>\n      <td>Disajikan</td>\n      <td>Ala Carte</td>\n      <td>4.2</td>\n    </tr>\n    <tr>\n      <th>75</th>\n      <td>Pecel Lele, Rawon Dan Soto Lamongan Yuk In, Gi...</td>\n      <td>Indonesia</td>\n      <td>1.38 km</td>\n      <td>15000</td>\n      <td>3.9</td>\n      <td>Santai</td>\n      <td>Tidak</td>\n      <td>2</td>\n      <td>Tidak</td>\n      <td>3</td>\n      <td>2</td>\n      <td>Disajikan</td>\n      <td>Ala Carte</td>\n      <td>3.9</td>\n    </tr>\n    <tr>\n      <th>78</th>\n      <td>Soto Ayam 61, Gondomanan</td>\n      <td>Indonesia</td>\n      <td>3.01 km</td>\n      <td>19000</td>\n      <td>4.5</td>\n      <td>Santai</td>\n      <td>Tidak</td>\n      <td>2</td>\n      <td>Tidak</td>\n      <td>4</td>\n      <td>1</td>\n      <td>Disajikan</td>\n      <td>Ala Carte</td>\n      <td>4.5</td>\n    </tr>\n    <tr>\n      <th>79</th>\n      <td>Seblak Mang Cepot &amp; Baso Aci Hoax, Umbulharjo</td>\n      <td>Indonesia</td>\n      <td>0.53 km</td>\n      <td>19000</td>\n      <td>4.6</td>\n      <td>Santai</td>\n      <td>Ya</td>\n      <td>3</td>\n      <td>Tidak</td>\n      <td>3</td>\n      <td>3</td>\n      <td>Disajikan</td>\n      <td>Ala Carte</td>\n      <td>4.6</td>\n    </tr>\n    <tr>\n      <th>81</th>\n      <td>Bakso Lontong Djeng Thathit, Suryodiningratan</td>\n      <td>Indonesia</td>\n      <td>3.06 km</td>\n      <td>16000</td>\n      <td>4.0</td>\n      <td>Santai</td>\n      <td>Tidak</td>\n      <td>1</td>\n      <td>Tidak</td>\n      <td>4</td>\n      <td>3</td>\n      <td>Disajikan</td>\n      <td>Ala Carte</td>\n      <td>4.0</td>\n    </tr>\n    <tr>\n      <th>82</th>\n      <td>Bakso Urat Arema Soringin, Langensari</td>\n      <td>Indonesia</td>\n      <td>3.02 km</td>\n      <td>19000</td>\n      <td>4.4</td>\n      <td>Santai</td>\n      <td>Tidak</td>\n      <td>1</td>\n      <td>Tidak</td>\n      <td>3</td>\n      <td>2</td>\n      <td>Disajikan</td>\n      <td>Ala Carte</td>\n      <td>4.4</td>\n    </tr>\n    <tr>\n      <th>92</th>\n      <td>Tahu Walik &amp; Soto Warisan, Masjid Umbulharjo</td>\n      <td>Indonesia</td>\n      <td>0.53 km</td>\n      <td>19000</td>\n      <td>4.6</td>\n      <td>Santai</td>\n      <td>Tidak</td>\n      <td>3</td>\n      <td>Tidak</td>\n      <td>3</td>\n      <td>2</td>\n      <td>Disajikan</td>\n      <td>Ala Carte</td>\n      <td>4.6</td>\n    </tr>\n    <tr>\n      <th>108</th>\n      <td>Warung Makan Bu Sri, Umbulharjo</td>\n      <td>Indonesia</td>\n      <td>1.1 km</td>\n      <td>13000</td>\n      <td>4.4</td>\n      <td>Santai</td>\n      <td>Tidak</td>\n      <td>3</td>\n      <td>Tidak</td>\n      <td>1</td>\n      <td>3</td>\n      <td>Disajikan</td>\n      <td>Ala Carte</td>\n      <td>4.4</td>\n    </tr>\n    <tr>\n      <th>110</th>\n      <td>SGPC Sop Penyetan Bu Wiryo Cendana</td>\n      <td>Indonesia</td>\n      <td>1.49 km</td>\n      <td>18000</td>\n      <td>4.8</td>\n      <td>Santai</td>\n      <td>Tidak</td>\n      <td>2</td>\n      <td>Tidak</td>\n      <td>3</td>\n      <td>3</td>\n      <td>Disajikan</td>\n      <td>Ala Carte</td>\n      <td>4.8</td>\n    </tr>\n    <tr>\n      <th>112</th>\n      <td>Mie Ayam Dan Bakso Babaran, Umbulharjo</td>\n      <td>Indonesia</td>\n      <td>0.29 km</td>\n      <td>17000</td>\n      <td>4.5</td>\n      <td>Santai</td>\n      <td>Tidak</td>\n      <td>2</td>\n      <td>Tidak</td>\n      <td>3</td>\n      <td>2</td>\n      <td>Disajikan</td>\n      <td>Ala Carte</td>\n      <td>4.5</td>\n    </tr>\n    <tr>\n      <th>131</th>\n      <td>Bakso dan Mie Ayam Muncul, Jl. Nyi Wiji Adhisoro</td>\n      <td>Indonesia</td>\n      <td>0.86 km</td>\n      <td>14000</td>\n      <td>4.5</td>\n      <td>Santai</td>\n      <td>Tidak</td>\n      <td>1</td>\n      <td>Tidak</td>\n      <td>1</td>\n      <td>3</td>\n      <td>Disajikan</td>\n      <td>Ala Carte</td>\n      <td>4.5</td>\n    </tr>\n    <tr>\n      <th>133</th>\n      <td>Warung Makan Bu Week, Tegalturi</td>\n      <td>Indonesia</td>\n      <td>1.37 km</td>\n      <td>15000</td>\n      <td>4.3</td>\n      <td>Santai</td>\n      <td>Tidak</td>\n      <td>2</td>\n      <td>Tidak</td>\n      <td>4</td>\n      <td>3</td>\n      <td>Disajikan</td>\n      <td>Ala Carte</td>\n      <td>4.3</td>\n    </tr>\n    <tr>\n      <th>156</th>\n      <td>Mie Ayam Goreng &amp; Gado-gado Om Brewok</td>\n      <td>Indonesia</td>\n      <td>1.1 km</td>\n      <td>19000</td>\n      <td>4.6</td>\n      <td>Santai</td>\n      <td>Tidak</td>\n      <td>3</td>\n      <td>Tidak</td>\n      <td>1</td>\n      <td>3</td>\n      <td>Disajikan</td>\n      <td>Ala Carte</td>\n      <td>4.6</td>\n    </tr>\n    <tr>\n      <th>158</th>\n      <td>Soto Pak Zaenal, Dr. Supomo</td>\n      <td>Indonesia</td>\n      <td>0.86 km</td>\n      <td>15000</td>\n      <td>4.7</td>\n      <td>Santai</td>\n      <td>Tidak</td>\n      <td>1</td>\n      <td>Tidak</td>\n      <td>2</td>\n      <td>1</td>\n      <td>Disajikan</td>\n      <td>Ala Carte</td>\n      <td>4.7</td>\n    </tr>\n    <tr>\n      <th>160</th>\n      <td>Soto Ayam Jadul Mak Yem, Sorogenen</td>\n      <td>Indonesia</td>\n      <td>1.43 km</td>\n      <td>10000</td>\n      <td>4.6</td>\n      <td>Santai</td>\n      <td>Tidak</td>\n      <td>2</td>\n      <td>Tidak</td>\n      <td>1</td>\n      <td>3</td>\n      <td>Disajikan</td>\n      <td>Ala Carte</td>\n      <td>4.6</td>\n    </tr>\n    <tr>\n      <th>175</th>\n      <td>Soto Ayam Pak Satar</td>\n      <td>Indonesia</td>\n      <td>0.31 km</td>\n      <td>13000</td>\n      <td>4.5</td>\n      <td>Santai</td>\n      <td>Tidak</td>\n      <td>1</td>\n      <td>Tidak</td>\n      <td>3</td>\n      <td>2</td>\n      <td>Disajikan</td>\n      <td>Ala Carte</td>\n      <td>4.5</td>\n    </tr>\n    <tr>\n      <th>176</th>\n      <td>Mie Ayam Sae Raos, Jl Sidikan No. 71 Sorosutan</td>\n      <td>Indonesia</td>\n      <td>1.18 km</td>\n      <td>14000</td>\n      <td>4.2</td>\n      <td>Santai</td>\n      <td>Tidak</td>\n      <td>2</td>\n      <td>Tidak</td>\n      <td>1</td>\n      <td>2</td>\n      <td>Disajikan</td>\n      <td>Ala Carte</td>\n      <td>4.2</td>\n    </tr>\n    <tr>\n      <th>177</th>\n      <td>Happy Juice &amp; Soto Padang, Umbulharjo</td>\n      <td>Indonesia</td>\n      <td>0.77 km</td>\n      <td>18000</td>\n      <td>4.5</td>\n      <td>Santai</td>\n      <td>Tidak</td>\n      <td>2</td>\n      <td>Tidak</td>\n      <td>1</td>\n      <td>2</td>\n      <td>Disajikan</td>\n      <td>Ala Carte</td>\n      <td>4.5</td>\n    </tr>\n    <tr>\n      <th>196</th>\n      <td>Soto Lamongan Cak Mangku</td>\n      <td>Indonesia</td>\n      <td>1.34 km</td>\n      <td>18000</td>\n      <td>4.6</td>\n      <td>Santai</td>\n      <td>Tidak</td>\n      <td>1</td>\n      <td>Tidak</td>\n      <td>1</td>\n      <td>1</td>\n      <td>Disajikan</td>\n      <td>Ala Carte</td>\n      <td>4.6</td>\n    </tr>\n    <tr>\n      <th>197</th>\n      <td>Soto Bu Kamto, Umbulharjo</td>\n      <td>Indonesia</td>\n      <td>0.93 km</td>\n      <td>15000</td>\n      <td>4.4</td>\n      <td>Santai</td>\n      <td>Tidak</td>\n      <td>3</td>\n      <td>Tidak</td>\n      <td>3</td>\n      <td>1</td>\n      <td>Disajikan</td>\n      <td>Ala Carte</td>\n      <td>4.4</td>\n    </tr>\n    <tr>\n      <th>198</th>\n      <td>Bakso Ceker Mercon dan Penyetan Mayang Sidikan</td>\n      <td>Indonesia</td>\n      <td>0.78 km</td>\n      <td>18000</td>\n      <td>4.0</td>\n      <td>Santai</td>\n      <td>Ya</td>\n      <td>3</td>\n      <td>Tidak</td>\n      <td>1</td>\n      <td>2</td>\n      <td>Disajikan</td>\n      <td>Ala Carte</td>\n      <td>4.0</td>\n    </tr>\n    <tr>\n      <th>225</th>\n      <td>Mie Ayam Dan Bakso Urat Sari Roso Wonogiri</td>\n      <td>Indonesia</td>\n      <td>0.25 km</td>\n      <td>17000</td>\n      <td>4.7</td>\n      <td>Santai</td>\n      <td>Ya</td>\n      <td>1</td>\n      <td>Tidak</td>\n      <td>4</td>\n      <td>2</td>\n      <td>Disajikan</td>\n      <td>Ala Carte</td>\n      <td>4.7</td>\n    </tr>\n    <tr>\n      <th>232</th>\n      <td>Bakso Urat dan Mie Ayam Krowal Krowel</td>\n      <td>Indonesia</td>\n      <td>1.38 km</td>\n      <td>15000</td>\n      <td>3.5</td>\n      <td>Santai</td>\n      <td>Tidak</td>\n      <td>3</td>\n      <td>Tidak</td>\n      <td>1</td>\n      <td>3</td>\n      <td>Disajikan</td>\n      <td>Ala Carte</td>\n      <td>3.5</td>\n    </tr>\n    <tr>\n      <th>244</th>\n      <td>Bakso Rahayu</td>\n      <td>Indonesia</td>\n      <td>1.47 km</td>\n      <td>14000</td>\n      <td>4.5</td>\n      <td>Santai</td>\n      <td>Tidak</td>\n      <td>1</td>\n      <td>Tidak</td>\n      <td>1</td>\n      <td>1</td>\n      <td>Disajikan</td>\n      <td>Ala Carte</td>\n      <td>4.5</td>\n    </tr>\n    <tr>\n      <th>245</th>\n      <td>BAKSO URAT CAK EKA AREMA MALANG JATIM</td>\n      <td>Indonesia</td>\n      <td>3.01 km</td>\n      <td>16000</td>\n      <td>4.4</td>\n      <td>Santai</td>\n      <td>Tidak</td>\n      <td>1</td>\n      <td>Tidak</td>\n      <td>4</td>\n      <td>3</td>\n      <td>Disajikan</td>\n      <td>Ala Carte</td>\n      <td>4.4</td>\n    </tr>\n    <tr>\n      <th>266</th>\n      <td>Bakso Dan Mie Ayam Barokah 354 Sor Talok</td>\n      <td>Indonesia</td>\n      <td>0.75 km</td>\n      <td>16000</td>\n      <td>4.6</td>\n      <td>Santai</td>\n      <td>Tidak</td>\n      <td>2</td>\n      <td>Tidak</td>\n      <td>2</td>\n      <td>1</td>\n      <td>Disajikan</td>\n      <td>Ala Carte</td>\n      <td>4.6</td>\n    </tr>\n    <tr>\n      <th>268</th>\n      <td>Warung Sop dan Tongseng Ayam Family</td>\n      <td>Indonesia</td>\n      <td>3.1 km</td>\n      <td>17000</td>\n      <td>4.2</td>\n      <td>Santai</td>\n      <td>Tidak</td>\n      <td>2</td>\n      <td>Tidak</td>\n      <td>2</td>\n      <td>3</td>\n      <td>Disajikan</td>\n      <td>Ala Carte</td>\n      <td>4.2</td>\n    </tr>\n    <tr>\n      <th>269</th>\n      <td>Ono Dimsum, Timoho</td>\n      <td>Indonesia</td>\n      <td>2.84 km</td>\n      <td>17000</td>\n      <td>4.6</td>\n      <td>Santai</td>\n      <td>Tidak</td>\n      <td>3</td>\n      <td>Tidak</td>\n      <td>4</td>\n      <td>1</td>\n      <td>Disajikan</td>\n      <td>Ala Carte</td>\n      <td>4.6</td>\n    </tr>\n    <tr>\n      <th>270</th>\n      <td>Bakso Dan Seblak Asgar</td>\n      <td>Indonesia</td>\n      <td>0.51 km</td>\n      <td>17000</td>\n      <td>4.6</td>\n      <td>Santai</td>\n      <td>Ya</td>\n      <td>3</td>\n      <td>Tidak</td>\n      <td>3</td>\n      <td>1</td>\n      <td>Disajikan</td>\n      <td>Ala Carte</td>\n      <td>4.6</td>\n    </tr>\n  </tbody>\n</table>\n</div>"
     },
     "execution_count": 102,
     "metadata": {},
     "output_type": "execute_result"
    }
   ],
   "source": [
    "# Ambil harga makanan khas Indonesia under 20 rb\n",
    "df[(df['Preferensi Makanan'] == 'Indonesia') & (df['avgPrice'] < 20000)]"
   ],
   "metadata": {
    "collapsed": false,
    "ExecuteTime": {
     "end_time": "2023-07-23T00:27:36.665359100Z",
     "start_time": "2023-07-23T00:27:36.321204900Z"
    }
   }
  },
  {
   "cell_type": "code",
   "execution_count": 103,
   "outputs": [],
   "source": [
    "# Ambil harga makanan khas Indonesia termahal\n",
    "ind_res = df[(df['Preferensi Makanan'] == 'Indonesia')].sort_values(by=['avgPrice', 'rating'], ascending=False).head(10)"
   ],
   "metadata": {
    "collapsed": false,
    "ExecuteTime": {
     "end_time": "2023-07-23T00:27:36.665359100Z",
     "start_time": "2023-07-23T00:27:36.368729700Z"
    }
   }
  },
  {
   "cell_type": "code",
   "execution_count": 104,
   "outputs": [],
   "source": [
    "# plot ind_res\n"
   ],
   "metadata": {
    "collapsed": false,
    "ExecuteTime": {
     "end_time": "2023-07-23T00:27:36.665359100Z",
     "start_time": "2023-07-23T00:27:36.383728900Z"
    }
   }
  },
  {
   "cell_type": "code",
   "execution_count": 105,
   "outputs": [
    {
     "data": {
      "text/plain": "                                        Nama Restoran Preferensi Makanan  \\\n160                Soto Ayam Jadul Mak Yem, Sorogenen          Indonesia   \n67                       Kedai Jagoan Moy-Moy, Tamsis            Chinese   \n152                      Twisted Noodle, Gondokusuman            Chinese   \n175                               Soto Ayam Pak Satar          Indonesia   \n108                   Warung Makan Bu Sri, Umbulharjo          Indonesia   \n131  Bakso dan Mie Ayam Muncul, Jl. Nyi Wiji Adhisoro          Indonesia   \n244                                      Bakso Rahayu          Indonesia   \n176    Mie Ayam Sae Raos, Jl Sidikan No. 71 Sorosutan          Indonesia   \n158                       Soto Pak Zaenal, Dr. Supomo          Indonesia   \n15     Soto Pak Zaenal Barokah, Warungboto Umbulharjo          Indonesia   \n\n    Lokasi Restoran  avgPrice  Rating Jenis Suasana  \\\n160         1.43 km     10000     4.6        Santai   \n67          1.32 km     12000     4.7        Santai   \n152         3.54 km     12000     4.6        Santai   \n175         0.31 km     13000     4.5        Santai   \n108          1.1 km     13000     4.4        Santai   \n131         0.86 km     14000     4.5        Santai   \n244         1.47 km     14000     4.5        Santai   \n176         1.18 km     14000     4.2        Santai   \n158         0.86 km     15000     4.7        Santai   \n15          0.65 km     15000     4.5        Santai   \n\n    Toko Sering Diskon (Ya/Tidak) Variasi Makanan  \\\n160                         Tidak               2   \n67                          Tidak               2   \n152                         Tidak               2   \n175                         Tidak               1   \n108                         Tidak               3   \n131                         Tidak               1   \n244                         Tidak               1   \n176                         Tidak               2   \n158                         Tidak               1   \n15                          Tidak               2   \n\n    Pelayanan Khusus Pasangan (Ya/Tidak)  Entertainment  Keramaian Restoran  \\\n160                                Tidak              1                   3   \n67                                 Tidak              4                   2   \n152                                   Ya              2                   2   \n175                                Tidak              3                   2   \n108                                Tidak              1                   3   \n131                                Tidak              1                   3   \n244                                Tidak              1                   1   \n176                                Tidak              1                   2   \n158                                Tidak              2                   1   \n15                                 Tidak              4                   2   \n\n    Disajikan atau Ambil Sendiri All You Can Eat atau Ala Carte  rating  \n160                    Disajikan                      Ala Carte     4.6  \n67                     Disajikan                      Ala Carte     4.7  \n152                    Disajikan                      Ala Carte     4.6  \n175                    Disajikan                      Ala Carte     4.5  \n108                    Disajikan                      Ala Carte     4.4  \n131                    Disajikan                      Ala Carte     4.5  \n244                    Disajikan                      Ala Carte     4.5  \n176                    Disajikan                      Ala Carte     4.2  \n158                    Disajikan                      Ala Carte     4.7  \n15                     Disajikan                      Ala Carte     4.5  ",
      "text/html": "<div>\n<style scoped>\n    .dataframe tbody tr th:only-of-type {\n        vertical-align: middle;\n    }\n\n    .dataframe tbody tr th {\n        vertical-align: top;\n    }\n\n    .dataframe thead th {\n        text-align: right;\n    }\n</style>\n<table border=\"1\" class=\"dataframe\">\n  <thead>\n    <tr style=\"text-align: right;\">\n      <th></th>\n      <th>Nama Restoran</th>\n      <th>Preferensi Makanan</th>\n      <th>Lokasi Restoran</th>\n      <th>avgPrice</th>\n      <th>Rating</th>\n      <th>Jenis Suasana</th>\n      <th>Toko Sering Diskon (Ya/Tidak)</th>\n      <th>Variasi Makanan</th>\n      <th>Pelayanan Khusus Pasangan (Ya/Tidak)</th>\n      <th>Entertainment</th>\n      <th>Keramaian Restoran</th>\n      <th>Disajikan atau Ambil Sendiri</th>\n      <th>All You Can Eat atau Ala Carte</th>\n      <th>rating</th>\n    </tr>\n  </thead>\n  <tbody>\n    <tr>\n      <th>160</th>\n      <td>Soto Ayam Jadul Mak Yem, Sorogenen</td>\n      <td>Indonesia</td>\n      <td>1.43 km</td>\n      <td>10000</td>\n      <td>4.6</td>\n      <td>Santai</td>\n      <td>Tidak</td>\n      <td>2</td>\n      <td>Tidak</td>\n      <td>1</td>\n      <td>3</td>\n      <td>Disajikan</td>\n      <td>Ala Carte</td>\n      <td>4.6</td>\n    </tr>\n    <tr>\n      <th>67</th>\n      <td>Kedai Jagoan Moy-Moy, Tamsis</td>\n      <td>Chinese</td>\n      <td>1.32 km</td>\n      <td>12000</td>\n      <td>4.7</td>\n      <td>Santai</td>\n      <td>Tidak</td>\n      <td>2</td>\n      <td>Tidak</td>\n      <td>4</td>\n      <td>2</td>\n      <td>Disajikan</td>\n      <td>Ala Carte</td>\n      <td>4.7</td>\n    </tr>\n    <tr>\n      <th>152</th>\n      <td>Twisted Noodle, Gondokusuman</td>\n      <td>Chinese</td>\n      <td>3.54 km</td>\n      <td>12000</td>\n      <td>4.6</td>\n      <td>Santai</td>\n      <td>Tidak</td>\n      <td>2</td>\n      <td>Ya</td>\n      <td>2</td>\n      <td>2</td>\n      <td>Disajikan</td>\n      <td>Ala Carte</td>\n      <td>4.6</td>\n    </tr>\n    <tr>\n      <th>175</th>\n      <td>Soto Ayam Pak Satar</td>\n      <td>Indonesia</td>\n      <td>0.31 km</td>\n      <td>13000</td>\n      <td>4.5</td>\n      <td>Santai</td>\n      <td>Tidak</td>\n      <td>1</td>\n      <td>Tidak</td>\n      <td>3</td>\n      <td>2</td>\n      <td>Disajikan</td>\n      <td>Ala Carte</td>\n      <td>4.5</td>\n    </tr>\n    <tr>\n      <th>108</th>\n      <td>Warung Makan Bu Sri, Umbulharjo</td>\n      <td>Indonesia</td>\n      <td>1.1 km</td>\n      <td>13000</td>\n      <td>4.4</td>\n      <td>Santai</td>\n      <td>Tidak</td>\n      <td>3</td>\n      <td>Tidak</td>\n      <td>1</td>\n      <td>3</td>\n      <td>Disajikan</td>\n      <td>Ala Carte</td>\n      <td>4.4</td>\n    </tr>\n    <tr>\n      <th>131</th>\n      <td>Bakso dan Mie Ayam Muncul, Jl. Nyi Wiji Adhisoro</td>\n      <td>Indonesia</td>\n      <td>0.86 km</td>\n      <td>14000</td>\n      <td>4.5</td>\n      <td>Santai</td>\n      <td>Tidak</td>\n      <td>1</td>\n      <td>Tidak</td>\n      <td>1</td>\n      <td>3</td>\n      <td>Disajikan</td>\n      <td>Ala Carte</td>\n      <td>4.5</td>\n    </tr>\n    <tr>\n      <th>244</th>\n      <td>Bakso Rahayu</td>\n      <td>Indonesia</td>\n      <td>1.47 km</td>\n      <td>14000</td>\n      <td>4.5</td>\n      <td>Santai</td>\n      <td>Tidak</td>\n      <td>1</td>\n      <td>Tidak</td>\n      <td>1</td>\n      <td>1</td>\n      <td>Disajikan</td>\n      <td>Ala Carte</td>\n      <td>4.5</td>\n    </tr>\n    <tr>\n      <th>176</th>\n      <td>Mie Ayam Sae Raos, Jl Sidikan No. 71 Sorosutan</td>\n      <td>Indonesia</td>\n      <td>1.18 km</td>\n      <td>14000</td>\n      <td>4.2</td>\n      <td>Santai</td>\n      <td>Tidak</td>\n      <td>2</td>\n      <td>Tidak</td>\n      <td>1</td>\n      <td>2</td>\n      <td>Disajikan</td>\n      <td>Ala Carte</td>\n      <td>4.2</td>\n    </tr>\n    <tr>\n      <th>158</th>\n      <td>Soto Pak Zaenal, Dr. Supomo</td>\n      <td>Indonesia</td>\n      <td>0.86 km</td>\n      <td>15000</td>\n      <td>4.7</td>\n      <td>Santai</td>\n      <td>Tidak</td>\n      <td>1</td>\n      <td>Tidak</td>\n      <td>2</td>\n      <td>1</td>\n      <td>Disajikan</td>\n      <td>Ala Carte</td>\n      <td>4.7</td>\n    </tr>\n    <tr>\n      <th>15</th>\n      <td>Soto Pak Zaenal Barokah, Warungboto Umbulharjo</td>\n      <td>Indonesia</td>\n      <td>0.65 km</td>\n      <td>15000</td>\n      <td>4.5</td>\n      <td>Santai</td>\n      <td>Tidak</td>\n      <td>2</td>\n      <td>Tidak</td>\n      <td>4</td>\n      <td>2</td>\n      <td>Disajikan</td>\n      <td>Ala Carte</td>\n      <td>4.5</td>\n    </tr>\n  </tbody>\n</table>\n</div>"
     },
     "execution_count": 105,
     "metadata": {},
     "output_type": "execute_result"
    }
   ],
   "source": [
    "# ambil makanan termurah dengan rating tertinggi\n",
    "df.sort_values(by=['avgPrice', 'rating'], ascending=[True, False]).head(10)"
   ],
   "metadata": {
    "collapsed": false,
    "ExecuteTime": {
     "end_time": "2023-07-23T00:27:36.665359100Z",
     "start_time": "2023-07-23T00:27:36.399743400Z"
    }
   }
  },
  {
   "cell_type": "markdown",
   "source": [
    "## Perbandingan Jenis Makanan Dengan Harga Makanan"
   ],
   "metadata": {
    "collapsed": false
   }
  },
  {
   "cell_type": "code",
   "execution_count": 106,
   "outputs": [],
   "source": [
    "data = {\n",
    "    \"Chinese\": [{'under20': 0}, {'under50': 0}, {'under100': 0}, {'over100': 0}],\n",
    "    \"Indonesia\": [{'under20': 0}, {'under50': 0}, {'under100': 0}, {'over100': 0}],\n",
    "    \"Western\": [{'under20': 0}, {'under50': 0}, {'under100': 0}, {'over100': 0}],\n",
    "    \"Japanese\": [{'under20': 0}, {'under50': 0}, {'under100': 0}, {'over100': 0}],\n",
    "    \"Middle Eastern\": [{'under20': 0}, {'under50': 0}, {'under100': 0}, {'over100': 0}],\n",
    "\n",
    "}\n",
    "\n",
    "for i in df['Preferensi Makanan'].unique().tolist():\n",
    "    under20 = df[(df['Preferensi Makanan'] == i) & (df['avgPrice'] < 20000)].count()['Preferensi Makanan']\n",
    "    under50 = df[(df['Preferensi Makanan'] == i) & (df['avgPrice'] >= 20000) & (df['avgPrice'] < 50000)].count()[\n",
    "        'Preferensi Makanan']\n",
    "    under100 = df[(df['Preferensi Makanan'] == i) & (df['avgPrice'] >= 50000) & (df['avgPrice'] < 100000)].count()[\n",
    "        'Preferensi Makanan']\n",
    "    over100 = df[(df['Preferensi Makanan'] == i) & (df['avgPrice'] >= 100000)].count()['Preferensi Makanan']\n",
    "    data[i][0]['under20'] = under20\n",
    "    data[i][1]['under50'] = under50\n",
    "    data[i][2]['under100'] = under100\n",
    "    data[i][3]['over100'] = over100\n"
   ],
   "metadata": {
    "collapsed": false,
    "ExecuteTime": {
     "end_time": "2023-07-23T00:27:36.709370600Z",
     "start_time": "2023-07-23T00:27:36.432750400Z"
    }
   }
  },
  {
   "cell_type": "markdown",
   "source": [],
   "metadata": {
    "collapsed": false
   }
  },
  {
   "cell_type": "code",
   "execution_count": 107,
   "outputs": [
    {
     "data": {
      "text/plain": "<Figure size 3000x1000 with 6 Axes>",
      "image/png": "[encoded data removed]"
     },
     "metadata": {},
     "output_type": "display_data"
    }
   ],
   "source": [
    "import matplotlib.pyplot as plt\n",
    "\n",
    "fig, axes = plt.subplots(nrows=2, ncols=3, figsize=(30, 10))\n",
    "fig.suptitle('Perbandingan Jenis Makanan Dengan Harga Makanan')\n",
    "\n",
    "# Chinese\n",
    "under20 = data['Chinese'][0]['under20']\n",
    "under50 = data['Chinese'][1]['under50']\n",
    "under100 = data['Chinese'][2]['under100']\n",
    "over100 = data['Chinese'][3]['over100']\n",
    "axes[0, 0].bar(['< 20.000', '>=20.000 - < 50.000', '>=50.000 - < 100.000', '> 100.000'], [under20, under50, under100, over100])\n",
    "axes[0, 0].set_title('Chinese')\n",
    "\n",
    "# Indonesia\n",
    "under20 = data['Indonesia'][0]['under20']\n",
    "under50 = data['Indonesia'][1]['under50']\n",
    "under100 = data['Indonesia'][2]['under100']\n",
    "over100 = data['Indonesia'][3]['over100']\n",
    "axes[0, 1].bar(['< 20.000', '>=20.000 - < 50.000', '>=50.000 - < 100.000', '> 100.000'], [under20, under50, under100, over100])\n",
    "axes[0, 1].set_title('Indonesia')\n",
    "\n",
    "# Western\n",
    "under20 = data['Western'][0]['under20']\n",
    "under50 = data['Western'][1]['under50']\n",
    "under100 = data['Western'][2]['under100']\n",
    "over100 = data['Western'][3]['over100']\n",
    "axes[0, 2].bar(['< 20.000', '>=20.000 - < 50.000', '>=50.000 - < 100.000', '> 100.000'], [under20, under50, under100, over100])\n",
    "axes[0, 2].set_title('Western')\n",
    "\n",
    "# Japanese\n",
    "under20 = data['Japanese'][0]['under20']\n",
    "under50 = data['Japanese'][1]['under50']\n",
    "under100 = data['Japanese'][2]['under100']\n",
    "over100 = data['Japanese'][3]['over100']\n",
    "axes[1, 0].bar(['< 20.000', '>=20.000 - < 50.000', '>=50.000 - < 100.000', '> 100.000'], [under20, under50, under100, over100])\n",
    "axes[1, 0].set_title('Japanese')\n",
    "\n",
    "# Middle Eastern\n",
    "under20 = data['Middle Eastern'][0]['under20']\n",
    "under50 = data['Middle Eastern'][1]['under50']\n",
    "under100 = data['Middle Eastern'][2]['under100']\n",
    "over100 = data['Middle Eastern'][3]['over100']\n",
    "axes[1, 1].bar(['< 20.000', '>=20.000 - < 50.000', '>=50.000 - < 100.000', '> 100.000'], [under20, under50, under100, over100])\n",
    "axes[1, 1].set_title('Middle Eastern')\n",
    "\n",
    "axes[1, 2].axis('off')\n",
    "plt.show()\n"
   ],
   "metadata": {
    "collapsed": false,
    "ExecuteTime": {
     "end_time": "2023-07-23T00:27:37.461483700Z",
     "start_time": "2023-07-23T00:27:36.503271500Z"
    }
   }
  },
  {
   "cell_type": "code",
   "execution_count": 107,
   "outputs": [],
   "source": [],
   "metadata": {
    "collapsed": false,
    "ExecuteTime": {
     "end_time": "2023-07-23T00:27:37.472484100Z",
     "start_time": "2023-07-23T00:27:37.463484100Z"
    }
   }
  },
  {
   "cell_type": "markdown",
   "source": [
    "### Raw"
   ],
   "metadata": {
    "collapsed": false
   }
  },
  {
   "cell_type": "code",
   "execution_count": 108,
   "outputs": [
    {
     "data": {
      "text/plain": "{'Chinese': [{'under20': 5}, {'under50': 40}, {'under100': 3}, {'over100': 2}],\n 'Indonesia': [{'under20': 34},\n  {'under50': 27},\n  {'under100': 1},\n  {'over100': 0}],\n 'Western': [{'under20': 6},\n  {'under50': 65},\n  {'under100': 14},\n  {'over100': 6}],\n 'Japanese': [{'under20': 4},\n  {'under50': 53},\n  {'under100': 26},\n  {'over100': 4}],\n 'Middle Eastern': [{'under20': 0},\n  {'under50': 1},\n  {'under100': 0},\n  {'over100': 0}]}"
     },
     "execution_count": 108,
     "metadata": {},
     "output_type": "execute_result"
    }
   ],
   "source": [
    "data"
   ],
   "metadata": {
    "collapsed": false,
    "ExecuteTime": {
     "end_time": "2023-07-23T00:27:37.889048700Z",
     "start_time": "2023-07-23T00:27:37.475484700Z"
    }
   }
  },
  {
   "cell_type": "markdown",
   "source": [],
   "metadata": {
    "collapsed": false
   }
  },
  {
   "cell_type": "markdown",
   "source": [
    "## Persentase Variasi Makanan"
   ],
   "metadata": {
    "collapsed": false
   }
  },
  {
   "cell_type": "code",
   "execution_count": 109,
   "outputs": [],
   "source": [
    "data = {\n",
    "    \"Chinese\": {\"min\": 0,\n",
    "                \"max\": 0,\n",
    "                \"mean\": 0},\n",
    "    \"Indonesia\": {\"min\": 0,\n",
    "                  \"max\": 0,\n",
    "                  \"mean\": 0},\n",
    "    \"Western\": {\"min\": 0,\n",
    "                \"max\": 0,\n",
    "                \"mean\": 0},\n",
    "    \"Japanese\": {\"min\": 0,\n",
    "                 \"max\": 0,\n",
    "                 \"mean\": 0},\n",
    "    \"Middle Eastern\": {\"min\": 0,\n",
    "                       \"max\": 0,\n",
    "                       \"mean\": 0}\n",
    "\n",
    "}\n",
    "\n",
    "for i in df['Preferensi Makanan'].unique().tolist():\n",
    "    data[i]['min'] = df[df['Preferensi Makanan'] == i]['Variasi Makanan'].min()\n",
    "    data[i]['max'] = df[df['Preferensi Makanan'] == i]['Variasi Makanan'].max()\n",
    "    data[i]['mean'] = df[df['Preferensi Makanan'] == i]['Variasi Makanan'].mean()"
   ],
   "metadata": {
    "collapsed": false,
    "ExecuteTime": {
     "end_time": "2023-07-23T00:27:37.915021500Z",
     "start_time": "2023-07-23T00:27:37.495381800Z"
    }
   }
  },
  {
   "cell_type": "code",
   "execution_count": 110,
   "outputs": [
    {
     "data": {
      "text/plain": "{'Chinese': {'min': 1, 'max': 4, 'mean': 2.7},\n 'Indonesia': {'min': 1, 'max': 4, 'mean': 2.225806451612903},\n 'Western': {'min': 1, 'max': 12, 'mean': 2.6483516483516483},\n 'Japanese': {'min': 1, 'max': 5, 'mean': 2.6551724137931036},\n 'Middle Eastern': {'min': 3, 'max': 3, 'mean': 3.0}}"
     },
     "execution_count": 110,
     "metadata": {},
     "output_type": "execute_result"
    }
   ],
   "source": [
    "data"
   ],
   "metadata": {
    "collapsed": false,
    "ExecuteTime": {
     "end_time": "2023-07-23T00:27:37.951864700Z",
     "start_time": "2023-07-23T00:27:37.522393Z"
    }
   }
  },
  {
   "cell_type": "code",
   "execution_count": 111,
   "outputs": [
    {
     "data": {
      "text/plain": "<Figure size 2000x500 with 3 Axes>",
      "image/png": "[encoded data removed]"
     },
     "metadata": {},
     "output_type": "display_data"
    }
   ],
   "source": [
    "# plot 5 data dengan 2 kolom di setiap baris menggunakan barplot\n",
    "# jadikan satu menjadi min, max, dan mean\n",
    "fig, axes = plt.subplots(nrows=1, ncols=3, figsize=(20, 5))\n",
    "fig.suptitle('Persentase Variasi Makanan')\n",
    "axes[0].bar(data.keys(), [data['Chinese']['min'], data['Indonesia']['min'], data['Western']['min'],\n",
    "                          data['Japanese']['min'], data['Middle Eastern']['min']])\n",
    "axes[0].set_title('Min')\n",
    "axes[1].bar(data.keys(), [data['Chinese']['max'], data['Indonesia']['max'], data['Western']['max'],\n",
    "                          data['Japanese']['max'], data['Middle Eastern']['max']])\n",
    "axes[1].set_title('Max')\n",
    "axes[2].bar(data.keys(), [data['Chinese']['mean'], data['Indonesia']['mean'], data['Western']['mean'],\n",
    "                          data['Japanese']['mean'], data['Middle Eastern']['mean']])\n",
    "axes[2].set_title('Mean')\n",
    "plt.show()\n"
   ],
   "metadata": {
    "collapsed": false,
    "ExecuteTime": {
     "end_time": "2023-07-23T00:27:38.075859500Z",
     "start_time": "2023-07-23T00:27:37.539924700Z"
    }
   }
  },
  {
   "cell_type": "code",
   "execution_count": 111,
   "outputs": [],
   "source": [],
   "metadata": {
    "collapsed": false,
    "ExecuteTime": {
     "end_time": "2023-07-23T00:27:38.075859500Z",
     "start_time": "2023-07-23T00:27:38.041847Z"
    }
   }
  }
 ],
 "metadata": {
  "kernelspec": {
   "display_name": "Python 3",
   "language": "python",
   "name": "python3"
  },
  "language_info": {
   "codemirror_mode": {
    "name": "ipython",
    "version": 2
   },
   "file_extension": ".py",
   "mimetype": "text/x-python",
   "name": "python",
   "nbconvert_exporter": "python",
   "pygments_lexer": "ipython2",
   "version": "2.7.6"
  }
 },
 "nbformat": 4,
 "nbformat_minor": 0
}
